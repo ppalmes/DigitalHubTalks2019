{
 "cells": [
  {
   "cell_type": "markdown",
   "metadata": {},
   "source": [
    "# Outline\n",
    "- ## Introduction to Julia\n",
    "- ## HPC in Julia\n",
    "- ## Julia in Data Science (with R and Python and Lale)\n",
    "- ## Use-case: Covid Data Explorations, ML Pipeline Optimization"
   ]
  },
  {
   "cell_type": "markdown",
   "metadata": {},
   "source": [
    "# What were the languages designed for?\n",
    "- ### Fortran: for HPC and technical computing (IBM, 1950s, 71 years ago)\n",
    "- ### LISP: for symbolic programming (MIT, 1958)\n",
    "- ### C: to write Unix OS (Bell labs,1970s, 50 years ago)\n",
    "- ### IDL: for data analysis (Univ. of Colorado, 1970s)\n",
    "- ### S or R: for statistical analysis (Bell labs, 1976, 45 years ago)\n",
    "- ### Matlab: for numerical computing (University of New Mexico, 1984)\n",
    "- ### C++: for system programming, embedded, large systems (Bell labs, 1978/1985)\n",
    "- ### PERL: for generating reports (Unisys, 1987)\n",
    "- ### Ruby: general purpose, object-oriented scripting language (University of Tsukuba, 1990, 30 years ago)\n",
    "- ### Java: cross-platform, hand-held devices, interactive television (Sun Microsystems, 1991, 30 years ago)\n",
    "- ### Python: general-purpose programming (Centrum Wiskunde & Informatica, 1991, 30 years ago)\n",
    "- ### Lua: for embedded systems, extend applications, customisation (Pontifical Catholic University, 1993)\n",
    "- ### Scala: as a better Java (EPFL, 2004)\n",
    "- ### Rust: designed for performance and safety, especially safe concurrency (Mozilla, 2012, 9 years ago)\n",
    "- ### Julia: optimised for HPC, scientific computing, general purpose programming (MIT, 2012, 9 years ago)¶"
   ]
  },
  {
   "cell_type": "markdown",
   "metadata": {},
   "source": [
    "# Programming\n",
    "\n",
    "- ### INPUT => PROCESS => OUTPUT\n",
    "\n",
    "- ### translating high-level language (for humans) into low-level language (for Machines)"
   ]
  },
  {
   "cell_type": "markdown",
   "metadata": {},
   "source": [
    "# Programming Language Types\n",
    "- ### Interpreter (R, Python, Perl) - highly interactive, real time translation\n",
    "     - #### REPL: Read, Eval, Print, Loop (line-by-line)\n",
    "- ### Compiler (Fotran, C, C++, Rust) - batch/offline translation\n",
    "- ### Bytecode Interpreter (Java, Scala) - batch/offline translation\n",
    "- ### Just-in-time Compiler (Julia, Lua) - highly interactive, just-in-time batch translation\n",
    "    - #### REPL: Read, Eval, Print, Loop (batch and cached)"
   ]
  },
  {
   "cell_type": "markdown",
   "metadata": {},
   "source": [
    "# Easy enough function to understand: $ sum(x) = \\sum_{i=1}^{n} x_{i} $"
   ]
  },
  {
   "cell_type": "code",
   "execution_count": 1,
   "metadata": {},
   "outputs": [
    {
     "data": {
      "text/plain": [
       "100000000-element Vector{Float64}:\n",
       " 0.6248736382530575\n",
       " 0.5009191391326739\n",
       " 0.9032790380829836\n",
       " 0.45422432675258007\n",
       " 0.8146554106489878\n",
       " 0.03794501481471335\n",
       " 0.11108903188910046\n",
       " 0.5952175064530325\n",
       " 0.27080496740684\n",
       " 0.09089249278069245\n",
       " 0.876082602652229\n",
       " 0.18081478697335363\n",
       " 0.959994321936569\n",
       " ⋮\n",
       " 0.050837588964610436\n",
       " 0.9948512978699344\n",
       " 0.34665704003282727\n",
       " 0.8395833159288137\n",
       " 0.9337302318403626\n",
       " 0.1297568738447783\n",
       " 0.10899095941929304\n",
       " 0.48856869639443357\n",
       " 0.34044038023828027\n",
       " 0.23715086701329402\n",
       " 0.2501391323263633\n",
       " 0.6039407870986666"
      ]
     },
     "execution_count": 1,
     "metadata": {},
     "output_type": "execute_result"
    }
   ],
   "source": [
    "x = rand(10^8)"
   ]
  },
  {
   "cell_type": "code",
   "execution_count": 2,
   "metadata": {},
   "outputs": [
    {
     "data": {
      "text/plain": [
       "jsum (generic function with 1 method)"
      ]
     },
     "execution_count": 2,
     "metadata": {},
     "output_type": "execute_result"
    }
   ],
   "source": [
    "function jsum(v)\n",
    "    s = 0\n",
    "    for i in v\n",
    "        s = s + i\n",
    "    end\n",
    "    return s\n",
    "end"
   ]
  },
  {
   "cell_type": "code",
   "execution_count": 12,
   "metadata": {},
   "outputs": [
    {
     "name": "stdout",
     "output_type": "stream",
     "text": [
      "  0.312313 seconds (1 allocation: 16 bytes)\n"
     ]
    },
    {
     "data": {
      "text/plain": [
       "5.0004465303068236e7"
      ]
     },
     "execution_count": 12,
     "metadata": {},
     "output_type": "execute_result"
    }
   ],
   "source": [
    "@time jsum(x)"
   ]
  },
  {
   "cell_type": "code",
   "execution_count": 4,
   "metadata": {
    "collapsed": true
   },
   "outputs": [
    {
     "data": {
      "text/plain": [
       "c_sum (generic function with 1 method)"
      ]
     },
     "execution_count": 4,
     "metadata": {},
     "output_type": "execute_result"
    }
   ],
   "source": [
    "using Libdl\n",
    "C_code = \"\"\"\n",
    "#include <stddef.h>\n",
    "double c_sum(size_t n, double *X) {\n",
    "    double s = 0.0;\n",
    "    for (size_t i = 0; i < n; ++i) {\n",
    "        s += X[i];\n",
    "    }\n",
    "    return s;\n",
    "}\n",
    "\"\"\"\n",
    "const Clib = tempname()   # make a temporary file\n",
    "open(`gcc -fPIC -O3 -msse3 -xc -shared -o $(Clib * \".\" * Libdl.dlext) -`, \"w\") do f\n",
    "    print(f, C_code) \n",
    "end\n",
    "c_sum(X::Array{Float64}) = ccall((\"c_sum\", Clib), Float64, (Csize_t, Ptr{Float64}), length(X), X)"
   ]
  },
  {
   "cell_type": "code",
   "execution_count": 5,
   "metadata": {},
   "outputs": [
    {
     "name": "stdout",
     "output_type": "stream",
     "text": [
      "  0.283869 seconds (2.23 k allocations: 127.930 KiB, 52.80% compilation time)\n"
     ]
    },
    {
     "data": {
      "text/plain": [
       "5.0004465303068236e7"
      ]
     },
     "execution_count": 5,
     "metadata": {},
     "output_type": "execute_result"
    }
   ],
   "source": [
    "@time c_sum(x)"
   ]
  },
  {
   "cell_type": "code",
   "execution_count": 6,
   "metadata": {
    "collapsed": true
   },
   "outputs": [],
   "source": [
    "using RCall\n",
    "R\"\"\"\n",
    "rsum <- function(v) {\n",
    "  s = 0\n",
    "  for(i in v){\n",
    "    s = s + i\n",
    "  }\n",
    "  return(s)\n",
    "}\n",
    "\"\"\";"
   ]
  },
  {
   "cell_type": "code",
   "execution_count": 7,
   "metadata": {},
   "outputs": [
    {
     "name": "stdout",
     "output_type": "stream",
     "text": [
      "  2.352640 seconds (375.45 k allocations: 23.091 MiB, 8.08% compilation time)\n"
     ]
    },
    {
     "data": {
      "text/plain": [
       "5.0004465303068236e7"
      ]
     },
     "execution_count": 7,
     "metadata": {},
     "output_type": "execute_result"
    }
   ],
   "source": [
    "@time R\"rsum($x)\" |> rcopy"
   ]
  },
  {
   "cell_type": "code",
   "execution_count": 8,
   "metadata": {
    "collapsed": true
   },
   "outputs": [],
   "source": [
    "using PyCall\n",
    "py\"\"\"\n",
    "def psum(v):\n",
    "   s=0\n",
    "   for i in v:\n",
    "     s = s + i\n",
    "   return s\n",
    "\"\"\""
   ]
  },
  {
   "cell_type": "code",
   "execution_count": 9,
   "metadata": {},
   "outputs": [
    {
     "name": "stdout",
     "output_type": "stream",
     "text": [
      " 10.808344 seconds (730.26 k allocations: 43.064 MiB, 2.96% compilation time)\n"
     ]
    },
    {
     "data": {
      "text/plain": [
       "5.0004465303068236e7"
      ]
     },
     "execution_count": 9,
     "metadata": {},
     "output_type": "execute_result"
    }
   ],
   "source": [
    "@time py\"psum\"(x)"
   ]
  },
  {
   "cell_type": "code",
   "execution_count": 13,
   "metadata": {},
   "outputs": [
    {
     "name": "stdout",
     "output_type": "stream",
     "text": [
      "\t\u001b[0m.section\t\u001b[0m__TEXT\u001b[0m,\u001b[0m__text\u001b[0m,\u001b[0mregular\u001b[0m,\u001b[0mpure_instructions\n",
      "\u001b[90m; ┌ @ In[2]:1 within `jsum'\u001b[39m\n",
      "\t\u001b[96m\u001b[1mpushq\u001b[22m\u001b[39m\t\u001b[0m%rax\n",
      "\u001b[90m; │ @ In[2]:3 within `jsum'\u001b[39m\n",
      "\u001b[90m; │┌ @ array.jl:777 within `iterate' @ array.jl:777\u001b[39m\n",
      "\u001b[90m; ││┌ @ array.jl:197 within `length'\u001b[39m\n",
      "\t\u001b[96m\u001b[1mmovq\u001b[22m\u001b[39m\t\u001b[33m8\u001b[39m\u001b[33m(\u001b[39m\u001b[0m%rsi\u001b[33m)\u001b[39m\u001b[0m, \u001b[0m%r9\n",
      "\u001b[90m; ││└\u001b[39m\n",
      "\u001b[90m; ││┌ @ int.jl:448 within `<' @ int.jl:441\u001b[39m\n",
      "\t\u001b[96m\u001b[1mtestq\u001b[22m\u001b[39m\t\u001b[0m%r9\u001b[0m, \u001b[0m%r9\n",
      "\u001b[90m; ││└\u001b[39m\n",
      "\t\u001b[96m\u001b[1mje\u001b[22m\u001b[39m\t\u001b[91mL100\u001b[39m\n",
      "\u001b[90m; ││┌ @ array.jl:801 within `getindex'\u001b[39m\n",
      "\t\u001b[96m\u001b[1mmovq\u001b[22m\u001b[39m\t\u001b[33m(\u001b[39m\u001b[0m%rsi\u001b[33m)\u001b[39m\u001b[0m, \u001b[0m%r8\n",
      "\u001b[90m; │└└\u001b[39m\n",
      "\t\u001b[96m\u001b[1mdecq\u001b[22m\u001b[39m\t\u001b[0m%r9\n",
      "\t\u001b[96m\u001b[1mmovb\u001b[22m\u001b[39m\t\u001b[33m$1\u001b[39m\u001b[0m, \u001b[0m%cl\n",
      "\t\u001b[96m\u001b[1mxorl\u001b[22m\u001b[39m\t\u001b[0m%edx\u001b[0m, \u001b[0m%edx\n",
      "\u001b[90m; │┌ @ array.jl:777 within `iterate' @ array.jl:777\u001b[39m\n",
      "\t\u001b[96m\u001b[1mxorl\u001b[22m\u001b[39m\t\u001b[0m%esi\u001b[0m, \u001b[0m%esi\n",
      "\t\u001b[96m\u001b[1mxorl\u001b[22m\u001b[39m\t\u001b[0m%eax\u001b[0m, \u001b[0m%eax\n",
      "\t\u001b[96m\u001b[1mnopl\u001b[22m\u001b[39m\t\u001b[33m(\u001b[39m\u001b[0m%rax\u001b[0m,\u001b[0m%rax\u001b[33m)\u001b[39m\n",
      "\u001b[90m; │└\u001b[39m\n",
      "\u001b[90m; │ @ In[2] within `jsum'\u001b[39m\n",
      "\u001b[91mL32:\u001b[39m\n",
      "\t\u001b[96m\u001b[1mvmovsd\u001b[22m\u001b[39m\t\u001b[33m(\u001b[39m\u001b[0m%r8\u001b[0m,\u001b[0m%rdx\u001b[0m,\u001b[33m8\u001b[39m\u001b[33m)\u001b[39m\u001b[0m, \u001b[0m%xmm0             \u001b[0m## \u001b[0mxmm0 \u001b[0m= \u001b[0mmem\u001b[33m[\u001b[39m\u001b[33m0\u001b[39m\u001b[33m]\u001b[39m\u001b[0m,\u001b[0mzero\n",
      "\u001b[90m; │ @ In[2]:4 within `jsum'\u001b[39m\n",
      "\t\u001b[96m\u001b[1mtestb\u001b[22m\u001b[39m\t\u001b[33m$1\u001b[39m\u001b[0m, \u001b[0m%cl\n",
      "\t\u001b[96m\u001b[1mje\u001b[22m\u001b[39m\t\u001b[91mL64\u001b[39m\n",
      "\t\u001b[96m\u001b[1mtestb\u001b[22m\u001b[39m\t\u001b[33m$1\u001b[39m\u001b[0m, \u001b[0m%al\n",
      "\t\u001b[96m\u001b[1mjne\u001b[22m\u001b[39m\t\u001b[91mL113\u001b[39m\n",
      "\u001b[90m; │┌ @ promotion.jl:321 within `+'\u001b[39m\n",
      "\u001b[90m; ││┌ @ promotion.jl:292 within `promote'\u001b[39m\n",
      "\u001b[90m; │││┌ @ promotion.jl:269 within `_promote'\u001b[39m\n",
      "\u001b[90m; ││││┌ @ number.jl:7 within `convert'\u001b[39m\n",
      "\u001b[90m; │││││┌ @ float.jl:94 within `Float64'\u001b[39m\n",
      "\t\u001b[96m\u001b[1mvcvtsi2sd\u001b[22m\u001b[39m\t\u001b[0m%rsi\u001b[0m, \u001b[0m%xmm2\u001b[0m, \u001b[0m%xmm1\n",
      "\t\u001b[96m\u001b[1mjmp\u001b[22m\u001b[39m\t\u001b[91mL69\u001b[39m\n",
      "\t\u001b[96m\u001b[1mnopw\u001b[22m\u001b[39m\t\u001b[0m%cs\u001b[0m:\u001b[33m(\u001b[39m\u001b[0m%rax\u001b[0m,\u001b[0m%rax\u001b[33m)\u001b[39m\n",
      "\u001b[90m; │└└└└└\u001b[39m\n",
      "\u001b[90m; │┌ @ float.jl:326 within `+'\u001b[39m\n",
      "\u001b[91mL64:\u001b[39m\n",
      "\t\u001b[96m\u001b[1mvmovq\u001b[22m\u001b[39m\t\u001b[0m%rsi\u001b[0m, \u001b[0m%xmm1\n",
      "\u001b[90m; │└\u001b[39m\n",
      "\u001b[90m; │ @ In[2] within `jsum'\u001b[39m\n",
      "\u001b[91mL69:\u001b[39m\n",
      "\t\u001b[96m\u001b[1mvaddsd\u001b[22m\u001b[39m\t\u001b[0m%xmm1\u001b[0m, \u001b[0m%xmm0\u001b[0m, \u001b[0m%xmm0\n",
      "\u001b[90m; │ @ In[2]:4 within `jsum'\u001b[39m\n",
      "\u001b[90m; │┌ @ array.jl:777 within `iterate'\u001b[39m\n",
      "\u001b[90m; ││┌ @ int.jl:448 within `<' @ int.jl:441\u001b[39m\n",
      "\t\u001b[96m\u001b[1mcmpq\u001b[22m\u001b[39m\t\u001b[0m%rdx\u001b[0m, \u001b[0m%r9\n",
      "\u001b[90m; ││└\u001b[39m\n",
      "\t\u001b[96m\u001b[1mje\u001b[22m\u001b[39m\t\u001b[91mL92\u001b[39m\n",
      "\u001b[90m; │└\u001b[39m\n",
      "\u001b[90m; │ @ In[2] within `jsum'\u001b[39m\n",
      "\t\u001b[96m\u001b[1mvmovq\u001b[22m\u001b[39m\t\u001b[0m%xmm0\u001b[0m, \u001b[0m%rsi\n",
      "\u001b[90m; │ @ In[2]:4 within `jsum'\u001b[39m\n",
      "\t\u001b[96m\u001b[1mincq\u001b[22m\u001b[39m\t\u001b[0m%rdx\n",
      "\t\u001b[96m\u001b[1mmovb\u001b[22m\u001b[39m\t\u001b[33m$1\u001b[39m\u001b[0m, \u001b[0m%al\n",
      "\t\u001b[96m\u001b[1mxorl\u001b[22m\u001b[39m\t\u001b[0m%ecx\u001b[0m, \u001b[0m%ecx\n",
      "\t\u001b[96m\u001b[1mjmp\u001b[22m\u001b[39m\t\u001b[91mL32\u001b[39m\n",
      "\u001b[90m; │ @ In[2]:6 within `jsum'\u001b[39m\n",
      "\u001b[91mL92:\u001b[39m\n",
      "\t\u001b[96m\u001b[1mvmovsd\u001b[22m\u001b[39m\t\u001b[0m%xmm0\u001b[0m, \u001b[33m(\u001b[39m\u001b[0m%rdi\u001b[33m)\u001b[39m\n",
      "\t\u001b[96m\u001b[1mmovb\u001b[22m\u001b[39m\t\u001b[33m$1\u001b[39m\u001b[0m, \u001b[0m%dl\n",
      "\t\u001b[96m\u001b[1mjmp\u001b[22m\u001b[39m\t\u001b[91mL109\u001b[39m\n",
      "\u001b[91mL100:\u001b[39m\n",
      "\t\u001b[96m\u001b[1mmovq\u001b[22m\u001b[39m\t\u001b[33m$0\u001b[39m\u001b[0m, \u001b[33m(\u001b[39m\u001b[0m%rdi\u001b[33m)\u001b[39m\n",
      "\t\u001b[96m\u001b[1mmovb\u001b[22m\u001b[39m\t\u001b[33m$2\u001b[39m\u001b[0m, \u001b[0m%dl\n",
      "\u001b[91mL109:\u001b[39m\n",
      "\t\u001b[96m\u001b[1mxorl\u001b[22m\u001b[39m\t\u001b[0m%eax\u001b[0m, \u001b[0m%eax\n",
      "\t\u001b[96m\u001b[1mpopq\u001b[22m\u001b[39m\t\u001b[0m%rcx\n",
      "\t\u001b[96m\u001b[1mretq\u001b[22m\u001b[39m\n",
      "\u001b[90m; │ @ In[2]:4 within `jsum'\u001b[39m\n",
      "\u001b[91mL113:\u001b[39m\n",
      "\t\u001b[96m\u001b[1mmovabsq\u001b[22m\u001b[39m\t\u001b[93m$jl_throw\u001b[39m\u001b[0m, \u001b[0m%rax\n",
      "\t\u001b[96m\u001b[1mmovabsq\u001b[22m\u001b[39m\t\u001b[93m$jl_system_image_data\u001b[39m\u001b[0m, \u001b[0m%rdi\n",
      "\t\u001b[96m\u001b[1mcallq\u001b[22m\u001b[39m\t\u001b[0m*\u001b[0m%rax\n",
      "\t\u001b[96m\u001b[1mnopw\u001b[22m\u001b[39m\t\u001b[33m(\u001b[39m\u001b[0m%rax\u001b[0m,\u001b[0m%rax\u001b[33m)\u001b[39m\n",
      "\u001b[90m; └\u001b[39m\n"
     ]
    }
   ],
   "source": [
    "@code_native jsum(x)"
   ]
  },
  {
   "cell_type": "markdown",
   "metadata": {},
   "source": [
    "## Brief History of Julia\n",
    "- ### 2009: initial work started by Jeff Bezanson, Stefan Karpinski, Viral B. Shah, and Prof. Alan Edelman\n",
    "- ### 2012: Julia public announcement\n",
    "- ### 2014-2017: versions 0.3-0.7 (yearly release of major features towards 1.0)\n",
    "- ### 2015: **Julia Computing** was founded by Julia creators for production support\n",
    "- ### 2017: **IBM PowerPC port of Julia sponsored by IBM**\n",
    "- ### 2018: 1.0 Stable (LTS version) \n",
    "- ### 2020: latest version is Julia 1.6.2, with Julia 1.0.5 as LTS\n",
    "- ### 2020: 13M downloads, used by 1500+ Universities\n",
    "- ### 2021: 29M+ downloads, 203k+ github stars, 5.9k packages\n",
    "     - ### runs in Windows, MacOS, Linux, FreeBSD OS\n",
    "     - ### runs in X86, ARM, PowerPC hardwares\n"
   ]
  },
  {
   "cell_type": "markdown",
   "metadata": {},
   "source": [
    "# Benchmarks\n",
    "- ### https://julialang.org/benchmarks/"
   ]
  },
  {
   "cell_type": "markdown",
   "metadata": {},
   "source": [
    "# Links\n",
    "- ### **Julia Language**: https://julialang.org/\n",
    "- ### **Julia Download**: https://julialang.org/downloads/\n",
    "- ### **Julia Computing**: https://juliacomputing.com/\n",
    "- ### **Julia in Industry**: https://juliacomputing.com/case-studies/\n",
    "- ### **Julia Community Help Channel**: https://discourse.julialang.org/\n",
    "- ### **Julia Youtube Channel**: https://www.youtube.com/user/julialanguage"
   ]
  },
  {
   "cell_type": "markdown",
   "metadata": {},
   "source": [
    "# Julia Conference 2021 (July 28 - 30)\n",
    "- ### **Julia Conference 2021**: https://juliacon.org/2021/\n",
    "    - free registration\n"
   ]
  },
  {
   "cell_type": "markdown",
   "metadata": {},
   "source": [
    "# My Github Repo\n",
    "- ### Main Link: https://github.com/ppalmes\n",
    "- ### Online Workshop: https://github.com/ppalmes/JuliaWorkshop"
   ]
  },
  {
   "cell_type": "code",
   "execution_count": null,
   "metadata": {
    "collapsed": true
   },
   "outputs": [],
   "source": []
  }
 ],
 "metadata": {
  "@webio": {
   "lastCommId": null,
   "lastKernelId": null
  },
  "kernelspec": {
   "display_name": "Julia 1.6.2",
   "language": "julia",
   "name": "julia-1.6"
  },
  "language_info": {
   "file_extension": ".jl",
   "mimetype": "application/julia",
   "name": "julia",
   "version": "1.6.2"
  }
 },
 "nbformat": 4,
 "nbformat_minor": 2
}
