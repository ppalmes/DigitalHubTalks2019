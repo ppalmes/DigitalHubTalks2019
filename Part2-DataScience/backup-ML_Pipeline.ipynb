{
 "cells": [
  {
   "cell_type": "code",
   "execution_count": 252,
   "metadata": {},
   "outputs": [],
   "source": [
    "using Random\n",
    "using DataFrames\n",
    "using AutoMLPipeline\n",
    "using AutoMLPipeline.FeatureSelectors\n",
    "using AutoMLPipeline.CrossValidators\n",
    "using AutoMLPipeline.DecisionTreeLearners\n",
    "using AutoMLPipeline.Pipelines\n",
    "using AutoMLPipeline.BaseFilters\n",
    "using AutoMLPipeline.SKPreprocessors\n",
    "using AutoMLPipeline.EnsembleMethods\n",
    "using AutoMLPipeline.Utils\n",
    "ENV[\"COLUMNS\"]=1000; # for dataframe column size"
   ]
  },
  {
   "cell_type": "code",
   "execution_count": 2,
   "metadata": {},
   "outputs": [],
   "source": [
    "using CSV"
   ]
  },
  {
   "cell_type": "code",
   "execution_count": 96,
   "metadata": {},
   "outputs": [
    {
     "data": {
      "text/html": [
       "<table class=\"data-frame\"><thead><tr><th></th><th>Home.Away</th><th>Favorite_Points</th><th>Underdog_Points</th><th>Pointspread</th><th>Favorite_Name</th><th>Underdog_name</th><th>Year</th></tr><tr><th></th><th>String</th><th>Int64</th><th>Int64</th><th>Float64</th><th>String</th><th>String</th><th>Int64</th></tr></thead><tbody><p>10 rows × 7 columns</p><tr><th>1</th><td>away</td><td>27</td><td>24</td><td>4.0</td><td>BUF</td><td>MIA</td><td>89</td></tr><tr><th>2</th><td>at_home</td><td>17</td><td>14</td><td>3.0</td><td>CHI</td><td>CIN</td><td>89</td></tr><tr><th>3</th><td>away</td><td>51</td><td>0</td><td>2.5</td><td>CLE</td><td>PIT</td><td>89</td></tr><tr><th>4</th><td>at_home</td><td>28</td><td>0</td><td>5.5</td><td>NO</td><td>DAL</td><td>89</td></tr><tr><th>5</th><td>at_home</td><td>38</td><td>7</td><td>5.5</td><td>MIN</td><td>HOU</td><td>89</td></tr><tr><th>6</th><td>at_home</td><td>34</td><td>20</td><td>6.0</td><td>DEN</td><td>KC</td><td>89</td></tr><tr><th>7</th><td>away</td><td>31</td><td>21</td><td>6.0</td><td>LAN</td><td>ATL</td><td>89</td></tr><tr><th>8</th><td>at_home</td><td>24</td><td>27</td><td>2.5</td><td>NYJ</td><td>NE</td><td>89</td></tr><tr><th>9</th><td>away</td><td>16</td><td>13</td><td>1.5</td><td>PHX</td><td>DET</td><td>89</td></tr><tr><th>10</th><td>at_home</td><td>40</td><td>14</td><td>3.5</td><td>LAA</td><td>SD</td><td>89</td></tr></tbody></table>"
      ],
      "text/latex": [
       "\\begin{tabular}{r|ccccccc}\n",
       "\t& Home.Away & Favorite\\_Points & Underdog\\_Points & Pointspread & Favorite\\_Name & Underdog\\_name & Year\\\\\n",
       "\t\\hline\n",
       "\t& String & Int64 & Int64 & Float64 & String & String & Int64\\\\\n",
       "\t\\hline\n",
       "\t1 & away & 27 & 24 & 4.0 & BUF & MIA & 89 \\\\\n",
       "\t2 & at\\_home & 17 & 14 & 3.0 & CHI & CIN & 89 \\\\\n",
       "\t3 & away & 51 & 0 & 2.5 & CLE & PIT & 89 \\\\\n",
       "\t4 & at\\_home & 28 & 0 & 5.5 & NO & DAL & 89 \\\\\n",
       "\t5 & at\\_home & 38 & 7 & 5.5 & MIN & HOU & 89 \\\\\n",
       "\t6 & at\\_home & 34 & 20 & 6.0 & DEN & KC & 89 \\\\\n",
       "\t7 & away & 31 & 21 & 6.0 & LAN & ATL & 89 \\\\\n",
       "\t8 & at\\_home & 24 & 27 & 2.5 & NYJ & NE & 89 \\\\\n",
       "\t9 & away & 16 & 13 & 1.5 & PHX & DET & 89 \\\\\n",
       "\t10 & at\\_home & 40 & 14 & 3.5 & LAA & SD & 89 \\\\\n",
       "\\end{tabular}\n"
      ],
      "text/plain": [
       "10×7 DataFrames.DataFrame\n",
       "│ Row │ Home.Away │ Favorite_Points │ Underdog_Points │ Pointspread │ Favorite_Name │ Underdog_name │ Year  │\n",
       "│     │ \u001b[90mString\u001b[39m    │ \u001b[90mInt64\u001b[39m           │ \u001b[90mInt64\u001b[39m           │ \u001b[90mFloat64\u001b[39m     │ \u001b[90mString\u001b[39m        │ \u001b[90mString\u001b[39m        │ \u001b[90mInt64\u001b[39m │\n",
       "├─────┼───────────┼─────────────────┼─────────────────┼─────────────┼───────────────┼───────────────┼───────┤\n",
       "│ 1   │ away      │ 27              │ 24              │ 4.0         │ BUF           │ MIA           │ 89    │\n",
       "│ 2   │ at_home   │ 17              │ 14              │ 3.0         │ CHI           │ CIN           │ 89    │\n",
       "│ 3   │ away      │ 51              │ 0               │ 2.5         │ CLE           │ PIT           │ 89    │\n",
       "│ 4   │ at_home   │ 28              │ 0               │ 5.5         │ NO            │ DAL           │ 89    │\n",
       "│ 5   │ at_home   │ 38              │ 7               │ 5.5         │ MIN           │ HOU           │ 89    │\n",
       "│ 6   │ at_home   │ 34              │ 20              │ 6.0         │ DEN           │ KC            │ 89    │\n",
       "│ 7   │ away      │ 31              │ 21              │ 6.0         │ LAN           │ ATL           │ 89    │\n",
       "│ 8   │ at_home   │ 24              │ 27              │ 2.5         │ NYJ           │ NE            │ 89    │\n",
       "│ 9   │ away      │ 16              │ 13              │ 1.5         │ PHX           │ DET           │ 89    │\n",
       "│ 10  │ at_home   │ 40              │ 14              │ 3.5         │ LAA           │ SD            │ 89    │"
      ]
     },
     "execution_count": 96,
     "metadata": {},
     "output_type": "execute_result"
    }
   ],
   "source": [
    "data=CSV.read(\"profb.csv\")\n",
    "first(data,10)"
   ]
  },
  {
   "cell_type": "code",
   "execution_count": 98,
   "metadata": {},
   "outputs": [],
   "source": [
    "Y = data[:,1] |> collect\n",
    "X = data[:,2:end];"
   ]
  },
  {
   "cell_type": "code",
   "execution_count": 274,
   "metadata": {},
   "outputs": [],
   "source": [
    "# decomposition\n",
    "pca = SKPreprocessor(\"PCA\")\n",
    "fa = SKPreprocessor(\"FactorAnalysis\")\n",
    "ica = SKPreprocessor(\"FastICA\")\n",
    "# Scaler \n",
    "rb = SKPreprocessor(\"RobustScaler\")\n",
    "pt = SKPreprocessor(\"PowerTransformer\")\n",
    "norm = SKPreprocessor(\"Normalizer\")\n",
    "mx = SKPreprocessor(\"MinMaxScaler\")\n",
    "# categorical preprocessing\n",
    "ohe = OneHotEncoder()\n",
    "# Column selector\n",
    "disc = CatNumDiscriminator()\n",
    "catf = CatFeatureSelector()\n",
    "numf = NumFeatureSelector()\n",
    "# Learners\n",
    "rf = SKLearner(\"RandomForestClassifier\")\n",
    "gb = SKLearner(\"GradientBoostingClassifier\")\n",
    "lsvc = SKLearner(\"LinearSVC\")\n",
    "svc = SKLearner(\"SVC\")\n",
    "mlp = SKLearner(\"MLPClassifier\")\n",
    "ada = SKLearner(\"AdaBoostClassifier\");\n",
    "jrf = RandomForest();\n",
    "vote = VoteEnsemble();\n",
    "stack = StackEnsemble();\n",
    "best = BestLearner();"
   ]
  },
  {
   "cell_type": "code",
   "execution_count": 281,
   "metadata": {},
   "outputs": [
    {
     "data": {
      "text/plain": [
       "100.0"
      ]
     },
     "execution_count": 281,
     "metadata": {},
     "output_type": "execute_result"
    }
   ],
   "source": [
    "p1 = @pipeline  (catf+ohe)*(numf) + vote\n",
    "pred = fit_transform!(p1,X,Y)\n",
    "score(:accuracy,pred,Y)"
   ]
  },
  {
   "cell_type": "code",
   "execution_count": 283,
   "metadata": {},
   "outputs": [
    {
     "data": {
      "text/plain": [
       "97.47023809523809"
      ]
     },
     "execution_count": 283,
     "metadata": {},
     "output_type": "execute_result"
    }
   ],
   "source": [
    "p1 = @pipeline  (numf+rb+pca) * (numf+rb+ica) * (catf+ohe) * (numf+rb+fa) + rf\n",
    "pred = fit_transform!(p1,X,Y)\n",
    "score(:accuracy,pred,Y)"
   ]
  },
  {
   "cell_type": "code",
   "execution_count": 284,
   "metadata": {},
   "outputs": [
    {
     "name": "stdout",
     "output_type": "stream",
     "text": [
      "fold: 1, 0.6716417910447762\n",
      "fold: 2, 0.6296296296296297\n",
      "fold: 3, 0.6194029850746269\n",
      "fold: 4, 0.7481481481481481\n",
      "fold: 5, 0.6343283582089553\n"
     ]
    },
    {
     "data": {
      "text/plain": [
       "(mean = 0.6606301824212272, std = 0.05275687604661152, folds = 5)"
      ]
     },
     "execution_count": 284,
     "metadata": {},
     "output_type": "execute_result"
    }
   ],
   "source": [
    "crossvalidate(p1,X,Y,\"accuracy_score\",5)"
   ]
  },
  {
   "cell_type": "code",
   "execution_count": 285,
   "metadata": {},
   "outputs": [
    {
     "data": {
      "text/plain": [
       "87.94642857142857"
      ]
     },
     "execution_count": 285,
     "metadata": {},
     "output_type": "execute_result"
    }
   ],
   "source": [
    "p2 = @pipeline (numf+rb+pca) * (numf+rb+ica)  * (numf+rb+fa) + gb\n",
    "pred = fit_transform!(p2,X,Y)\n",
    "score(:accuracy,pred,Y)"
   ]
  },
  {
   "cell_type": "code",
   "execution_count": 190,
   "metadata": {},
   "outputs": [
    {
     "name": "stdout",
     "output_type": "stream",
     "text": [
      "fold: 1, 0.5895522388059702\n",
      "fold: 2, 0.6\n",
      "fold: 3, 0.6268656716417911\n",
      "fold: 4, 0.6296296296296297\n",
      "fold: 5, 0.582089552238806\n"
     ]
    },
    {
     "data": {
      "text/plain": [
       "(mean = 0.6056274184632394, std = 0.021629146567337453, folds = 5)"
      ]
     },
     "execution_count": 190,
     "metadata": {},
     "output_type": "execute_result"
    }
   ],
   "source": [
    "crossvalidate(p2,X,Y,\"accuracy_score\",5)"
   ]
  },
  {
   "cell_type": "code",
   "execution_count": null,
   "metadata": {},
   "outputs": [],
   "source": []
  }
 ],
 "metadata": {
  "kernelspec": {
   "display_name": "Julia 1.6.2",
   "language": "julia",
   "name": "julia-1.6"
  },
  "language_info": {
   "file_extension": ".jl",
   "mimetype": "application/julia",
   "name": "julia",
   "version": "1.6.2"
  }
 },
 "nbformat": 4,
 "nbformat_minor": 2
}
