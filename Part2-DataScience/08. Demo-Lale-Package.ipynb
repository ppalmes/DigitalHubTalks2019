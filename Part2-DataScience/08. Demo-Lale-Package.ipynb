{
 "cells": [
  {
   "cell_type": "code",
   "execution_count": 1,
   "metadata": {},
   "outputs": [],
   "source": [
    "using Lale"
   ]
  },
  {
   "cell_type": "code",
   "execution_count": 2,
   "metadata": {},
   "outputs": [],
   "source": [
    "using Random\n",
    "using Statistics\n",
    "using Test\n",
    "using DataFrames: DataFrame, nrow"
   ]
  },
  {
   "cell_type": "code",
   "execution_count": 3,
   "metadata": {},
   "outputs": [],
   "source": [
    "iris = getiris();\n",
    "trx,tstx = holdout(nrow(iris),0.30)\n",
    "training = iris[trx,:]\n",
    "testing = iris[tstx,:];"
   ]
  },
  {
   "cell_type": "code",
   "execution_count": 4,
   "metadata": {},
   "outputs": [],
   "source": [
    "clf_tr_X = training[:,1:4] |> DataFrame\n",
    "clf_tr_y = training[:,5]   |> Vector\n",
    "clf_tst_X = testing[:,1:4] |> DataFrame\n",
    "clf_tst_y = testing[:,5] |> Vector;"
   ]
  },
  {
   "cell_type": "markdown",
   "metadata": {},
   "source": [
    "## AutoML for classifier pipeline\n",
    "\n",
    "This example uses Lale for combined algorithm selection and hyperparameter tuning\n",
    "on a classifier pipeline."
   ]
  },
  {
   "cell_type": "markdown",
   "metadata": {},
   "source": [
    "The first step to create a pipeline is to instantiate the operators. `laleoperator` takes the name of the operator and an optional package argument. The default package is sklearn, which means by default it will try to instantiate operators from sklearn."
   ]
  },
  {
   "cell_type": "code",
   "execution_count": 5,
   "metadata": {},
   "outputs": [],
   "source": [
    "PCA = laleoperator(\"PCA\")\n",
    "RobustScaler = laleoperator(\"RobustScaler\")\n",
    "ConcatFeatures = laleoperator(\"ConcatFeatures\", \"lale\")\n",
    "LogisticRegression = laleoperator(\"LogisticRegression\")\n",
    "RandomForestClassifier = laleoperator(\"RandomForestClassifier\");"
   ]
  },
  {
   "cell_type": "markdown",
   "metadata": {},
   "source": [
    "The next step is to compose a pipeline using the operators and combinators defined in Lale. The table below summarizes the available pipeline combinators which can be used to define the pipeline directed acyclic graph:\n",
    "\n",
    "| Symbol | Name | Description  | Sklearn feature |\n",
    "| ------ | ---- | ------------ | --------------- |\n",
    "| >>     | pipe | Feed to next | `make_pipeline` |\n",
    "| &      | and  | Run both     | `make_union`, includes concat |\n",
    "| &#x7c; | or   | Choose one   | (missing) |\n"
   ]
  },
  {
   "cell_type": "code",
   "execution_count": 6,
   "metadata": {},
   "outputs": [],
   "source": [
    "clf_planned = (PCA & RobustScaler) >> ConcatFeatures >> (LogisticRegression | RandomForestClassifier);"
   ]
  },
  {
   "cell_type": "markdown",
   "metadata": {},
   "source": [
    "`LalePipeOptimizer` takes the pipeline graph from above and we can provide a budget of the number of optimizer iterations along with other parameters such as cross validation number of folds. It internally uses hyperopt for performing the algorithm selection and hyperparameter tuning.\n",
    "Lale follows sklearn API, so `fit` is for trainind and `predict` for obtaining the predictions."
   ]
  },
  {
   "cell_type": "code",
   "execution_count": 7,
   "metadata": {},
   "outputs": [
    {
     "name": "stdout",
     "output_type": "stream",
     "text": [
      "\r",
      "  0%|                                   | 0/10 [00:00<?, ?trial/s, best loss=?]\r",
      " 10%|▊       | 1/10 [00:01<00:09,  1.03s/trial, best loss: -0.9428571428571427]\r",
      " 20%|█▌      | 2/10 [00:01<00:05,  1.35trial/s, best loss: -0.9428571428571427]\r",
      " 30%|██▍     | 3/10 [00:02<00:04,  1.58trial/s, best loss: -0.9428571428571427]\r",
      " 40%|███▏    | 4/10 [00:02<00:03,  1.66trial/s, best loss: -0.9428571428571427]\r",
      " 50%|████    | 5/10 [00:03<00:03,  1.40trial/s, best loss: -0.9428571428571427]\r",
      " 60%|████▊   | 6/10 [00:04<00:03,  1.20trial/s, best loss: -0.9428571428571427]\r",
      " 70%|█████▌  | 7/10 [00:05<00:02,  1.34trial/s, best loss: -0.9428571428571427]\r",
      " 80%|██████▍ | 8/10 [00:05<00:01,  1.53trial/s, best loss: -0.9428571428571427]\r",
      " 90%|███████▏| 9/10 [00:06<00:00,  1.58trial/s, best loss: -0.9428571428571427]\r",
      "100%|███████| 10/10 [00:06<00:00,  1.71trial/s, best loss: -0.9428571428571427]\r",
      "100%|███████| 10/10 [00:06<00:00,  1.49trial/s, best loss: -0.9428571428571427]"
     ]
    }
   ],
   "source": [
    "clf_hopt = LalePipeOptimizer(clf_planned, max_evals=10, cv=3)\n",
    "clf_trained = fit(clf_hopt, clf_tr_X, clf_tr_y);"
   ]
  },
  {
   "cell_type": "code",
   "execution_count": 8,
   "metadata": {},
   "outputs": [
    {
     "data": {
      "text/plain": [
       "95.55555555555556"
      ]
     },
     "execution_count": 8,
     "metadata": {},
     "output_type": "execute_result"
    }
   ],
   "source": [
    "clf_pred = predict(clf_trained, clf_tst_X)\n",
    "clf_accu = score(:accuracy, clf_pred, clf_tst_y)"
   ]
  },
  {
   "cell_type": "markdown",
   "metadata": {},
   "source": [
    "## AutoML for regressor pipeline\n",
    "\n",
    "This example uses Lale for combined algorithm selection and hyperparameter tuning\n",
    "on a regressor pipeline."
   ]
  },
  {
   "cell_type": "code",
   "execution_count": 9,
   "metadata": {},
   "outputs": [],
   "source": [
    "reg_tr_X = training[:,1:3] |> DataFrame\n",
    "reg_tr_y = training[:,4]   |> Vector\n",
    "reg_tst_X = testing[:,1:3] |> DataFrame\n",
    "reg_tst_y = testing[:,4]   |> Vector;"
   ]
  },
  {
   "cell_type": "code",
   "execution_count": 10,
   "metadata": {},
   "outputs": [],
   "source": [
    "PCA = laleoperator(\"PCA\")\n",
    "NoOp = laleoperator(\"NoOp\", \"lale\")\n",
    "LinearRegression = laleoperator(\"LinearRegression\")\n",
    "RandomForestRegressor = laleoperator(\"RandomForestRegressor\");"
   ]
  },
  {
   "cell_type": "code",
   "execution_count": 11,
   "metadata": {},
   "outputs": [],
   "source": [
    "reg_planned = (PCA | NoOp) >> (LinearRegression | RandomForestRegressor);"
   ]
  },
  {
   "cell_type": "code",
   "execution_count": 12,
   "metadata": {},
   "outputs": [
    {
     "name": "stdout",
     "output_type": "stream",
     "text": [
      "\n",
      "\r",
      "  0%|                                   | 0/10 [00:00<?, ?trial/s, best loss=?]\r",
      " 10%|▉        | 1/10 [00:00<00:03,  2.58trial/s, best loss: -0.786187972016955]\r",
      " 20%|█▌      | 2/10 [00:00<00:02,  3.32trial/s, best loss: -0.9169385396889359]\r",
      " 30%|██▍     | 3/10 [00:01<00:02,  2.92trial/s, best loss: -0.9169385396889359]\r",
      " 40%|███▏    | 4/10 [00:01<00:01,  3.14trial/s, best loss: -0.9169385396889359]\r",
      " 50%|████    | 5/10 [00:01<00:02,  2.47trial/s, best loss: -0.9169385396889359]\r",
      " 60%|████▊   | 6/10 [00:02<00:02,  1.87trial/s, best loss: -0.9169385396889359]\r",
      " 70%|█████▌  | 7/10 [00:02<00:01,  2.15trial/s, best loss: -0.9169385396889359]\r",
      " 80%|██████▍ | 8/10 [00:03<00:00,  2.50trial/s, best loss: -0.9169385396889359]\r",
      " 90%|███████▏| 9/10 [00:03<00:00,  2.56trial/s, best loss: -0.9169385396889361]\r",
      "100%|███████| 10/10 [00:03<00:00,  2.83trial/s, best loss: -0.9169385396889361]\r",
      "100%|███████| 10/10 [00:03<00:00,  2.58trial/s, best loss: -0.9169385396889361]"
     ]
    }
   ],
   "source": [
    "reg_hopt = LalePipeOptimizer(reg_planned, max_evals=10, cv=3)\n",
    "reg_trained = fit(reg_hopt, reg_tr_X, reg_tr_y);"
   ]
  },
  {
   "cell_type": "code",
   "execution_count": 13,
   "metadata": {},
   "outputs": [
    {
     "data": {
      "text/plain": [
       "0.19019270606950178"
      ]
     },
     "execution_count": 13,
     "metadata": {},
     "output_type": "execute_result"
    }
   ],
   "source": [
    "reg_pred = predict(reg_trained, reg_tst_X)\n",
    "reg_rmse = score(:rmse, reg_pred, reg_tst_y)"
   ]
  },
  {
   "cell_type": "code",
   "execution_count": 14,
   "metadata": {},
   "outputs": [],
   "source": [
    "using Distributed"
   ]
  },
  {
   "cell_type": "code",
   "execution_count": 15,
   "metadata": {},
   "outputs": [],
   "source": [
    "nprocs == 1 && addprocs()\n",
    "@everywhere using Lale\n",
    "@everywhere using Statistics\n",
    "@everywhere using Random: seed!\n",
    "@everywhere using DataFrames\n",
    "@everywhere using DataFrames: DataFrame, nrow"
   ]
  },
  {
   "cell_type": "code",
   "execution_count": 16,
   "metadata": {},
   "outputs": [
    {
     "data": {
      "text/plain": [
       "1-element Vector{Int64}:\n",
       " 1"
      ]
     },
     "execution_count": 16,
     "metadata": {},
     "output_type": "execute_result"
    }
   ],
   "source": [
    "workers()"
   ]
  },
  {
   "cell_type": "code",
   "execution_count": 17,
   "metadata": {},
   "outputs": [
    {
     "name": "stdout",
     "output_type": "stream",
     "text": [
      "\n",
      "100%|█████████| 5/5 [00:02<00:00,  1.78trial/s, best loss: -0.9333333333333332]95.55555555555556\n",
      "\n",
      "100%|█████████| 5/5 [00:02<00:00,  1.91trial/s, best loss: -0.9333333333333332]95.55555555555556\n",
      "\n",
      "100%|█████████| 5/5 [00:02<00:00,  1.77trial/s, best loss: -0.9428571428571427]95.55555555555556\n",
      "\n",
      "100%|█████████| 5/5 [00:02<00:00,  2.13trial/s, best loss: -0.9333333333333332]95.55555555555556\n",
      "\n",
      "100%|█████████| 5/5 [00:03<00:00,  1.37trial/s, best loss: -0.9428571428571427]95.55555555555556\n",
      "\n",
      "100%|█████████| 5/5 [00:05<00:00,  1.00s/trial, best loss: -0.9333333333333332]95.55555555555556\n",
      "\n",
      "100%|█████████| 5/5 [00:04<00:00,  1.04trial/s, best loss: -0.9238095238095237]95.55555555555556\n",
      "\n",
      "100%|█████████| 5/5 [00:02<00:00,  1.93trial/s, best loss: -0.9333333333333332]95.55555555555556\n",
      "\n",
      "100%|█████████| 5/5 [00:02<00:00,  2.15trial/s, best loss: -0.9428571428571427]95.55555555555556\n",
      "\n",
      "100%|█████████| 5/5 [00:02<00:00,  2.28trial/s, best loss: -0.9428571428571427]95.55555555555556\n"
     ]
    },
    {
     "data": {
      "text/plain": [
       "10-element Vector{Float64}:\n",
       " 95.55555555555556\n",
       " 95.55555555555556\n",
       " 95.55555555555556\n",
       " 95.55555555555556\n",
       " 95.55555555555556\n",
       " 95.55555555555556\n",
       " 95.55555555555556\n",
       " 95.55555555555556\n",
       " 95.55555555555556\n",
       " 95.55555555555556"
      ]
     },
     "execution_count": 17,
     "metadata": {},
     "output_type": "execute_result"
    }
   ],
   "source": [
    "trials=10\n",
    "results = @distributed (vcat) for i in 1:trials\n",
    "    clf_planned = (PCA & RobustScaler) >> ConcatFeatures >> (LogisticRegression | RandomForestClassifier)\n",
    "    clf_hopt = LalePipeOptimizer(clf_planned, max_evals=5, cv=3)\n",
    "    clf_trained = fit(clf_hopt, clf_tr_X, clf_tr_y)\n",
    "    clf_pred = predict(clf_trained, clf_tst_X)\n",
    "    clf_accu = score(:accuracy, clf_pred, clf_tst_y)\n",
    "    println(clf_accu)\n",
    "    clf_accu\n",
    "end"
   ]
  },
  {
   "cell_type": "code",
   "execution_count": 18,
   "metadata": {},
   "outputs": [
    {
     "data": {
      "text/plain": [
       "95.55555555555556"
      ]
     },
     "execution_count": 18,
     "metadata": {},
     "output_type": "execute_result"
    }
   ],
   "source": [
    "results |> mean"
   ]
  }
 ],
 "metadata": {
  "@webio": {
   "lastCommId": null,
   "lastKernelId": null
  },
  "kernelspec": {
   "display_name": "Julia 1.6.2",
   "language": "julia",
   "name": "julia-1.6"
  },
  "language_info": {
   "file_extension": ".jl",
   "mimetype": "application/julia",
   "name": "julia",
   "version": "1.6.2"
  }
 },
 "nbformat": 4,
 "nbformat_minor": 4
}
