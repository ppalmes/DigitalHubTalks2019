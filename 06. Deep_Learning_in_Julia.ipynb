{
 "cells": [
  {
   "cell_type": "markdown",
   "metadata": {},
   "source": [
    "## Data Preparation "
   ]
  },
  {
   "cell_type": "code",
   "execution_count": 3,
   "metadata": {},
   "outputs": [],
   "source": [
    "using JuliaDB\n",
    "using VegaDatasets\n",
    "using Plots\n",
    "using Statistics\n",
    "using Flux\n",
    "using DataFrames"
   ]
  },
  {
   "cell_type": "code",
   "execution_count": 4,
   "metadata": {},
   "outputs": [
    {
     "data": {
      "text/plain": [
       "Table with 406 rows, 9 columns:\n",
       "Columns:\n",
       "\u001b[1m#  \u001b[22m\u001b[1mcolname           \u001b[22m\u001b[1mtype\u001b[22m\n",
       "────────────────────────────────────────────\n",
       "1  Name              String\n",
       "2  Miles_per_Gallon  Union{Missing, Float64}\n",
       "3  Cylinders         Int64\n",
       "4  Displacement      Float64\n",
       "5  Horsepower        Union{Missing, Int64}\n",
       "6  Weight_in_lbs     Int64\n",
       "7  Acceleration      Float64\n",
       "8  Year              String\n",
       "9  Origin            String"
      ]
     },
     "execution_count": 4,
     "metadata": {},
     "output_type": "execute_result"
    }
   ],
   "source": [
    "cars = dataset(\"cars\") |> table"
   ]
  },
  {
   "cell_type": "code",
   "execution_count": 6,
   "metadata": {},
   "outputs": [
    {
     "data": {
      "text/plain": [
       "Dict{Symbol,Any} with 9 entries:\n",
       "  :Cylinders        => Continous(μ=5.475369458128076, σ=1.7121596315485288)\n",
       "  :Horsepower       => Maybe{Continuous}(Continous(μ=105.08250000000002, σ=38.7…\n",
       "  :Displacement     => Continous(μ=194.77955665024618, σ=104.92245837948875)\n",
       "  :Weight_in_lbs    => Continous(μ=2979.4137931034484, σ=847.0043282393509)\n",
       "  :Miles_per_Gallon => Maybe{Continuous}(Continous(μ=23.514572864321607, σ=7.81…\n",
       "  :Year             => nothing\n",
       "  :Acceleration     => Continous(μ=15.51970443349754, σ=2.803358816342545)\n",
       "  :Origin           => nothing\n",
       "  :Name             => nothing"
      ]
     },
     "execution_count": 6,
     "metadata": {},
     "output_type": "execute_result"
    }
   ],
   "source": [
    "ML.schema(cars)"
   ]
  },
  {
   "cell_type": "markdown",
   "metadata": {},
   "source": [
    "Let's override the `Cylinders` and `Origin` schema by converting them to `Categorical`."
   ]
  },
  {
   "cell_type": "code",
   "execution_count": 7,
   "metadata": {},
   "outputs": [
    {
     "data": {
      "text/plain": [
       "Dict{Symbol,Any} with 9 entries:\n",
       "  :Cylinders        => Categorical([8, 4, 6, 3, 5])\n",
       "  :Horsepower       => Maybe{Continuous}(Continous(μ=105.08250000000002, σ=38.7…\n",
       "  :Displacement     => Continous(μ=194.77955665024618, σ=104.92245837948875)\n",
       "  :Weight_in_lbs    => Continous(μ=2979.4137931034484, σ=847.0043282393509)\n",
       "  :Miles_per_Gallon => Maybe{Continuous}(Continous(μ=23.514572864321607, σ=7.81…\n",
       "  :Year             => nothing\n",
       "  :Acceleration     => Continous(μ=15.51970443349754, σ=2.803358816342545)\n",
       "  :Origin           => Categorical([\"USA\", \"Europe\", \"Japan\"])\n",
       "  :Name             => nothing"
      ]
     },
     "execution_count": 7,
     "metadata": {},
     "output_type": "execute_result"
    }
   ],
   "source": [
    "cars_schema = ML.schema(cars,hints = Dict(\n",
    "        :Cylinders => ML.Categorical,\n",
    "        :Origin => ML.Categorical\n",
    "    )\n",
    ")"
   ]
  },
  {
   "cell_type": "markdown",
   "metadata": {},
   "source": [
    "The rest with `nothing` in their entries will be ignored during modeling."
   ]
  },
  {
   "cell_type": "markdown",
   "metadata": {},
   "source": [
    "### Prepare data for regression example."
   ]
  },
  {
   "cell_type": "markdown",
   "metadata": {},
   "source": [
    "Let's split the data and use `Weight_in_lbs` as the output for regression."
   ]
  },
  {
   "cell_type": "code",
   "execution_count": 9,
   "metadata": {},
   "outputs": [],
   "source": [
    "input_schema, output_schema = ML.splitschema(cars_schema,:Weight_in_lbs);"
   ]
  },
  {
   "cell_type": "code",
   "execution_count": 10,
   "metadata": {},
   "outputs": [
    {
     "data": {
      "text/plain": [
       "Dict{Symbol,Any} with 8 entries:\n",
       "  :Cylinders        => Categorical([8, 4, 6, 3, 5])\n",
       "  :Horsepower       => Maybe{Continuous}(Continous(μ=105.08250000000002, σ=38.7…\n",
       "  :Displacement     => Continous(μ=194.77955665024618, σ=104.92245837948875)\n",
       "  :Origin           => Categorical([\"USA\", \"Europe\", \"Japan\"])\n",
       "  :Miles_per_Gallon => Maybe{Continuous}(Continous(μ=23.514572864321607, σ=7.81…\n",
       "  :Year             => nothing\n",
       "  :Acceleration     => Continous(μ=15.51970443349754, σ=2.803358816342545)\n",
       "  :Name             => nothing"
      ]
     },
     "execution_count": 10,
     "metadata": {},
     "output_type": "execute_result"
    }
   ],
   "source": [
    "input_schema"
   ]
  },
  {
   "cell_type": "code",
   "execution_count": 11,
   "metadata": {},
   "outputs": [
    {
     "data": {
      "text/plain": [
       "Dict{Symbol,Any} with 1 entry:\n",
       "  :Weight_in_lbs => Continous(μ=2979.4137931034484, σ=847.0043282393509)"
      ]
     },
     "execution_count": 11,
     "metadata": {},
     "output_type": "execute_result"
    }
   ],
   "source": [
    "output_schema"
   ]
  },
  {
   "cell_type": "markdown",
   "metadata": {},
   "source": [
    "Let's extract the input features based on the input schema. Categorical data will be represented in one-hot encoding scheme. Julia also transposes the observations into columns for faster processing because it's a column-major language. "
   ]
  },
  {
   "cell_type": "code",
   "execution_count": 13,
   "metadata": {},
   "outputs": [
    {
     "data": {
      "text/plain": [
       "14×406 LinearAlgebra.Adjoint{Float32,Array{Float32,2}}:\n",
       "  1.0        1.0       1.0       …   0.0        0.0        0.0     \n",
       "  0.0        0.0       0.0           1.0        1.0        1.0     \n",
       "  0.0        0.0       0.0           0.0        0.0        0.0     \n",
       "  0.0        0.0       0.0           0.0        0.0        0.0     \n",
       "  0.0        0.0       0.0           0.0        0.0        0.0     \n",
       "  0.0        0.0       0.0       …   0.0        0.0        0.0     \n",
       "  0.642721   1.54551   1.1586       -0.543801  -0.672771  -0.595389\n",
       "  1.06956    1.47938   1.1744       -0.56975   -0.712713  -0.722243\n",
       "  1.0        1.0       1.0           1.0        1.0        1.0     \n",
       "  0.0        0.0       0.0           0.0        0.0        0.0     \n",
       "  0.0        0.0       0.0       …   0.0        0.0        0.0     \n",
       "  0.0        0.0       0.0           0.0        0.0        0.0     \n",
       " -0.705551  -1.08938  -0.705551      1.08565    0.573879   0.957708\n",
       " -1.25553   -1.43389  -1.61225      -1.39822    1.09879    1.38416 "
      ]
     },
     "execution_count": 13,
     "metadata": {},
     "output_type": "execute_result"
    }
   ],
   "source": [
    "input = ML.featuremat(input_schema,cars)"
   ]
  },
  {
   "cell_type": "code",
   "execution_count": 14,
   "metadata": {},
   "outputs": [
    {
     "data": {
      "text/plain": [
       "1×406 LinearAlgebra.Adjoint{Float32,Array{Float32,2}}:\n",
       " 0.619343  0.842482  0.53906  0.535518  …  -0.80804  -0.418432  -0.306272"
      ]
     },
     "execution_count": 14,
     "metadata": {},
     "output_type": "execute_result"
    }
   ],
   "source": [
    "output = ML.featuremat(output_schema,cars)"
   ]
  },
  {
   "cell_type": "markdown",
   "metadata": {},
   "source": [
    "Let's create a function to split the data into training and testing."
   ]
  },
  {
   "cell_type": "code",
   "execution_count": 17,
   "metadata": {},
   "outputs": [
    {
     "data": {
      "text/plain": [
       "partitionTrainTest (generic function with 2 methods)"
      ]
     },
     "execution_count": 17,
     "metadata": {},
     "output_type": "execute_result"
    }
   ],
   "source": [
    "using Random\n",
    "function partitionTrainTest(input,output, at = 0.8)\n",
    "    @assert size(input,2) == size(output,2)\n",
    "    n = size(input,2)\n",
    "    idx = shuffle(1:n)\n",
    "    train_idx = view(idx, 1:floor(Int, at*n))\n",
    "    test_idx = view(idx, (floor(Int, at*n)+1):n)\n",
    "    return (input[:,train_idx], output[:,train_idx], input[:,test_idx],output[:,test_idx])\n",
    "end"
   ]
  },
  {
   "cell_type": "code",
   "execution_count": 18,
   "metadata": {},
   "outputs": [
    {
     "data": {
      "text/plain": [
       "(Float32[1.0 0.0 … 0.0 0.0; 0.0 1.0 … 0.0 1.0; … ; -1.4732083 0.7018217 … 0.4203472 0.19004992; -1.4338887 0.3496861 … -0.93448776 0.70640105], Float32[2.3324394 -0.8977685 … -0.32988474 -0.71358997], Float32[0.0 0.0 … 0.0 0.0; 1.0 0.0 … 0.0 0.0; … ; 0.5738787 -0.4240762 … 0.062106974 -0.3856933; -0.007028866 0.09998562 … 0.7420725 0.49237207], Float32[-0.8446401 -0.017017378 … 0.038472302 0.5260731])"
      ]
     },
     "execution_count": 18,
     "metadata": {},
     "output_type": "execute_result"
    }
   ],
   "source": [
    "train_input,train_output,test_input,test_output = partitionTrainTest(input,output,0.7)"
   ]
  },
  {
   "cell_type": "markdown",
   "metadata": {},
   "source": [
    "## Flux Regression"
   ]
  },
  {
   "cell_type": "markdown",
   "metadata": {},
   "source": [
    "In Flux, you setup the model by chaining layers where each layer is composed of data dimension and the output function. There are different types of layers such as `Dense`, `LSTM`, `Conv`, `Dropout`, `BatchNorm`, etc."
   ]
  },
  {
   "cell_type": "code",
   "execution_count": 23,
   "metadata": {},
   "outputs": [
    {
     "data": {
      "text/plain": [
       "fluxregression (generic function with 5 methods)"
      ]
     },
     "execution_count": 23,
     "metadata": {},
     "output_type": "execute_result"
    }
   ],
   "source": [
    "function fluxregression(data,lr=0.01,iterations=1000,hidden=10,checkpoint=0.1)\n",
    "    model = Chain(\n",
    "        Dense(ML.width(input_schema),hidden,relu),\n",
    "        Dense(hidden,ML.width(output_schema))\n",
    "    )\n",
    "     \n",
    "    #loss(x,y) = Flux.crossentropy(model(x),y)\n",
    "    loss(x, y) = Flux.mse(model(x), y)\n",
    "\n",
    "    opt = ADAM(lr) \n",
    "    evalcb = Flux.throttle(() -> @show(loss(first(data)...)), checkpoint);\n",
    "    \n",
    "    for i = 1:iterations\n",
    "      Flux.train!(loss, params(model),data, opt, cb = evalcb)\n",
    "    end\n",
    "    return model\n",
    "end"
   ]
  },
  {
   "cell_type": "markdown",
   "metadata": {},
   "source": [
    "In neural network training, learning rate and the size of max-iteration are crucial to avoid overfitting or underfitting. Too small learning rate with small max-iteration size lead to premature convergence or underfitting. Too small learning rate with very large max-iteration size may result to overfitting. Cross-validation can help but requires splitting the data into three sets (training, testing, and validation)."
   ]
  },
  {
   "cell_type": "code",
   "execution_count": 75,
   "metadata": {},
   "outputs": [
    {
     "name": "stdout",
     "output_type": "stream",
     "text": [
      "loss(first(data)...) = 2.0754004f0 (tracked)\n",
      "loss(first(data)...) = 0.14384368f0 (tracked)\n",
      "loss(first(data)...) = 0.06578082f0 (tracked)\n",
      "loss(first(data)...) = 0.053928643f0 (tracked)\n",
      "loss(first(data)...) = 0.048934363f0 (tracked)\n",
      "loss(first(data)...) = 0.0467017f0 (tracked)\n",
      "loss(first(data)...) = 0.04456601f0 (tracked)\n",
      "loss(first(data)...) = 0.042708457f0 (tracked)\n",
      "loss(first(data)...) = 0.041112296f0 (tracked)\n",
      "loss(first(data)...) = 0.039300893f0 (tracked)\n",
      "loss(first(data)...) = 0.03770077f0 (tracked)\n",
      "loss(first(data)...) = 0.036783185f0 (tracked)\n",
      "loss(first(data)...) = 0.035944592f0 (tracked)\n",
      "loss(first(data)...) = 0.035467412f0 (tracked)\n",
      "loss(first(data)...) = 0.033881005f0 (tracked)\n",
      "loss(first(data)...) = 0.033367984f0 (tracked)\n",
      "rmse=0.30942255\n"
     ]
    },
    {
     "data": {
      "image/svg+xml": [
       "<?xml version=\"1.0\" encoding=\"utf-8\"?>\n",
       "<svg xmlns=\"http://www.w3.org/2000/svg\" xmlns:xlink=\"http://www.w3.org/1999/xlink\" width=\"600\" height=\"400\" viewBox=\"0 0 2400 1600\">\n",
       "<defs>\n",
       "  <clipPath id=\"clip6600\">\n",
       "    <rect x=\"0\" y=\"0\" width=\"2400\" height=\"1600\"/>\n",
       "  </clipPath>\n",
       "</defs>\n",
       "<path clip-path=\"url(#clip6600)\" d=\"\n",
       "M0 1600 L2400 1600 L2400 0 L0 0  Z\n",
       "  \" fill=\"#ffffff\" fill-rule=\"evenodd\" fill-opacity=\"1\"/>\n",
       "<defs>\n",
       "  <clipPath id=\"clip6601\">\n",
       "    <rect x=\"480\" y=\"0\" width=\"1681\" height=\"1600\"/>\n",
       "  </clipPath>\n",
       "</defs>\n",
       "<path clip-path=\"url(#clip6600)\" d=\"\n",
       "M141.865 1487.47 L2352.76 1487.47 L2352.76 47.2441 L141.865 47.2441  Z\n",
       "  \" fill=\"#ffffff\" fill-rule=\"evenodd\" fill-opacity=\"1\"/>\n",
       "<defs>\n",
       "  <clipPath id=\"clip6602\">\n",
       "    <rect x=\"141\" y=\"47\" width=\"2212\" height=\"1441\"/>\n",
       "  </clipPath>\n",
       "</defs>\n",
       "<polyline clip-path=\"url(#clip6602)\" style=\"stroke:#000000; stroke-width:2; stroke-opacity:0.1; fill:none\" points=\"\n",
       "  187.199,1487.47 187.199,47.2441 \n",
       "  \"/>\n",
       "<polyline clip-path=\"url(#clip6602)\" style=\"stroke:#000000; stroke-width:2; stroke-opacity:0.1; fill:none\" points=\"\n",
       "  531.951,1487.47 531.951,47.2441 \n",
       "  \"/>\n",
       "<polyline clip-path=\"url(#clip6602)\" style=\"stroke:#000000; stroke-width:2; stroke-opacity:0.1; fill:none\" points=\"\n",
       "  876.702,1487.47 876.702,47.2441 \n",
       "  \"/>\n",
       "<polyline clip-path=\"url(#clip6602)\" style=\"stroke:#000000; stroke-width:2; stroke-opacity:0.1; fill:none\" points=\"\n",
       "  1221.45,1487.47 1221.45,47.2441 \n",
       "  \"/>\n",
       "<polyline clip-path=\"url(#clip6602)\" style=\"stroke:#000000; stroke-width:2; stroke-opacity:0.1; fill:none\" points=\"\n",
       "  1566.21,1487.47 1566.21,47.2441 \n",
       "  \"/>\n",
       "<polyline clip-path=\"url(#clip6602)\" style=\"stroke:#000000; stroke-width:2; stroke-opacity:0.1; fill:none\" points=\"\n",
       "  1910.96,1487.47 1910.96,47.2441 \n",
       "  \"/>\n",
       "<polyline clip-path=\"url(#clip6602)\" style=\"stroke:#000000; stroke-width:2; stroke-opacity:0.1; fill:none\" points=\"\n",
       "  2255.71,1487.47 2255.71,47.2441 \n",
       "  \"/>\n",
       "<polyline clip-path=\"url(#clip6602)\" style=\"stroke:#000000; stroke-width:2; stroke-opacity:0.1; fill:none\" points=\"\n",
       "  141.865,1247.86 2352.76,1247.86 \n",
       "  \"/>\n",
       "<polyline clip-path=\"url(#clip6602)\" style=\"stroke:#000000; stroke-width:2; stroke-opacity:0.1; fill:none\" points=\"\n",
       "  141.865,899.44 2352.76,899.44 \n",
       "  \"/>\n",
       "<polyline clip-path=\"url(#clip6602)\" style=\"stroke:#000000; stroke-width:2; stroke-opacity:0.1; fill:none\" points=\"\n",
       "  141.865,551.02 2352.76,551.02 \n",
       "  \"/>\n",
       "<polyline clip-path=\"url(#clip6602)\" style=\"stroke:#000000; stroke-width:2; stroke-opacity:0.1; fill:none\" points=\"\n",
       "  141.865,202.6 2352.76,202.6 \n",
       "  \"/>\n",
       "<polyline clip-path=\"url(#clip6600)\" style=\"stroke:#000000; stroke-width:4; stroke-opacity:1; fill:none\" points=\"\n",
       "  141.865,1487.47 2352.76,1487.47 \n",
       "  \"/>\n",
       "<polyline clip-path=\"url(#clip6600)\" style=\"stroke:#000000; stroke-width:4; stroke-opacity:1; fill:none\" points=\"\n",
       "  141.865,1487.47 141.865,47.2441 \n",
       "  \"/>\n",
       "<polyline clip-path=\"url(#clip6600)\" style=\"stroke:#000000; stroke-width:4; stroke-opacity:1; fill:none\" points=\"\n",
       "  187.199,1487.47 187.199,1465.87 \n",
       "  \"/>\n",
       "<polyline clip-path=\"url(#clip6600)\" style=\"stroke:#000000; stroke-width:4; stroke-opacity:1; fill:none\" points=\"\n",
       "  531.951,1487.47 531.951,1465.87 \n",
       "  \"/>\n",
       "<polyline clip-path=\"url(#clip6600)\" style=\"stroke:#000000; stroke-width:4; stroke-opacity:1; fill:none\" points=\"\n",
       "  876.702,1487.47 876.702,1465.87 \n",
       "  \"/>\n",
       "<polyline clip-path=\"url(#clip6600)\" style=\"stroke:#000000; stroke-width:4; stroke-opacity:1; fill:none\" points=\"\n",
       "  1221.45,1487.47 1221.45,1465.87 \n",
       "  \"/>\n",
       "<polyline clip-path=\"url(#clip6600)\" style=\"stroke:#000000; stroke-width:4; stroke-opacity:1; fill:none\" points=\"\n",
       "  1566.21,1487.47 1566.21,1465.87 \n",
       "  \"/>\n",
       "<polyline clip-path=\"url(#clip6600)\" style=\"stroke:#000000; stroke-width:4; stroke-opacity:1; fill:none\" points=\"\n",
       "  1910.96,1487.47 1910.96,1465.87 \n",
       "  \"/>\n",
       "<polyline clip-path=\"url(#clip6600)\" style=\"stroke:#000000; stroke-width:4; stroke-opacity:1; fill:none\" points=\"\n",
       "  2255.71,1487.47 2255.71,1465.87 \n",
       "  \"/>\n",
       "<polyline clip-path=\"url(#clip6600)\" style=\"stroke:#000000; stroke-width:4; stroke-opacity:1; fill:none\" points=\"\n",
       "  141.865,1247.86 175.028,1247.86 \n",
       "  \"/>\n",
       "<polyline clip-path=\"url(#clip6600)\" style=\"stroke:#000000; stroke-width:4; stroke-opacity:1; fill:none\" points=\"\n",
       "  141.865,899.44 175.028,899.44 \n",
       "  \"/>\n",
       "<polyline clip-path=\"url(#clip6600)\" style=\"stroke:#000000; stroke-width:4; stroke-opacity:1; fill:none\" points=\"\n",
       "  141.865,551.02 175.028,551.02 \n",
       "  \"/>\n",
       "<polyline clip-path=\"url(#clip6600)\" style=\"stroke:#000000; stroke-width:4; stroke-opacity:1; fill:none\" points=\"\n",
       "  141.865,202.6 175.028,202.6 \n",
       "  \"/>\n",
       "<g clip-path=\"url(#clip6600)\">\n",
       "<text style=\"fill:#000000; fill-opacity:1; font-family:Arial,Helvetica Neue,Helvetica,sans-serif; font-size:48px; text-anchor:middle;\" transform=\"rotate(0, 187.199, 1541.47)\" x=\"187.199\" y=\"1541.47\">0</text>\n",
       "</g>\n",
       "<g clip-path=\"url(#clip6600)\">\n",
       "<text style=\"fill:#000000; fill-opacity:1; font-family:Arial,Helvetica Neue,Helvetica,sans-serif; font-size:48px; text-anchor:middle;\" transform=\"rotate(0, 531.951, 1541.47)\" x=\"531.951\" y=\"1541.47\">20</text>\n",
       "</g>\n",
       "<g clip-path=\"url(#clip6600)\">\n",
       "<text style=\"fill:#000000; fill-opacity:1; font-family:Arial,Helvetica Neue,Helvetica,sans-serif; font-size:48px; text-anchor:middle;\" transform=\"rotate(0, 876.702, 1541.47)\" x=\"876.702\" y=\"1541.47\">40</text>\n",
       "</g>\n",
       "<g clip-path=\"url(#clip6600)\">\n",
       "<text style=\"fill:#000000; fill-opacity:1; font-family:Arial,Helvetica Neue,Helvetica,sans-serif; font-size:48px; text-anchor:middle;\" transform=\"rotate(0, 1221.45, 1541.47)\" x=\"1221.45\" y=\"1541.47\">60</text>\n",
       "</g>\n",
       "<g clip-path=\"url(#clip6600)\">\n",
       "<text style=\"fill:#000000; fill-opacity:1; font-family:Arial,Helvetica Neue,Helvetica,sans-serif; font-size:48px; text-anchor:middle;\" transform=\"rotate(0, 1566.21, 1541.47)\" x=\"1566.21\" y=\"1541.47\">80</text>\n",
       "</g>\n",
       "<g clip-path=\"url(#clip6600)\">\n",
       "<text style=\"fill:#000000; fill-opacity:1; font-family:Arial,Helvetica Neue,Helvetica,sans-serif; font-size:48px; text-anchor:middle;\" transform=\"rotate(0, 1910.96, 1541.47)\" x=\"1910.96\" y=\"1541.47\">100</text>\n",
       "</g>\n",
       "<g clip-path=\"url(#clip6600)\">\n",
       "<text style=\"fill:#000000; fill-opacity:1; font-family:Arial,Helvetica Neue,Helvetica,sans-serif; font-size:48px; text-anchor:middle;\" transform=\"rotate(0, 2255.71, 1541.47)\" x=\"2255.71\" y=\"1541.47\">120</text>\n",
       "</g>\n",
       "<g clip-path=\"url(#clip6600)\">\n",
       "<text style=\"fill:#000000; fill-opacity:1; font-family:Arial,Helvetica Neue,Helvetica,sans-serif; font-size:48px; text-anchor:end;\" transform=\"rotate(0, 117.865, 1265.36)\" x=\"117.865\" y=\"1265.36\">-1</text>\n",
       "</g>\n",
       "<g clip-path=\"url(#clip6600)\">\n",
       "<text style=\"fill:#000000; fill-opacity:1; font-family:Arial,Helvetica Neue,Helvetica,sans-serif; font-size:48px; text-anchor:end;\" transform=\"rotate(0, 117.865, 916.94)\" x=\"117.865\" y=\"916.94\">0</text>\n",
       "</g>\n",
       "<g clip-path=\"url(#clip6600)\">\n",
       "<text style=\"fill:#000000; fill-opacity:1; font-family:Arial,Helvetica Neue,Helvetica,sans-serif; font-size:48px; text-anchor:end;\" transform=\"rotate(0, 117.865, 568.52)\" x=\"117.865\" y=\"568.52\">1</text>\n",
       "</g>\n",
       "<g clip-path=\"url(#clip6600)\">\n",
       "<text style=\"fill:#000000; fill-opacity:1; font-family:Arial,Helvetica Neue,Helvetica,sans-serif; font-size:48px; text-anchor:end;\" transform=\"rotate(0, 117.865, 220.1)\" x=\"117.865\" y=\"220.1\">2</text>\n",
       "</g>\n",
       "<polyline clip-path=\"url(#clip6602)\" style=\"stroke:#009af9; stroke-width:4; stroke-opacity:1; fill:none\" points=\"\n",
       "  204.437,1183.86 221.675,977.357 238.912,931.696 256.15,977.768 273.387,1308.5 290.625,1251.73 307.862,853.95 325.1,755.636 342.338,642.102 359.575,1242.68 \n",
       "  376.813,630.995 394.05,1231.99 411.288,304.79 428.525,675.01 445.763,1250.91 463.001,1366.09 480.238,932.107 497.476,592.739 514.713,1248.85 531.951,707.919 \n",
       "  549.188,1166.58 566.426,734.657 583.664,1100.76 600.901,172.745 618.139,1234.87 635.376,959.668 652.614,936.221 669.851,1250.91 687.089,718.202 704.327,1257.08 \n",
       "  721.564,1294.1 738.802,1267.36 756.039,1071.97 773.277,1055.51 790.514,1150.13 807.752,306.024 824.99,882.333 842.227,1065.8 859.465,710.387 876.702,804.587 \n",
       "  893.94,88.0053 911.178,401.458 928.415,800.062 945.653,617.832 962.89,339.344 980.128,1193.73 997.365,568.058 1014.6,504.297 1031.84,1257.08 1049.08,911.54 \n",
       "  1066.32,1094.18 1083.55,1014.38 1100.79,811.58 1118.03,521.986 1135.27,454.935 1152.5,345.925 1169.74,1374.31 1186.98,1304.38 1204.22,440.126 1221.45,913.596 \n",
       "  1238.69,995.868 1255.93,742.884 1273.17,605.902 1290.4,716.146 1307.64,1315.49 1324.88,1139.84 1342.12,829.268 1359.35,1238.57 1376.59,752.756 1393.83,945.271 \n",
       "  1411.07,1308.5 1428.3,895.085 1445.54,1386.66 1462.78,1386.66 1480.02,849.014 1497.26,1134.49 1514.49,635.931 1531.73,740.827 1548.97,1273.53 1566.21,393.643 \n",
       "  1583.44,1301.09 1600.68,192.078 1617.92,288.747 1635.16,804.176 1652.39,1125.44 1669.63,967.073 1686.87,782.374 1704.11,1283.82 1721.34,1246.79 1738.58,411.331 \n",
       "  1755.82,204.83 1773.06,498.127 1790.29,699.691 1807.53,1158.35 1824.77,734.245 1842.01,672.953 1859.24,577.93 1876.48,1193.32 1893.72,358.266 1910.96,391.175 \n",
       "  1928.19,1312.61 1945.43,106.928 1962.67,866.29 1979.91,806.644 1997.14,298.62 2014.38,321.244 2031.62,855.595 2048.86,1327.01 2066.1,1283.82 2083.33,1134.49 \n",
       "  2100.57,670.897 2117.81,913.596 2135.05,1123.8 2152.28,1061.68 2169.52,918.533 2186.76,1197.43 2204,812.814 2221.23,788.133 2238.47,1206.07 2255.71,1096.65 \n",
       "  2272.95,1446.71 2290.18,1283.41 \n",
       "  \"/>\n",
       "<polyline clip-path=\"url(#clip6602)\" style=\"stroke:#e26f46; stroke-width:4; stroke-opacity:1; fill:none\" points=\"\n",
       "  204.437,1227.3 221.675,1055.65 238.912,798.847 256.15,866.464 273.387,1252.95 290.625,1119.8 307.862,828.649 325.1,759.946 342.338,665.368 359.575,1253.45 \n",
       "  376.813,544.217 394.05,1265.36 411.288,205.349 428.525,631.926 445.763,1265.26 463.001,1311.05 480.238,1002.61 497.476,625.481 514.713,1267.79 531.951,748.771 \n",
       "  549.188,1200.47 566.426,799.15 583.664,1079.25 600.901,244.496 618.139,1215.29 635.376,976.702 652.614,1035.3 669.851,1261.65 687.089,807.628 704.327,1321.52 \n",
       "  721.564,1307.68 738.802,1251.85 756.039,1040.61 773.277,1035.17 790.514,1178 807.752,192.457 824.99,757.013 842.227,1135.38 859.465,789.786 876.702,791.266 \n",
       "  893.94,147.351 911.178,511.158 928.415,794.078 945.653,383.992 962.89,307.405 980.128,1021.15 997.365,725.074 1014.6,439.123 1031.84,1334.94 1049.08,1358.09 \n",
       "  1066.32,1111.24 1083.55,1046.68 1100.79,659.366 1118.03,585.714 1135.27,670.713 1152.5,268.113 1169.74,1338.47 1186.98,1316.93 1204.22,473.777 1221.45,879.502 \n",
       "  1238.69,875.543 1255.93,720.2 1273.17,472.922 1290.4,704.334 1307.64,1305.52 1324.88,1134.55 1342.12,929.851 1359.35,1257.92 1376.59,637.021 1393.83,914.17 \n",
       "  1411.07,1365.17 1428.3,890.085 1445.54,1312.44 1462.78,1313.57 1480.02,881.754 1497.26,989.943 1514.49,611.143 1531.73,767.136 1548.97,1321.82 1566.21,414.324 \n",
       "  1583.44,1328.14 1600.68,250.173 1617.92,316.596 1635.16,792.303 1652.39,1123.37 1669.63,1055.62 1686.87,842.001 1704.11,1235.21 1721.34,1260.19 1738.58,411.175 \n",
       "  1755.82,340.475 1773.06,459.947 1790.29,834.043 1807.53,1192.35 1824.77,770.481 1842.01,955.084 1859.24,544.747 1876.48,1213.83 1893.72,499.931 1910.96,404.021 \n",
       "  1928.19,1354.27 1945.43,196.714 1962.67,894.675 1979.91,734.758 1997.14,345.486 2014.38,245.162 2031.62,205.349 2048.86,1247.11 2066.1,1269.39 2083.33,1124.07 \n",
       "  2100.57,619.489 2117.81,1027.89 2135.05,1135.89 2152.28,1001.18 2169.52,908.689 2186.76,1170.76 2204,860.169 2221.23,969.287 2238.47,1147.97 2255.71,1090.56 \n",
       "  2272.95,1415 2290.18,1042.21 \n",
       "  \"/>\n",
       "<path clip-path=\"url(#clip6600)\" d=\"\n",
       "M1832.1 312.204 L2280.76 312.204 L2280.76 130.764 L1832.1 130.764  Z\n",
       "  \" fill=\"#ffffff\" fill-rule=\"evenodd\" fill-opacity=\"1\"/>\n",
       "<polyline clip-path=\"url(#clip6600)\" style=\"stroke:#000000; stroke-width:4; stroke-opacity:1; fill:none\" points=\"\n",
       "  1832.1,312.204 2280.76,312.204 2280.76,130.764 1832.1,130.764 1832.1,312.204 \n",
       "  \"/>\n",
       "<polyline clip-path=\"url(#clip6600)\" style=\"stroke:#009af9; stroke-width:4; stroke-opacity:1; fill:none\" points=\"\n",
       "  1856.1,191.244 2000.1,191.244 \n",
       "  \"/>\n",
       "<g clip-path=\"url(#clip6600)\">\n",
       "<text style=\"fill:#000000; fill-opacity:1; font-family:Arial,Helvetica Neue,Helvetica,sans-serif; font-size:48px; text-anchor:start;\" transform=\"rotate(0, 2024.1, 208.744)\" x=\"2024.1\" y=\"208.744\">actual</text>\n",
       "</g>\n",
       "<polyline clip-path=\"url(#clip6600)\" style=\"stroke:#e26f46; stroke-width:4; stroke-opacity:1; fill:none\" points=\"\n",
       "  1856.1,251.724 2000.1,251.724 \n",
       "  \"/>\n",
       "<g clip-path=\"url(#clip6600)\">\n",
       "<text style=\"fill:#000000; fill-opacity:1; font-family:Arial,Helvetica Neue,Helvetica,sans-serif; font-size:48px; text-anchor:start;\" transform=\"rotate(0, 2024.1, 269.224)\" x=\"2024.1\" y=\"269.224\">prediction</text>\n",
       "</g>\n",
       "</svg>\n"
      ]
     },
     "execution_count": 75,
     "metadata": {},
     "output_type": "execute_result"
    }
   ],
   "source": [
    "# data preparation\n",
    "input_schema, output_schema = ML.splitschema(cars_schema,:Weight_in_lbs);\n",
    "input = ML.featuremat(input_schema,cars)\n",
    "output = ML.featuremat(output_schema,cars)\n",
    "train_input,train_output,test_input,test_output = partitionTrainTest(input,output,0.7);\n",
    "data = [(train_input, train_output)] #|> gpu;\n",
    "\n",
    "model = fluxregression(data,0.001,5000)\n",
    "yhat=model(test_input)\n",
    "y=test_output\n",
    "rmse = sqrt((y .- yhat.data).^2 |> mean ) \n",
    "println(\"rmse=\",rmse)\n",
    "plot([y' yhat.data'],lab=[\"actual\",\"prediction\"])"
   ]
  },
  {
   "cell_type": "code",
   "execution_count": 76,
   "metadata": {},
   "outputs": [
    {
     "data": {
      "image/svg+xml": [
       "<?xml version=\"1.0\" encoding=\"utf-8\"?>\n",
       "<svg xmlns=\"http://www.w3.org/2000/svg\" xmlns:xlink=\"http://www.w3.org/1999/xlink\" width=\"600\" height=\"400\" viewBox=\"0 0 2400 1600\">\n",
       "<defs>\n",
       "  <clipPath id=\"clip7000\">\n",
       "    <rect x=\"0\" y=\"0\" width=\"2400\" height=\"1600\"/>\n",
       "  </clipPath>\n",
       "</defs>\n",
       "<path clip-path=\"url(#clip7000)\" d=\"\n",
       "M0 1600 L2400 1600 L2400 0 L0 0  Z\n",
       "  \" fill=\"#ffffff\" fill-rule=\"evenodd\" fill-opacity=\"1\"/>\n",
       "<defs>\n",
       "  <clipPath id=\"clip7001\">\n",
       "    <rect x=\"480\" y=\"0\" width=\"1681\" height=\"1600\"/>\n",
       "  </clipPath>\n",
       "</defs>\n",
       "<path clip-path=\"url(#clip7000)\" d=\"\n",
       "M182.008 1487.47 L2352.76 1487.47 L2352.76 47.2441 L182.008 47.2441  Z\n",
       "  \" fill=\"#ffffff\" fill-rule=\"evenodd\" fill-opacity=\"1\"/>\n",
       "<defs>\n",
       "  <clipPath id=\"clip7002\">\n",
       "    <rect x=\"182\" y=\"47\" width=\"2172\" height=\"1441\"/>\n",
       "  </clipPath>\n",
       "</defs>\n",
       "<polyline clip-path=\"url(#clip7002)\" style=\"stroke:#000000; stroke-width:2; stroke-opacity:0.1; fill:none\" points=\"\n",
       "  226.52,1487.47 226.52,47.2441 \n",
       "  \"/>\n",
       "<polyline clip-path=\"url(#clip7002)\" style=\"stroke:#000000; stroke-width:2; stroke-opacity:0.1; fill:none\" points=\"\n",
       "  565.012,1487.47 565.012,47.2441 \n",
       "  \"/>\n",
       "<polyline clip-path=\"url(#clip7002)\" style=\"stroke:#000000; stroke-width:2; stroke-opacity:0.1; fill:none\" points=\"\n",
       "  903.503,1487.47 903.503,47.2441 \n",
       "  \"/>\n",
       "<polyline clip-path=\"url(#clip7002)\" style=\"stroke:#000000; stroke-width:2; stroke-opacity:0.1; fill:none\" points=\"\n",
       "  1242,1487.47 1242,47.2441 \n",
       "  \"/>\n",
       "<polyline clip-path=\"url(#clip7002)\" style=\"stroke:#000000; stroke-width:2; stroke-opacity:0.1; fill:none\" points=\"\n",
       "  1580.49,1487.47 1580.49,47.2441 \n",
       "  \"/>\n",
       "<polyline clip-path=\"url(#clip7002)\" style=\"stroke:#000000; stroke-width:2; stroke-opacity:0.1; fill:none\" points=\"\n",
       "  1918.98,1487.47 1918.98,47.2441 \n",
       "  \"/>\n",
       "<polyline clip-path=\"url(#clip7002)\" style=\"stroke:#000000; stroke-width:2; stroke-opacity:0.1; fill:none\" points=\"\n",
       "  2257.47,1487.47 2257.47,47.2441 \n",
       "  \"/>\n",
       "<polyline clip-path=\"url(#clip7002)\" style=\"stroke:#000000; stroke-width:2; stroke-opacity:0.1; fill:none\" points=\"\n",
       "  182.008,1288.62 2352.76,1288.62 \n",
       "  \"/>\n",
       "<polyline clip-path=\"url(#clip7002)\" style=\"stroke:#000000; stroke-width:2; stroke-opacity:0.1; fill:none\" points=\"\n",
       "  182.008,1072.81 2352.76,1072.81 \n",
       "  \"/>\n",
       "<polyline clip-path=\"url(#clip7002)\" style=\"stroke:#000000; stroke-width:2; stroke-opacity:0.1; fill:none\" points=\"\n",
       "  182.008,856.999 2352.76,856.999 \n",
       "  \"/>\n",
       "<polyline clip-path=\"url(#clip7002)\" style=\"stroke:#000000; stroke-width:2; stroke-opacity:0.1; fill:none\" points=\"\n",
       "  182.008,641.187 2352.76,641.187 \n",
       "  \"/>\n",
       "<polyline clip-path=\"url(#clip7002)\" style=\"stroke:#000000; stroke-width:2; stroke-opacity:0.1; fill:none\" points=\"\n",
       "  182.008,425.376 2352.76,425.376 \n",
       "  \"/>\n",
       "<polyline clip-path=\"url(#clip7002)\" style=\"stroke:#000000; stroke-width:2; stroke-opacity:0.1; fill:none\" points=\"\n",
       "  182.008,209.564 2352.76,209.564 \n",
       "  \"/>\n",
       "<polyline clip-path=\"url(#clip7000)\" style=\"stroke:#000000; stroke-width:4; stroke-opacity:1; fill:none\" points=\"\n",
       "  182.008,1487.47 2352.76,1487.47 \n",
       "  \"/>\n",
       "<polyline clip-path=\"url(#clip7000)\" style=\"stroke:#000000; stroke-width:4; stroke-opacity:1; fill:none\" points=\"\n",
       "  182.008,1487.47 182.008,47.2441 \n",
       "  \"/>\n",
       "<polyline clip-path=\"url(#clip7000)\" style=\"stroke:#000000; stroke-width:4; stroke-opacity:1; fill:none\" points=\"\n",
       "  226.52,1487.47 226.52,1465.87 \n",
       "  \"/>\n",
       "<polyline clip-path=\"url(#clip7000)\" style=\"stroke:#000000; stroke-width:4; stroke-opacity:1; fill:none\" points=\"\n",
       "  565.012,1487.47 565.012,1465.87 \n",
       "  \"/>\n",
       "<polyline clip-path=\"url(#clip7000)\" style=\"stroke:#000000; stroke-width:4; stroke-opacity:1; fill:none\" points=\"\n",
       "  903.503,1487.47 903.503,1465.87 \n",
       "  \"/>\n",
       "<polyline clip-path=\"url(#clip7000)\" style=\"stroke:#000000; stroke-width:4; stroke-opacity:1; fill:none\" points=\"\n",
       "  1242,1487.47 1242,1465.87 \n",
       "  \"/>\n",
       "<polyline clip-path=\"url(#clip7000)\" style=\"stroke:#000000; stroke-width:4; stroke-opacity:1; fill:none\" points=\"\n",
       "  1580.49,1487.47 1580.49,1465.87 \n",
       "  \"/>\n",
       "<polyline clip-path=\"url(#clip7000)\" style=\"stroke:#000000; stroke-width:4; stroke-opacity:1; fill:none\" points=\"\n",
       "  1918.98,1487.47 1918.98,1465.87 \n",
       "  \"/>\n",
       "<polyline clip-path=\"url(#clip7000)\" style=\"stroke:#000000; stroke-width:4; stroke-opacity:1; fill:none\" points=\"\n",
       "  2257.47,1487.47 2257.47,1465.87 \n",
       "  \"/>\n",
       "<polyline clip-path=\"url(#clip7000)\" style=\"stroke:#000000; stroke-width:4; stroke-opacity:1; fill:none\" points=\"\n",
       "  182.008,1288.62 214.569,1288.62 \n",
       "  \"/>\n",
       "<polyline clip-path=\"url(#clip7000)\" style=\"stroke:#000000; stroke-width:4; stroke-opacity:1; fill:none\" points=\"\n",
       "  182.008,1072.81 214.569,1072.81 \n",
       "  \"/>\n",
       "<polyline clip-path=\"url(#clip7000)\" style=\"stroke:#000000; stroke-width:4; stroke-opacity:1; fill:none\" points=\"\n",
       "  182.008,856.999 214.569,856.999 \n",
       "  \"/>\n",
       "<polyline clip-path=\"url(#clip7000)\" style=\"stroke:#000000; stroke-width:4; stroke-opacity:1; fill:none\" points=\"\n",
       "  182.008,641.187 214.569,641.187 \n",
       "  \"/>\n",
       "<polyline clip-path=\"url(#clip7000)\" style=\"stroke:#000000; stroke-width:4; stroke-opacity:1; fill:none\" points=\"\n",
       "  182.008,425.376 214.569,425.376 \n",
       "  \"/>\n",
       "<polyline clip-path=\"url(#clip7000)\" style=\"stroke:#000000; stroke-width:4; stroke-opacity:1; fill:none\" points=\"\n",
       "  182.008,209.564 214.569,209.564 \n",
       "  \"/>\n",
       "<g clip-path=\"url(#clip7000)\">\n",
       "<text style=\"fill:#000000; fill-opacity:1; font-family:Arial,Helvetica Neue,Helvetica,sans-serif; font-size:48px; text-anchor:middle;\" transform=\"rotate(0, 226.52, 1541.47)\" x=\"226.52\" y=\"1541.47\">0</text>\n",
       "</g>\n",
       "<g clip-path=\"url(#clip7000)\">\n",
       "<text style=\"fill:#000000; fill-opacity:1; font-family:Arial,Helvetica Neue,Helvetica,sans-serif; font-size:48px; text-anchor:middle;\" transform=\"rotate(0, 565.012, 1541.47)\" x=\"565.012\" y=\"1541.47\">20</text>\n",
       "</g>\n",
       "<g clip-path=\"url(#clip7000)\">\n",
       "<text style=\"fill:#000000; fill-opacity:1; font-family:Arial,Helvetica Neue,Helvetica,sans-serif; font-size:48px; text-anchor:middle;\" transform=\"rotate(0, 903.503, 1541.47)\" x=\"903.503\" y=\"1541.47\">40</text>\n",
       "</g>\n",
       "<g clip-path=\"url(#clip7000)\">\n",
       "<text style=\"fill:#000000; fill-opacity:1; font-family:Arial,Helvetica Neue,Helvetica,sans-serif; font-size:48px; text-anchor:middle;\" transform=\"rotate(0, 1242, 1541.47)\" x=\"1242\" y=\"1541.47\">60</text>\n",
       "</g>\n",
       "<g clip-path=\"url(#clip7000)\">\n",
       "<text style=\"fill:#000000; fill-opacity:1; font-family:Arial,Helvetica Neue,Helvetica,sans-serif; font-size:48px; text-anchor:middle;\" transform=\"rotate(0, 1580.49, 1541.47)\" x=\"1580.49\" y=\"1541.47\">80</text>\n",
       "</g>\n",
       "<g clip-path=\"url(#clip7000)\">\n",
       "<text style=\"fill:#000000; fill-opacity:1; font-family:Arial,Helvetica Neue,Helvetica,sans-serif; font-size:48px; text-anchor:middle;\" transform=\"rotate(0, 1918.98, 1541.47)\" x=\"1918.98\" y=\"1541.47\">100</text>\n",
       "</g>\n",
       "<g clip-path=\"url(#clip7000)\">\n",
       "<text style=\"fill:#000000; fill-opacity:1; font-family:Arial,Helvetica Neue,Helvetica,sans-serif; font-size:48px; text-anchor:middle;\" transform=\"rotate(0, 2257.47, 1541.47)\" x=\"2257.47\" y=\"1541.47\">120</text>\n",
       "</g>\n",
       "<g clip-path=\"url(#clip7000)\">\n",
       "<text style=\"fill:#000000; fill-opacity:1; font-family:Arial,Helvetica Neue,Helvetica,sans-serif; font-size:48px; text-anchor:end;\" transform=\"rotate(0, 158.008, 1306.12)\" x=\"158.008\" y=\"1306.12\">-1.5</text>\n",
       "</g>\n",
       "<g clip-path=\"url(#clip7000)\">\n",
       "<text style=\"fill:#000000; fill-opacity:1; font-family:Arial,Helvetica Neue,Helvetica,sans-serif; font-size:48px; text-anchor:end;\" transform=\"rotate(0, 158.008, 1090.31)\" x=\"158.008\" y=\"1090.31\">-1.0</text>\n",
       "</g>\n",
       "<g clip-path=\"url(#clip7000)\">\n",
       "<text style=\"fill:#000000; fill-opacity:1; font-family:Arial,Helvetica Neue,Helvetica,sans-serif; font-size:48px; text-anchor:end;\" transform=\"rotate(0, 158.008, 874.499)\" x=\"158.008\" y=\"874.499\">-0.5</text>\n",
       "</g>\n",
       "<g clip-path=\"url(#clip7000)\">\n",
       "<text style=\"fill:#000000; fill-opacity:1; font-family:Arial,Helvetica Neue,Helvetica,sans-serif; font-size:48px; text-anchor:end;\" transform=\"rotate(0, 158.008, 658.687)\" x=\"158.008\" y=\"658.687\">0.0</text>\n",
       "</g>\n",
       "<g clip-path=\"url(#clip7000)\">\n",
       "<text style=\"fill:#000000; fill-opacity:1; font-family:Arial,Helvetica Neue,Helvetica,sans-serif; font-size:48px; text-anchor:end;\" transform=\"rotate(0, 158.008, 442.876)\" x=\"158.008\" y=\"442.876\">0.5</text>\n",
       "</g>\n",
       "<g clip-path=\"url(#clip7000)\">\n",
       "<text style=\"fill:#000000; fill-opacity:1; font-family:Arial,Helvetica Neue,Helvetica,sans-serif; font-size:48px; text-anchor:end;\" transform=\"rotate(0, 158.008, 227.064)\" x=\"158.008\" y=\"227.064\">1.0</text>\n",
       "</g>\n",
       "<circle clip-path=\"url(#clip7002)\" style=\"fill:#000000; stroke:none; fill-opacity:1\" cx=\"243.444\" cy=\"587.372\" r=\"18\"/>\n",
       "<circle clip-path=\"url(#clip7002)\" style=\"fill:#009af9; stroke:none; fill-opacity:1\" cx=\"243.444\" cy=\"587.372\" r=\"14\"/>\n",
       "<circle clip-path=\"url(#clip7002)\" style=\"fill:#000000; stroke:none; fill-opacity:1\" cx=\"260.369\" cy=\"544.192\" r=\"18\"/>\n",
       "<circle clip-path=\"url(#clip7002)\" style=\"fill:#009af9; stroke:none; fill-opacity:1\" cx=\"260.369\" cy=\"544.192\" r=\"14\"/>\n",
       "<circle clip-path=\"url(#clip7002)\" style=\"fill:#000000; stroke:none; fill-opacity:1\" cx=\"277.293\" cy=\"805.761\" r=\"18\"/>\n",
       "<circle clip-path=\"url(#clip7002)\" style=\"fill:#009af9; stroke:none; fill-opacity:1\" cx=\"277.293\" cy=\"805.761\" r=\"14\"/>\n",
       "<circle clip-path=\"url(#clip7002)\" style=\"fill:#000000; stroke:none; fill-opacity:1\" cx=\"294.218\" cy=\"779.071\" r=\"18\"/>\n",
       "<circle clip-path=\"url(#clip7002)\" style=\"fill:#009af9; stroke:none; fill-opacity:1\" cx=\"294.218\" cy=\"779.071\" r=\"14\"/>\n",
       "<circle clip-path=\"url(#clip7002)\" style=\"fill:#000000; stroke:none; fill-opacity:1\" cx=\"311.143\" cy=\"709.995\" r=\"18\"/>\n",
       "<circle clip-path=\"url(#clip7002)\" style=\"fill:#009af9; stroke:none; fill-opacity:1\" cx=\"311.143\" cy=\"709.995\" r=\"14\"/>\n",
       "<circle clip-path=\"url(#clip7002)\" style=\"fill:#000000; stroke:none; fill-opacity:1\" cx=\"328.067\" cy=\"804.627\" r=\"18\"/>\n",
       "<circle clip-path=\"url(#clip7002)\" style=\"fill:#009af9; stroke:none; fill-opacity:1\" cx=\"328.067\" cy=\"804.627\" r=\"14\"/>\n",
       "<circle clip-path=\"url(#clip7002)\" style=\"fill:#000000; stroke:none; fill-opacity:1\" cx=\"344.992\" cy=\"672.53\" r=\"18\"/>\n",
       "<circle clip-path=\"url(#clip7002)\" style=\"fill:#009af9; stroke:none; fill-opacity:1\" cx=\"344.992\" cy=\"672.53\" r=\"14\"/>\n",
       "<circle clip-path=\"url(#clip7002)\" style=\"fill:#000000; stroke:none; fill-opacity:1\" cx=\"361.916\" cy=\"635.848\" r=\"18\"/>\n",
       "<circle clip-path=\"url(#clip7002)\" style=\"fill:#009af9; stroke:none; fill-opacity:1\" cx=\"361.916\" cy=\"635.848\" r=\"14\"/>\n",
       "<circle clip-path=\"url(#clip7002)\" style=\"fill:#000000; stroke:none; fill-opacity:1\" cx=\"378.841\" cy=\"612.365\" r=\"18\"/>\n",
       "<circle clip-path=\"url(#clip7002)\" style=\"fill:#009af9; stroke:none; fill-opacity:1\" cx=\"378.841\" cy=\"612.365\" r=\"14\"/>\n",
       "<circle clip-path=\"url(#clip7002)\" style=\"fill:#000000; stroke:none; fill-opacity:1\" cx=\"395.766\" cy=\"627.846\" r=\"18\"/>\n",
       "<circle clip-path=\"url(#clip7002)\" style=\"fill:#009af9; stroke:none; fill-opacity:1\" cx=\"395.766\" cy=\"627.846\" r=\"14\"/>\n",
       "<circle clip-path=\"url(#clip7002)\" style=\"fill:#000000; stroke:none; fill-opacity:1\" cx=\"412.69\" cy=\"748.688\" r=\"18\"/>\n",
       "<circle clip-path=\"url(#clip7002)\" style=\"fill:#009af9; stroke:none; fill-opacity:1\" cx=\"412.69\" cy=\"748.688\" r=\"14\"/>\n",
       "<circle clip-path=\"url(#clip7002)\" style=\"fill:#000000; stroke:none; fill-opacity:1\" cx=\"429.615\" cy=\"599.845\" r=\"18\"/>\n",
       "<circle clip-path=\"url(#clip7002)\" style=\"fill:#009af9; stroke:none; fill-opacity:1\" cx=\"429.615\" cy=\"599.845\" r=\"14\"/>\n",
       "<circle clip-path=\"url(#clip7002)\" style=\"fill:#000000; stroke:none; fill-opacity:1\" cx=\"446.539\" cy=\"764.375\" r=\"18\"/>\n",
       "<circle clip-path=\"url(#clip7002)\" style=\"fill:#009af9; stroke:none; fill-opacity:1\" cx=\"446.539\" cy=\"764.375\" r=\"14\"/>\n",
       "<circle clip-path=\"url(#clip7002)\" style=\"fill:#000000; stroke:none; fill-opacity:1\" cx=\"463.464\" cy=\"694.56\" r=\"18\"/>\n",
       "<circle clip-path=\"url(#clip7002)\" style=\"fill:#009af9; stroke:none; fill-opacity:1\" cx=\"463.464\" cy=\"694.56\" r=\"14\"/>\n",
       "<circle clip-path=\"url(#clip7002)\" style=\"fill:#000000; stroke:none; fill-opacity:1\" cx=\"480.389\" cy=\"623.409\" r=\"18\"/>\n",
       "<circle clip-path=\"url(#clip7002)\" style=\"fill:#009af9; stroke:none; fill-opacity:1\" cx=\"480.389\" cy=\"623.409\" r=\"14\"/>\n",
       "<circle clip-path=\"url(#clip7002)\" style=\"fill:#000000; stroke:none; fill-opacity:1\" cx=\"497.313\" cy=\"709.366\" r=\"18\"/>\n",
       "<circle clip-path=\"url(#clip7002)\" style=\"fill:#009af9; stroke:none; fill-opacity:1\" cx=\"497.313\" cy=\"709.366\" r=\"14\"/>\n",
       "<circle clip-path=\"url(#clip7002)\" style=\"fill:#000000; stroke:none; fill-opacity:1\" cx=\"514.238\" cy=\"553.845\" r=\"18\"/>\n",
       "<circle clip-path=\"url(#clip7002)\" style=\"fill:#009af9; stroke:none; fill-opacity:1\" cx=\"514.238\" cy=\"553.845\" r=\"14\"/>\n",
       "<circle clip-path=\"url(#clip7002)\" style=\"fill:#000000; stroke:none; fill-opacity:1\" cx=\"531.162\" cy=\"600.626\" r=\"18\"/>\n",
       "<circle clip-path=\"url(#clip7002)\" style=\"fill:#009af9; stroke:none; fill-opacity:1\" cx=\"531.162\" cy=\"600.626\" r=\"14\"/>\n",
       "<circle clip-path=\"url(#clip7002)\" style=\"fill:#000000; stroke:none; fill-opacity:1\" cx=\"548.087\" cy=\"617.726\" r=\"18\"/>\n",
       "<circle clip-path=\"url(#clip7002)\" style=\"fill:#009af9; stroke:none; fill-opacity:1\" cx=\"548.087\" cy=\"617.726\" r=\"14\"/>\n",
       "<circle clip-path=\"url(#clip7002)\" style=\"fill:#000000; stroke:none; fill-opacity:1\" cx=\"565.012\" cy=\"590.58\" r=\"18\"/>\n",
       "<circle clip-path=\"url(#clip7002)\" style=\"fill:#009af9; stroke:none; fill-opacity:1\" cx=\"565.012\" cy=\"590.58\" r=\"14\"/>\n",
       "<circle clip-path=\"url(#clip7002)\" style=\"fill:#000000; stroke:none; fill-opacity:1\" cx=\"581.936\" cy=\"599.204\" r=\"18\"/>\n",
       "<circle clip-path=\"url(#clip7002)\" style=\"fill:#009af9; stroke:none; fill-opacity:1\" cx=\"581.936\" cy=\"599.204\" r=\"14\"/>\n",
       "<circle clip-path=\"url(#clip7002)\" style=\"fill:#000000; stroke:none; fill-opacity:1\" cx=\"598.861\" cy=\"561.293\" r=\"18\"/>\n",
       "<circle clip-path=\"url(#clip7002)\" style=\"fill:#009af9; stroke:none; fill-opacity:1\" cx=\"598.861\" cy=\"561.293\" r=\"14\"/>\n",
       "<circle clip-path=\"url(#clip7002)\" style=\"fill:#000000; stroke:none; fill-opacity:1\" cx=\"615.785\" cy=\"667.835\" r=\"18\"/>\n",
       "<circle clip-path=\"url(#clip7002)\" style=\"fill:#009af9; stroke:none; fill-opacity:1\" cx=\"615.785\" cy=\"667.835\" r=\"14\"/>\n",
       "<circle clip-path=\"url(#clip7002)\" style=\"fill:#000000; stroke:none; fill-opacity:1\" cx=\"632.71\" cy=\"552.301\" r=\"18\"/>\n",
       "<circle clip-path=\"url(#clip7002)\" style=\"fill:#009af9; stroke:none; fill-opacity:1\" cx=\"632.71\" cy=\"552.301\" r=\"14\"/>\n",
       "<circle clip-path=\"url(#clip7002)\" style=\"fill:#000000; stroke:none; fill-opacity:1\" cx=\"649.634\" cy=\"665.436\" r=\"18\"/>\n",
       "<circle clip-path=\"url(#clip7002)\" style=\"fill:#009af9; stroke:none; fill-opacity:1\" cx=\"649.634\" cy=\"665.436\" r=\"14\"/>\n",
       "<circle clip-path=\"url(#clip7002)\" style=\"fill:#000000; stroke:none; fill-opacity:1\" cx=\"666.559\" cy=\"620.086\" r=\"18\"/>\n",
       "<circle clip-path=\"url(#clip7002)\" style=\"fill:#009af9; stroke:none; fill-opacity:1\" cx=\"666.559\" cy=\"620.086\" r=\"14\"/>\n",
       "<circle clip-path=\"url(#clip7002)\" style=\"fill:#000000; stroke:none; fill-opacity:1\" cx=\"683.484\" cy=\"518.442\" r=\"18\"/>\n",
       "<circle clip-path=\"url(#clip7002)\" style=\"fill:#009af9; stroke:none; fill-opacity:1\" cx=\"683.484\" cy=\"518.442\" r=\"14\"/>\n",
       "<circle clip-path=\"url(#clip7002)\" style=\"fill:#000000; stroke:none; fill-opacity:1\" cx=\"700.408\" cy=\"627.875\" r=\"18\"/>\n",
       "<circle clip-path=\"url(#clip7002)\" style=\"fill:#009af9; stroke:none; fill-opacity:1\" cx=\"700.408\" cy=\"627.875\" r=\"14\"/>\n",
       "<circle clip-path=\"url(#clip7002)\" style=\"fill:#000000; stroke:none; fill-opacity:1\" cx=\"717.333\" cy=\"530.407\" r=\"18\"/>\n",
       "<circle clip-path=\"url(#clip7002)\" style=\"fill:#009af9; stroke:none; fill-opacity:1\" cx=\"717.333\" cy=\"530.407\" r=\"14\"/>\n",
       "<circle clip-path=\"url(#clip7002)\" style=\"fill:#000000; stroke:none; fill-opacity:1\" cx=\"734.257\" cy=\"561.363\" r=\"18\"/>\n",
       "<circle clip-path=\"url(#clip7002)\" style=\"fill:#009af9; stroke:none; fill-opacity:1\" cx=\"734.257\" cy=\"561.363\" r=\"14\"/>\n",
       "<circle clip-path=\"url(#clip7002)\" style=\"fill:#000000; stroke:none; fill-opacity:1\" cx=\"751.182\" cy=\"624.366\" r=\"18\"/>\n",
       "<circle clip-path=\"url(#clip7002)\" style=\"fill:#009af9; stroke:none; fill-opacity:1\" cx=\"751.182\" cy=\"624.366\" r=\"14\"/>\n",
       "<circle clip-path=\"url(#clip7002)\" style=\"fill:#000000; stroke:none; fill-opacity:1\" cx=\"768.107\" cy=\"660.409\" r=\"18\"/>\n",
       "<circle clip-path=\"url(#clip7002)\" style=\"fill:#009af9; stroke:none; fill-opacity:1\" cx=\"768.107\" cy=\"660.409\" r=\"14\"/>\n",
       "<circle clip-path=\"url(#clip7002)\" style=\"fill:#000000; stroke:none; fill-opacity:1\" cx=\"785.031\" cy=\"680.032\" r=\"18\"/>\n",
       "<circle clip-path=\"url(#clip7002)\" style=\"fill:#009af9; stroke:none; fill-opacity:1\" cx=\"785.031\" cy=\"680.032\" r=\"14\"/>\n",
       "<circle clip-path=\"url(#clip7002)\" style=\"fill:#000000; stroke:none; fill-opacity:1\" cx=\"801.956\" cy=\"666.392\" r=\"18\"/>\n",
       "<circle clip-path=\"url(#clip7002)\" style=\"fill:#009af9; stroke:none; fill-opacity:1\" cx=\"801.956\" cy=\"666.392\" r=\"14\"/>\n",
       "<circle clip-path=\"url(#clip7002)\" style=\"fill:#000000; stroke:none; fill-opacity:1\" cx=\"818.88\" cy=\"606.651\" r=\"18\"/>\n",
       "<circle clip-path=\"url(#clip7002)\" style=\"fill:#009af9; stroke:none; fill-opacity:1\" cx=\"818.88\" cy=\"606.651\" r=\"14\"/>\n",
       "<circle clip-path=\"url(#clip7002)\" style=\"fill:#000000; stroke:none; fill-opacity:1\" cx=\"835.805\" cy=\"781.874\" r=\"18\"/>\n",
       "<circle clip-path=\"url(#clip7002)\" style=\"fill:#009af9; stroke:none; fill-opacity:1\" cx=\"835.805\" cy=\"781.874\" r=\"14\"/>\n",
       "<circle clip-path=\"url(#clip7002)\" style=\"fill:#000000; stroke:none; fill-opacity:1\" cx=\"852.73\" cy=\"796.434\" r=\"18\"/>\n",
       "<circle clip-path=\"url(#clip7002)\" style=\"fill:#009af9; stroke:none; fill-opacity:1\" cx=\"852.73\" cy=\"796.434\" r=\"14\"/>\n",
       "<circle clip-path=\"url(#clip7002)\" style=\"fill:#000000; stroke:none; fill-opacity:1\" cx=\"869.654\" cy=\"554.984\" r=\"18\"/>\n",
       "<circle clip-path=\"url(#clip7002)\" style=\"fill:#009af9; stroke:none; fill-opacity:1\" cx=\"869.654\" cy=\"554.984\" r=\"14\"/>\n",
       "<circle clip-path=\"url(#clip7002)\" style=\"fill:#000000; stroke:none; fill-opacity:1\" cx=\"886.579\" cy=\"542.827\" r=\"18\"/>\n",
       "<circle clip-path=\"url(#clip7002)\" style=\"fill:#009af9; stroke:none; fill-opacity:1\" cx=\"886.579\" cy=\"542.827\" r=\"14\"/>\n",
       "<circle clip-path=\"url(#clip7002)\" style=\"fill:#000000; stroke:none; fill-opacity:1\" cx=\"903.503\" cy=\"657.689\" r=\"18\"/>\n",
       "<circle clip-path=\"url(#clip7002)\" style=\"fill:#009af9; stroke:none; fill-opacity:1\" cx=\"903.503\" cy=\"657.689\" r=\"14\"/>\n",
       "<circle clip-path=\"url(#clip7002)\" style=\"fill:#000000; stroke:none; fill-opacity:1\" cx=\"920.428\" cy=\"567.67\" r=\"18\"/>\n",
       "<circle clip-path=\"url(#clip7002)\" style=\"fill:#009af9; stroke:none; fill-opacity:1\" cx=\"920.428\" cy=\"567.67\" r=\"14\"/>\n",
       "<circle clip-path=\"url(#clip7002)\" style=\"fill:#000000; stroke:none; fill-opacity:1\" cx=\"937.352\" cy=\"505.291\" r=\"18\"/>\n",
       "<circle clip-path=\"url(#clip7002)\" style=\"fill:#009af9; stroke:none; fill-opacity:1\" cx=\"937.352\" cy=\"505.291\" r=\"14\"/>\n",
       "<circle clip-path=\"url(#clip7002)\" style=\"fill:#000000; stroke:none; fill-opacity:1\" cx=\"954.277\" cy=\"648.6\" r=\"18\"/>\n",
       "<circle clip-path=\"url(#clip7002)\" style=\"fill:#009af9; stroke:none; fill-opacity:1\" cx=\"954.277\" cy=\"648.6\" r=\"14\"/>\n",
       "<circle clip-path=\"url(#clip7002)\" style=\"fill:#000000; stroke:none; fill-opacity:1\" cx=\"971.202\" cy=\"930.868\" r=\"18\"/>\n",
       "<circle clip-path=\"url(#clip7002)\" style=\"fill:#009af9; stroke:none; fill-opacity:1\" cx=\"971.202\" cy=\"930.868\" r=\"14\"/>\n",
       "<circle clip-path=\"url(#clip7002)\" style=\"fill:#000000; stroke:none; fill-opacity:1\" cx=\"988.126\" cy=\"680.754\" r=\"18\"/>\n",
       "<circle clip-path=\"url(#clip7002)\" style=\"fill:#009af9; stroke:none; fill-opacity:1\" cx=\"988.126\" cy=\"680.754\" r=\"14\"/>\n",
       "<circle clip-path=\"url(#clip7002)\" style=\"fill:#000000; stroke:none; fill-opacity:1\" cx=\"1005.05\" cy=\"854.982\" r=\"18\"/>\n",
       "<circle clip-path=\"url(#clip7002)\" style=\"fill:#009af9; stroke:none; fill-opacity:1\" cx=\"1005.05\" cy=\"854.982\" r=\"14\"/>\n",
       "<circle clip-path=\"url(#clip7002)\" style=\"fill:#000000; stroke:none; fill-opacity:1\" cx=\"1021.98\" cy=\"446.675\" r=\"18\"/>\n",
       "<circle clip-path=\"url(#clip7002)\" style=\"fill:#009af9; stroke:none; fill-opacity:1\" cx=\"1021.98\" cy=\"446.675\" r=\"14\"/>\n",
       "<circle clip-path=\"url(#clip7002)\" style=\"fill:#000000; stroke:none; fill-opacity:1\" cx=\"1038.9\" cy=\"721.925\" r=\"18\"/>\n",
       "<circle clip-path=\"url(#clip7002)\" style=\"fill:#009af9; stroke:none; fill-opacity:1\" cx=\"1038.9\" cy=\"721.925\" r=\"14\"/>\n",
       "<circle clip-path=\"url(#clip7002)\" style=\"fill:#000000; stroke:none; fill-opacity:1\" cx=\"1055.82\" cy=\"544.738\" r=\"18\"/>\n",
       "<circle clip-path=\"url(#clip7002)\" style=\"fill:#009af9; stroke:none; fill-opacity:1\" cx=\"1055.82\" cy=\"544.738\" r=\"14\"/>\n",
       "<circle clip-path=\"url(#clip7002)\" style=\"fill:#000000; stroke:none; fill-opacity:1\" cx=\"1072.75\" cy=\"88.0053\" r=\"18\"/>\n",
       "<circle clip-path=\"url(#clip7002)\" style=\"fill:#009af9; stroke:none; fill-opacity:1\" cx=\"1072.75\" cy=\"88.0053\" r=\"14\"/>\n",
       "<circle clip-path=\"url(#clip7002)\" style=\"fill:#000000; stroke:none; fill-opacity:1\" cx=\"1089.67\" cy=\"620.055\" r=\"18\"/>\n",
       "<circle clip-path=\"url(#clip7002)\" style=\"fill:#009af9; stroke:none; fill-opacity:1\" cx=\"1089.67\" cy=\"620.055\" r=\"14\"/>\n",
       "<circle clip-path=\"url(#clip7002)\" style=\"fill:#000000; stroke:none; fill-opacity:1\" cx=\"1106.6\" cy=\"601.166\" r=\"18\"/>\n",
       "<circle clip-path=\"url(#clip7002)\" style=\"fill:#009af9; stroke:none; fill-opacity:1\" cx=\"1106.6\" cy=\"601.166\" r=\"14\"/>\n",
       "<circle clip-path=\"url(#clip7002)\" style=\"fill:#000000; stroke:none; fill-opacity:1\" cx=\"1123.52\" cy=\"829.75\" r=\"18\"/>\n",
       "<circle clip-path=\"url(#clip7002)\" style=\"fill:#009af9; stroke:none; fill-opacity:1\" cx=\"1123.52\" cy=\"829.75\" r=\"14\"/>\n",
       "<circle clip-path=\"url(#clip7002)\" style=\"fill:#000000; stroke:none; fill-opacity:1\" cx=\"1140.45\" cy=\"562.24\" r=\"18\"/>\n",
       "<circle clip-path=\"url(#clip7002)\" style=\"fill:#009af9; stroke:none; fill-opacity:1\" cx=\"1140.45\" cy=\"562.24\" r=\"14\"/>\n",
       "<circle clip-path=\"url(#clip7002)\" style=\"fill:#000000; stroke:none; fill-opacity:1\" cx=\"1157.37\" cy=\"373.881\" r=\"18\"/>\n",
       "<circle clip-path=\"url(#clip7002)\" style=\"fill:#009af9; stroke:none; fill-opacity:1\" cx=\"1157.37\" cy=\"373.881\" r=\"14\"/>\n",
       "<circle clip-path=\"url(#clip7002)\" style=\"fill:#000000; stroke:none; fill-opacity:1\" cx=\"1174.3\" cy=\"737.581\" r=\"18\"/>\n",
       "<circle clip-path=\"url(#clip7002)\" style=\"fill:#009af9; stroke:none; fill-opacity:1\" cx=\"1174.3\" cy=\"737.581\" r=\"14\"/>\n",
       "<circle clip-path=\"url(#clip7002)\" style=\"fill:#000000; stroke:none; fill-opacity:1\" cx=\"1191.22\" cy=\"685.586\" r=\"18\"/>\n",
       "<circle clip-path=\"url(#clip7002)\" style=\"fill:#009af9; stroke:none; fill-opacity:1\" cx=\"1191.22\" cy=\"685.586\" r=\"14\"/>\n",
       "<circle clip-path=\"url(#clip7002)\" style=\"fill:#000000; stroke:none; fill-opacity:1\" cx=\"1208.15\" cy=\"625.643\" r=\"18\"/>\n",
       "<circle clip-path=\"url(#clip7002)\" style=\"fill:#009af9; stroke:none; fill-opacity:1\" cx=\"1208.15\" cy=\"625.643\" r=\"14\"/>\n",
       "<circle clip-path=\"url(#clip7002)\" style=\"fill:#000000; stroke:none; fill-opacity:1\" cx=\"1225.07\" cy=\"599.5\" r=\"18\"/>\n",
       "<circle clip-path=\"url(#clip7002)\" style=\"fill:#009af9; stroke:none; fill-opacity:1\" cx=\"1225.07\" cy=\"599.5\" r=\"14\"/>\n",
       "<circle clip-path=\"url(#clip7002)\" style=\"fill:#000000; stroke:none; fill-opacity:1\" cx=\"1242\" cy=\"683.423\" r=\"18\"/>\n",
       "<circle clip-path=\"url(#clip7002)\" style=\"fill:#009af9; stroke:none; fill-opacity:1\" cx=\"1242\" cy=\"683.423\" r=\"14\"/>\n",
       "<circle clip-path=\"url(#clip7002)\" style=\"fill:#000000; stroke:none; fill-opacity:1\" cx=\"1258.92\" cy=\"790.245\" r=\"18\"/>\n",
       "<circle clip-path=\"url(#clip7002)\" style=\"fill:#009af9; stroke:none; fill-opacity:1\" cx=\"1258.92\" cy=\"790.245\" r=\"14\"/>\n",
       "<circle clip-path=\"url(#clip7002)\" style=\"fill:#000000; stroke:none; fill-opacity:1\" cx=\"1275.84\" cy=\"669.287\" r=\"18\"/>\n",
       "<circle clip-path=\"url(#clip7002)\" style=\"fill:#009af9; stroke:none; fill-opacity:1\" cx=\"1275.84\" cy=\"669.287\" r=\"14\"/>\n",
       "<circle clip-path=\"url(#clip7002)\" style=\"fill:#000000; stroke:none; fill-opacity:1\" cx=\"1292.77\" cy=\"805.923\" r=\"18\"/>\n",
       "<circle clip-path=\"url(#clip7002)\" style=\"fill:#009af9; stroke:none; fill-opacity:1\" cx=\"1292.77\" cy=\"805.923\" r=\"14\"/>\n",
       "<circle clip-path=\"url(#clip7002)\" style=\"fill:#000000; stroke:none; fill-opacity:1\" cx=\"1309.69\" cy=\"655.82\" r=\"18\"/>\n",
       "<circle clip-path=\"url(#clip7002)\" style=\"fill:#009af9; stroke:none; fill-opacity:1\" cx=\"1309.69\" cy=\"655.82\" r=\"14\"/>\n",
       "<circle clip-path=\"url(#clip7002)\" style=\"fill:#000000; stroke:none; fill-opacity:1\" cx=\"1326.62\" cy=\"653.544\" r=\"18\"/>\n",
       "<circle clip-path=\"url(#clip7002)\" style=\"fill:#009af9; stroke:none; fill-opacity:1\" cx=\"1326.62\" cy=\"653.544\" r=\"14\"/>\n",
       "<circle clip-path=\"url(#clip7002)\" style=\"fill:#000000; stroke:none; fill-opacity:1\" cx=\"1343.54\" cy=\"647.74\" r=\"18\"/>\n",
       "<circle clip-path=\"url(#clip7002)\" style=\"fill:#009af9; stroke:none; fill-opacity:1\" cx=\"1343.54\" cy=\"647.74\" r=\"14\"/>\n",
       "<circle clip-path=\"url(#clip7002)\" style=\"fill:#000000; stroke:none; fill-opacity:1\" cx=\"1360.47\" cy=\"516.585\" r=\"18\"/>\n",
       "<circle clip-path=\"url(#clip7002)\" style=\"fill:#009af9; stroke:none; fill-opacity:1\" cx=\"1360.47\" cy=\"516.585\" r=\"14\"/>\n",
       "<circle clip-path=\"url(#clip7002)\" style=\"fill:#000000; stroke:none; fill-opacity:1\" cx=\"1377.39\" cy=\"617.218\" r=\"18\"/>\n",
       "<circle clip-path=\"url(#clip7002)\" style=\"fill:#009af9; stroke:none; fill-opacity:1\" cx=\"1377.39\" cy=\"617.218\" r=\"14\"/>\n",
       "<circle clip-path=\"url(#clip7002)\" style=\"fill:#000000; stroke:none; fill-opacity:1\" cx=\"1394.32\" cy=\"784.561\" r=\"18\"/>\n",
       "<circle clip-path=\"url(#clip7002)\" style=\"fill:#009af9; stroke:none; fill-opacity:1\" cx=\"1394.32\" cy=\"784.561\" r=\"14\"/>\n",
       "<circle clip-path=\"url(#clip7002)\" style=\"fill:#000000; stroke:none; fill-opacity:1\" cx=\"1411.24\" cy=\"679.716\" r=\"18\"/>\n",
       "<circle clip-path=\"url(#clip7002)\" style=\"fill:#009af9; stroke:none; fill-opacity:1\" cx=\"1411.24\" cy=\"679.716\" r=\"14\"/>\n",
       "<circle clip-path=\"url(#clip7002)\" style=\"fill:#000000; stroke:none; fill-opacity:1\" cx=\"1428.17\" cy=\"570.981\" r=\"18\"/>\n",
       "<circle clip-path=\"url(#clip7002)\" style=\"fill:#009af9; stroke:none; fill-opacity:1\" cx=\"1428.17\" cy=\"570.981\" r=\"14\"/>\n",
       "<circle clip-path=\"url(#clip7002)\" style=\"fill:#000000; stroke:none; fill-opacity:1\" cx=\"1445.09\" cy=\"647.382\" r=\"18\"/>\n",
       "<circle clip-path=\"url(#clip7002)\" style=\"fill:#009af9; stroke:none; fill-opacity:1\" cx=\"1445.09\" cy=\"647.382\" r=\"14\"/>\n",
       "<circle clip-path=\"url(#clip7002)\" style=\"fill:#000000; stroke:none; fill-opacity:1\" cx=\"1462.01\" cy=\"733.132\" r=\"18\"/>\n",
       "<circle clip-path=\"url(#clip7002)\" style=\"fill:#009af9; stroke:none; fill-opacity:1\" cx=\"1462.01\" cy=\"733.132\" r=\"14\"/>\n",
       "<circle clip-path=\"url(#clip7002)\" style=\"fill:#000000; stroke:none; fill-opacity:1\" cx=\"1478.94\" cy=\"731.728\" r=\"18\"/>\n",
       "<circle clip-path=\"url(#clip7002)\" style=\"fill:#009af9; stroke:none; fill-opacity:1\" cx=\"1478.94\" cy=\"731.728\" r=\"14\"/>\n",
       "<circle clip-path=\"url(#clip7002)\" style=\"fill:#000000; stroke:none; fill-opacity:1\" cx=\"1495.86\" cy=\"600.628\" r=\"18\"/>\n",
       "<circle clip-path=\"url(#clip7002)\" style=\"fill:#009af9; stroke:none; fill-opacity:1\" cx=\"1495.86\" cy=\"600.628\" r=\"14\"/>\n",
       "<circle clip-path=\"url(#clip7002)\" style=\"fill:#000000; stroke:none; fill-opacity:1\" cx=\"1512.79\" cy=\"820.258\" r=\"18\"/>\n",
       "<circle clip-path=\"url(#clip7002)\" style=\"fill:#009af9; stroke:none; fill-opacity:1\" cx=\"1512.79\" cy=\"820.258\" r=\"14\"/>\n",
       "<circle clip-path=\"url(#clip7002)\" style=\"fill:#000000; stroke:none; fill-opacity:1\" cx=\"1529.71\" cy=\"671.896\" r=\"18\"/>\n",
       "<circle clip-path=\"url(#clip7002)\" style=\"fill:#009af9; stroke:none; fill-opacity:1\" cx=\"1529.71\" cy=\"671.896\" r=\"14\"/>\n",
       "<circle clip-path=\"url(#clip7002)\" style=\"fill:#000000; stroke:none; fill-opacity:1\" cx=\"1546.64\" cy=\"608.595\" r=\"18\"/>\n",
       "<circle clip-path=\"url(#clip7002)\" style=\"fill:#009af9; stroke:none; fill-opacity:1\" cx=\"1546.64\" cy=\"608.595\" r=\"14\"/>\n",
       "<circle clip-path=\"url(#clip7002)\" style=\"fill:#000000; stroke:none; fill-opacity:1\" cx=\"1563.56\" cy=\"581.368\" r=\"18\"/>\n",
       "<circle clip-path=\"url(#clip7002)\" style=\"fill:#009af9; stroke:none; fill-opacity:1\" cx=\"1563.56\" cy=\"581.368\" r=\"14\"/>\n",
       "<circle clip-path=\"url(#clip7002)\" style=\"fill:#000000; stroke:none; fill-opacity:1\" cx=\"1580.49\" cy=\"615.567\" r=\"18\"/>\n",
       "<circle clip-path=\"url(#clip7002)\" style=\"fill:#009af9; stroke:none; fill-opacity:1\" cx=\"1580.49\" cy=\"615.567\" r=\"14\"/>\n",
       "<circle clip-path=\"url(#clip7002)\" style=\"fill:#000000; stroke:none; fill-opacity:1\" cx=\"1597.41\" cy=\"607.688\" r=\"18\"/>\n",
       "<circle clip-path=\"url(#clip7002)\" style=\"fill:#009af9; stroke:none; fill-opacity:1\" cx=\"1597.41\" cy=\"607.688\" r=\"14\"/>\n",
       "<circle clip-path=\"url(#clip7002)\" style=\"fill:#000000; stroke:none; fill-opacity:1\" cx=\"1614.34\" cy=\"569.22\" r=\"18\"/>\n",
       "<circle clip-path=\"url(#clip7002)\" style=\"fill:#009af9; stroke:none; fill-opacity:1\" cx=\"1614.34\" cy=\"569.22\" r=\"14\"/>\n",
       "<circle clip-path=\"url(#clip7002)\" style=\"fill:#000000; stroke:none; fill-opacity:1\" cx=\"1631.26\" cy=\"606.687\" r=\"18\"/>\n",
       "<circle clip-path=\"url(#clip7002)\" style=\"fill:#009af9; stroke:none; fill-opacity:1\" cx=\"1631.26\" cy=\"606.687\" r=\"14\"/>\n",
       "<circle clip-path=\"url(#clip7002)\" style=\"fill:#000000; stroke:none; fill-opacity:1\" cx=\"1648.19\" cy=\"655.896\" r=\"18\"/>\n",
       "<circle clip-path=\"url(#clip7002)\" style=\"fill:#009af9; stroke:none; fill-opacity:1\" cx=\"1648.19\" cy=\"655.896\" r=\"14\"/>\n",
       "<circle clip-path=\"url(#clip7002)\" style=\"fill:#000000; stroke:none; fill-opacity:1\" cx=\"1665.11\" cy=\"643.762\" r=\"18\"/>\n",
       "<circle clip-path=\"url(#clip7002)\" style=\"fill:#009af9; stroke:none; fill-opacity:1\" cx=\"1665.11\" cy=\"643.762\" r=\"14\"/>\n",
       "<circle clip-path=\"url(#clip7002)\" style=\"fill:#000000; stroke:none; fill-opacity:1\" cx=\"1682.03\" cy=\"531.5\" r=\"18\"/>\n",
       "<circle clip-path=\"url(#clip7002)\" style=\"fill:#009af9; stroke:none; fill-opacity:1\" cx=\"1682.03\" cy=\"531.5\" r=\"14\"/>\n",
       "<circle clip-path=\"url(#clip7002)\" style=\"fill:#000000; stroke:none; fill-opacity:1\" cx=\"1698.96\" cy=\"567.321\" r=\"18\"/>\n",
       "<circle clip-path=\"url(#clip7002)\" style=\"fill:#009af9; stroke:none; fill-opacity:1\" cx=\"1698.96\" cy=\"567.321\" r=\"14\"/>\n",
       "<circle clip-path=\"url(#clip7002)\" style=\"fill:#000000; stroke:none; fill-opacity:1\" cx=\"1715.88\" cy=\"701.396\" r=\"18\"/>\n",
       "<circle clip-path=\"url(#clip7002)\" style=\"fill:#009af9; stroke:none; fill-opacity:1\" cx=\"1715.88\" cy=\"701.396\" r=\"14\"/>\n",
       "<circle clip-path=\"url(#clip7002)\" style=\"fill:#000000; stroke:none; fill-opacity:1\" cx=\"1732.81\" cy=\"624.592\" r=\"18\"/>\n",
       "<circle clip-path=\"url(#clip7002)\" style=\"fill:#009af9; stroke:none; fill-opacity:1\" cx=\"1732.81\" cy=\"624.592\" r=\"14\"/>\n",
       "<circle clip-path=\"url(#clip7002)\" style=\"fill:#000000; stroke:none; fill-opacity:1\" cx=\"1749.73\" cy=\"641.381\" r=\"18\"/>\n",
       "<circle clip-path=\"url(#clip7002)\" style=\"fill:#009af9; stroke:none; fill-opacity:1\" cx=\"1749.73\" cy=\"641.381\" r=\"14\"/>\n",
       "<circle clip-path=\"url(#clip7002)\" style=\"fill:#000000; stroke:none; fill-opacity:1\" cx=\"1766.66\" cy=\"473.15\" r=\"18\"/>\n",
       "<circle clip-path=\"url(#clip7002)\" style=\"fill:#009af9; stroke:none; fill-opacity:1\" cx=\"1766.66\" cy=\"473.15\" r=\"14\"/>\n",
       "<circle clip-path=\"url(#clip7002)\" style=\"fill:#000000; stroke:none; fill-opacity:1\" cx=\"1783.58\" cy=\"688.485\" r=\"18\"/>\n",
       "<circle clip-path=\"url(#clip7002)\" style=\"fill:#009af9; stroke:none; fill-opacity:1\" cx=\"1783.58\" cy=\"688.485\" r=\"14\"/>\n",
       "<circle clip-path=\"url(#clip7002)\" style=\"fill:#000000; stroke:none; fill-opacity:1\" cx=\"1800.51\" cy=\"474.753\" r=\"18\"/>\n",
       "<circle clip-path=\"url(#clip7002)\" style=\"fill:#009af9; stroke:none; fill-opacity:1\" cx=\"1800.51\" cy=\"474.753\" r=\"14\"/>\n",
       "<circle clip-path=\"url(#clip7002)\" style=\"fill:#000000; stroke:none; fill-opacity:1\" cx=\"1817.43\" cy=\"599.067\" r=\"18\"/>\n",
       "<circle clip-path=\"url(#clip7002)\" style=\"fill:#009af9; stroke:none; fill-opacity:1\" cx=\"1817.43\" cy=\"599.067\" r=\"14\"/>\n",
       "<circle clip-path=\"url(#clip7002)\" style=\"fill:#000000; stroke:none; fill-opacity:1\" cx=\"1834.36\" cy=\"596.299\" r=\"18\"/>\n",
       "<circle clip-path=\"url(#clip7002)\" style=\"fill:#009af9; stroke:none; fill-opacity:1\" cx=\"1834.36\" cy=\"596.299\" r=\"14\"/>\n",
       "<circle clip-path=\"url(#clip7002)\" style=\"fill:#000000; stroke:none; fill-opacity:1\" cx=\"1851.28\" cy=\"291.684\" r=\"18\"/>\n",
       "<circle clip-path=\"url(#clip7002)\" style=\"fill:#009af9; stroke:none; fill-opacity:1\" cx=\"1851.28\" cy=\"291.684\" r=\"14\"/>\n",
       "<circle clip-path=\"url(#clip7002)\" style=\"fill:#000000; stroke:none; fill-opacity:1\" cx=\"1868.2\" cy=\"682.295\" r=\"18\"/>\n",
       "<circle clip-path=\"url(#clip7002)\" style=\"fill:#009af9; stroke:none; fill-opacity:1\" cx=\"1868.2\" cy=\"682.295\" r=\"14\"/>\n",
       "<circle clip-path=\"url(#clip7002)\" style=\"fill:#000000; stroke:none; fill-opacity:1\" cx=\"1885.13\" cy=\"615.771\" r=\"18\"/>\n",
       "<circle clip-path=\"url(#clip7002)\" style=\"fill:#009af9; stroke:none; fill-opacity:1\" cx=\"1885.13\" cy=\"615.771\" r=\"14\"/>\n",
       "<circle clip-path=\"url(#clip7002)\" style=\"fill:#000000; stroke:none; fill-opacity:1\" cx=\"1902.05\" cy=\"465.693\" r=\"18\"/>\n",
       "<circle clip-path=\"url(#clip7002)\" style=\"fill:#009af9; stroke:none; fill-opacity:1\" cx=\"1902.05\" cy=\"465.693\" r=\"14\"/>\n",
       "<circle clip-path=\"url(#clip7002)\" style=\"fill:#000000; stroke:none; fill-opacity:1\" cx=\"1918.98\" cy=\"625.273\" r=\"18\"/>\n",
       "<circle clip-path=\"url(#clip7002)\" style=\"fill:#009af9; stroke:none; fill-opacity:1\" cx=\"1918.98\" cy=\"625.273\" r=\"14\"/>\n",
       "<circle clip-path=\"url(#clip7002)\" style=\"fill:#000000; stroke:none; fill-opacity:1\" cx=\"1935.9\" cy=\"589.575\" r=\"18\"/>\n",
       "<circle clip-path=\"url(#clip7002)\" style=\"fill:#009af9; stroke:none; fill-opacity:1\" cx=\"1935.9\" cy=\"589.575\" r=\"14\"/>\n",
       "<circle clip-path=\"url(#clip7002)\" style=\"fill:#000000; stroke:none; fill-opacity:1\" cx=\"1952.83\" cy=\"529.96\" r=\"18\"/>\n",
       "<circle clip-path=\"url(#clip7002)\" style=\"fill:#009af9; stroke:none; fill-opacity:1\" cx=\"1952.83\" cy=\"529.96\" r=\"14\"/>\n",
       "<circle clip-path=\"url(#clip7002)\" style=\"fill:#000000; stroke:none; fill-opacity:1\" cx=\"1969.75\" cy=\"606.024\" r=\"18\"/>\n",
       "<circle clip-path=\"url(#clip7002)\" style=\"fill:#009af9; stroke:none; fill-opacity:1\" cx=\"1969.75\" cy=\"606.024\" r=\"14\"/>\n",
       "<circle clip-path=\"url(#clip7002)\" style=\"fill:#000000; stroke:none; fill-opacity:1\" cx=\"1986.68\" cy=\"730.24\" r=\"18\"/>\n",
       "<circle clip-path=\"url(#clip7002)\" style=\"fill:#009af9; stroke:none; fill-opacity:1\" cx=\"1986.68\" cy=\"730.24\" r=\"14\"/>\n",
       "<circle clip-path=\"url(#clip7002)\" style=\"fill:#000000; stroke:none; fill-opacity:1\" cx=\"2003.6\" cy=\"583.129\" r=\"18\"/>\n",
       "<circle clip-path=\"url(#clip7002)\" style=\"fill:#009af9; stroke:none; fill-opacity:1\" cx=\"2003.6\" cy=\"583.129\" r=\"14\"/>\n",
       "<circle clip-path=\"url(#clip7002)\" style=\"fill:#000000; stroke:none; fill-opacity:1\" cx=\"2020.53\" cy=\"735.438\" r=\"18\"/>\n",
       "<circle clip-path=\"url(#clip7002)\" style=\"fill:#009af9; stroke:none; fill-opacity:1\" cx=\"2020.53\" cy=\"735.438\" r=\"14\"/>\n",
       "<circle clip-path=\"url(#clip7002)\" style=\"fill:#000000; stroke:none; fill-opacity:1\" cx=\"2037.45\" cy=\"1446.71\" r=\"18\"/>\n",
       "<circle clip-path=\"url(#clip7002)\" style=\"fill:#009af9; stroke:none; fill-opacity:1\" cx=\"2037.45\" cy=\"1446.71\" r=\"14\"/>\n",
       "<circle clip-path=\"url(#clip7002)\" style=\"fill:#000000; stroke:none; fill-opacity:1\" cx=\"2054.38\" cy=\"740.167\" r=\"18\"/>\n",
       "<circle clip-path=\"url(#clip7002)\" style=\"fill:#009af9; stroke:none; fill-opacity:1\" cx=\"2054.38\" cy=\"740.167\" r=\"14\"/>\n",
       "<circle clip-path=\"url(#clip7002)\" style=\"fill:#000000; stroke:none; fill-opacity:1\" cx=\"2071.3\" cy=\"659.056\" r=\"18\"/>\n",
       "<circle clip-path=\"url(#clip7002)\" style=\"fill:#009af9; stroke:none; fill-opacity:1\" cx=\"2071.3\" cy=\"659.056\" r=\"14\"/>\n",
       "<circle clip-path=\"url(#clip7002)\" style=\"fill:#000000; stroke:none; fill-opacity:1\" cx=\"2088.22\" cy=\"654.099\" r=\"18\"/>\n",
       "<circle clip-path=\"url(#clip7002)\" style=\"fill:#009af9; stroke:none; fill-opacity:1\" cx=\"2088.22\" cy=\"654.099\" r=\"14\"/>\n",
       "<circle clip-path=\"url(#clip7002)\" style=\"fill:#000000; stroke:none; fill-opacity:1\" cx=\"2105.15\" cy=\"704.87\" r=\"18\"/>\n",
       "<circle clip-path=\"url(#clip7002)\" style=\"fill:#009af9; stroke:none; fill-opacity:1\" cx=\"2105.15\" cy=\"704.87\" r=\"14\"/>\n",
       "<circle clip-path=\"url(#clip7002)\" style=\"fill:#000000; stroke:none; fill-opacity:1\" cx=\"2122.07\" cy=\"499.6\" r=\"18\"/>\n",
       "<circle clip-path=\"url(#clip7002)\" style=\"fill:#009af9; stroke:none; fill-opacity:1\" cx=\"2122.07\" cy=\"499.6\" r=\"14\"/>\n",
       "<circle clip-path=\"url(#clip7002)\" style=\"fill:#000000; stroke:none; fill-opacity:1\" cx=\"2139\" cy=\"626.208\" r=\"18\"/>\n",
       "<circle clip-path=\"url(#clip7002)\" style=\"fill:#009af9; stroke:none; fill-opacity:1\" cx=\"2139\" cy=\"626.208\" r=\"14\"/>\n",
       "<circle clip-path=\"url(#clip7002)\" style=\"fill:#000000; stroke:none; fill-opacity:1\" cx=\"2155.92\" cy=\"716.141\" r=\"18\"/>\n",
       "<circle clip-path=\"url(#clip7002)\" style=\"fill:#009af9; stroke:none; fill-opacity:1\" cx=\"2155.92\" cy=\"716.141\" r=\"14\"/>\n",
       "<circle clip-path=\"url(#clip7002)\" style=\"fill:#000000; stroke:none; fill-opacity:1\" cx=\"2172.85\" cy=\"653.382\" r=\"18\"/>\n",
       "<circle clip-path=\"url(#clip7002)\" style=\"fill:#009af9; stroke:none; fill-opacity:1\" cx=\"2172.85\" cy=\"653.382\" r=\"14\"/>\n",
       "<circle clip-path=\"url(#clip7002)\" style=\"fill:#000000; stroke:none; fill-opacity:1\" cx=\"2189.77\" cy=\"674.229\" r=\"18\"/>\n",
       "<circle clip-path=\"url(#clip7002)\" style=\"fill:#009af9; stroke:none; fill-opacity:1\" cx=\"2189.77\" cy=\"674.229\" r=\"14\"/>\n",
       "<circle clip-path=\"url(#clip7002)\" style=\"fill:#000000; stroke:none; fill-opacity:1\" cx=\"2206.7\" cy=\"582.524\" r=\"18\"/>\n",
       "<circle clip-path=\"url(#clip7002)\" style=\"fill:#009af9; stroke:none; fill-opacity:1\" cx=\"2206.7\" cy=\"582.524\" r=\"14\"/>\n",
       "<circle clip-path=\"url(#clip7002)\" style=\"fill:#000000; stroke:none; fill-opacity:1\" cx=\"2223.62\" cy=\"416.773\" r=\"18\"/>\n",
       "<circle clip-path=\"url(#clip7002)\" style=\"fill:#009af9; stroke:none; fill-opacity:1\" cx=\"2223.62\" cy=\"416.773\" r=\"14\"/>\n",
       "<circle clip-path=\"url(#clip7002)\" style=\"fill:#000000; stroke:none; fill-opacity:1\" cx=\"2240.55\" cy=\"713.161\" r=\"18\"/>\n",
       "<circle clip-path=\"url(#clip7002)\" style=\"fill:#009af9; stroke:none; fill-opacity:1\" cx=\"2240.55\" cy=\"713.161\" r=\"14\"/>\n",
       "<circle clip-path=\"url(#clip7002)\" style=\"fill:#000000; stroke:none; fill-opacity:1\" cx=\"2257.47\" cy=\"648.725\" r=\"18\"/>\n",
       "<circle clip-path=\"url(#clip7002)\" style=\"fill:#009af9; stroke:none; fill-opacity:1\" cx=\"2257.47\" cy=\"648.725\" r=\"14\"/>\n",
       "<circle clip-path=\"url(#clip7002)\" style=\"fill:#000000; stroke:none; fill-opacity:1\" cx=\"2274.4\" cy=\"680.476\" r=\"18\"/>\n",
       "<circle clip-path=\"url(#clip7002)\" style=\"fill:#009af9; stroke:none; fill-opacity:1\" cx=\"2274.4\" cy=\"680.476\" r=\"14\"/>\n",
       "<circle clip-path=\"url(#clip7002)\" style=\"fill:#000000; stroke:none; fill-opacity:1\" cx=\"2291.32\" cy=\"939.976\" r=\"18\"/>\n",
       "<circle clip-path=\"url(#clip7002)\" style=\"fill:#009af9; stroke:none; fill-opacity:1\" cx=\"2291.32\" cy=\"939.976\" r=\"14\"/>\n",
       "<path clip-path=\"url(#clip7000)\" d=\"\n",
       "M1989.93 251.724 L2280.76 251.724 L2280.76 130.764 L1989.93 130.764  Z\n",
       "  \" fill=\"#ffffff\" fill-rule=\"evenodd\" fill-opacity=\"1\"/>\n",
       "<polyline clip-path=\"url(#clip7000)\" style=\"stroke:#000000; stroke-width:4; stroke-opacity:1; fill:none\" points=\"\n",
       "  1989.93,251.724 2280.76,251.724 2280.76,130.764 1989.93,130.764 1989.93,251.724 \n",
       "  \"/>\n",
       "<circle clip-path=\"url(#clip7000)\" style=\"fill:#000000; stroke:none; fill-opacity:1\" cx=\"2097.93\" cy=\"191.244\" r=\"25\"/>\n",
       "<circle clip-path=\"url(#clip7000)\" style=\"fill:#009af9; stroke:none; fill-opacity:1\" cx=\"2097.93\" cy=\"191.244\" r=\"21\"/>\n",
       "<g clip-path=\"url(#clip7000)\">\n",
       "<text style=\"fill:#000000; fill-opacity:1; font-family:Arial,Helvetica Neue,Helvetica,sans-serif; font-size:48px; text-anchor:start;\" transform=\"rotate(0, 2181.93, 208.744)\" x=\"2181.93\" y=\"208.744\">y1</text>\n",
       "</g>\n",
       "</svg>\n"
      ]
     },
     "execution_count": 76,
     "metadata": {},
     "output_type": "execute_result"
    }
   ],
   "source": [
    "scatter([y' .- yhat.data'])"
   ]
  },
  {
   "cell_type": "markdown",
   "metadata": {},
   "source": [
    "## Flux Classification"
   ]
  },
  {
   "cell_type": "code",
   "execution_count": 123,
   "metadata": {},
   "outputs": [
    {
     "data": {
      "text/plain": [
       "perf (generic function with 1 method)"
      ]
     },
     "execution_count": 123,
     "metadata": {},
     "output_type": "execute_result"
    }
   ],
   "source": [
    "function fluxclassification(data,lr=0.01,iterations=1000,hidden=10,checkpoint=0.1)\n",
    "    model = Chain(\n",
    "        Dense(ML.width(input_schema),hidden,relu),\n",
    "        Dense(hidden,ML.width(output_schema)),\n",
    "        softmax\n",
    "    )\n",
    "     \n",
    "    loss(x,y) = Flux.mse(model(x),y)\n",
    "\n",
    "    opt = ADAM(lr) \n",
    "    evalcb = Flux.throttle(() -> @show(loss(first(data)...)), checkpoint);\n",
    "    \n",
    "    for i = 1:iterations\n",
    "      Flux.train!(loss, params(model),data, opt, cb = evalcb)\n",
    "    end\n",
    "    return model\n",
    "end\n",
    "perf(x, y) = mean(Flux.onecold(x) .== Flux.onecold(y))*100"
   ]
  },
  {
   "cell_type": "code",
   "execution_count": 124,
   "metadata": {},
   "outputs": [
    {
     "name": "stdout",
     "output_type": "stream",
     "text": [
      "loss(first(data)...) = 0.1815878f0 (tracked)\n",
      "loss(first(data)...) = 0.009972285f0 (tracked)\n",
      "loss(first(data)...) = 0.0068006404f0 (tracked)\n",
      "loss(first(data)...) = 0.0052436483f0 (tracked)\n",
      "loss(first(data)...) = 0.0040837997f0 (tracked)\n"
     ]
    },
    {
     "data": {
      "text/plain": [
       "93.44262295081968"
      ]
     },
     "execution_count": 124,
     "metadata": {},
     "output_type": "execute_result"
    }
   ],
   "source": [
    "input_schema, output_schema = ML.splitschema(cars_schema,:Cylinders);\n",
    "input = ML.featuremat(input_schema,cars)\n",
    "output = ML.featuremat(output_schema,cars)\n",
    "train_input,train_output,test_input,test_output = partitionTrainTest(input,output,0.7)\n",
    "data = [(train_input, train_output)] \n",
    "\n",
    "model = fluxclassification(data,0.01,1000)\n",
    "yhat=model(test_input)\n",
    "perf(yhat,test_output)"
   ]
  },
  {
   "cell_type": "code",
   "execution_count": 85,
   "metadata": {},
   "outputs": [],
   "source": [
    "using RCall"
   ]
  },
  {
   "cell_type": "code",
   "execution_count": 86,
   "metadata": {},
   "outputs": [],
   "source": [
    "pred = Flux.onecold(yhat.data)\n",
    "gt = Flux.onecold(test_output);"
   ]
  },
  {
   "cell_type": "code",
   "execution_count": 87,
   "metadata": {},
   "outputs": [
    {
     "data": {
      "text/plain": [
       "RObject{IntSxp}\n",
       "   \n",
       "     1  2  3  5\n",
       "  1 31  0  0  0\n",
       "  2  0 64  1  3\n",
       "  3  2  1 20  0\n"
      ]
     },
     "execution_count": 87,
     "metadata": {},
     "output_type": "execute_result"
    }
   ],
   "source": [
    "R\"table($pred,$gt)\""
   ]
  },
  {
   "cell_type": "code",
   "execution_count": 112,
   "metadata": {},
   "outputs": [
    {
     "data": {
      "text/plain": [
       "RObject{IntSxp}\n",
       "\n",
       "  3   4   5   6   8 \n",
       "  4 207   3  84 108 \n"
      ]
     },
     "execution_count": 112,
     "metadata": {},
     "output_type": "execute_result"
    }
   ],
   "source": [
    "cars |> DataFrame |> x-> x.Cylinders |> x->R\"table($x)\""
   ]
  },
  {
   "cell_type": "markdown",
   "metadata": {},
   "source": [
    "## Flux MNIST"
   ]
  },
  {
   "cell_type": "markdown",
   "metadata": {},
   "source": [
    "### MLP (multi-layer perceptron)"
   ]
  },
  {
   "cell_type": "code",
   "execution_count": 113,
   "metadata": {},
   "outputs": [
    {
     "name": "stdout",
     "output_type": "stream",
     "text": [
      "loss(X, Y) = 2.327312f0 (tracked)\n",
      "loss(X, Y) = 1.7624899f0 (tracked)\n",
      "loss(X, Y) = 1.2707424f0 (tracked)\n",
      "loss(X, Y) = 0.90222764f0 (tracked)\n",
      "loss(X, Y) = 0.69394493f0 (tracked)\n"
     ]
    },
    {
     "data": {
      "text/plain": [
       "85.3"
      ]
     },
     "execution_count": 113,
     "metadata": {},
     "output_type": "execute_result"
    }
   ],
   "source": [
    "using Flux, Flux.Data.MNIST, Statistics\n",
    "using Flux: onehotbatch, onecold, crossentropy, throttle\n",
    "using Base.Iterators: repeated\n",
    "# using CuArrays\n",
    "\n",
    "# Classify MNIST digits with a simple multi-layer-perceptron\n",
    "\n",
    "imgs = MNIST.images()\n",
    "# Stack images into one large batch\n",
    "X = hcat(float.(reshape.(imgs, :))...) |> gpu\n",
    "\n",
    "labels = MNIST.labels()\n",
    "# One-hot-encode the labels\n",
    "Y = onehotbatch(labels, 0:9) |> gpu\n",
    "\n",
    "m = Chain(\n",
    "  Dense(28^2, 32, relu),\n",
    "  Dense(32, 10),\n",
    "  softmax) |> gpu\n",
    "\n",
    "loss(x, y) = crossentropy(m(x), y)\n",
    "\n",
    "accuracy(x, y) = mean(onecold(m(x)) .== onecold(y))*100\n",
    "\n",
    "fdataset = repeated((X, Y), 50)\n",
    "evalcb = () -> @show(loss(X, Y))\n",
    "opt = ADAM()\n",
    "\n",
    "Flux.train!(loss, params(m), fdataset, opt, cb = throttle(evalcb, 5))\n",
    "\n",
    "accuracy(X, Y)\n",
    "\n",
    "# Test set accuracy\n",
    "tX = hcat(float.(reshape.(MNIST.images(:test), :))...) |> gpu\n",
    "tY = onehotbatch(MNIST.labels(:test), 0:9) |> gpu\n",
    "\n",
    "accuracy(tX, tY)"
   ]
  },
  {
   "cell_type": "markdown",
   "metadata": {},
   "source": [
    "### Convolution layers"
   ]
  },
  {
   "cell_type": "code",
   "execution_count": null,
   "metadata": {},
   "outputs": [],
   "source": [
    "using Flux, Metalhead, Statistics\n",
    "using Flux: onehotbatch, onecold, crossentropy, throttle\n",
    "using Metalhead: trainimgs\n",
    "using Images: channelview\n",
    "using Statistics: mean\n",
    "using Base.Iterators: partition\n",
    "\n",
    "# VGG16 and VGG19 models\n",
    "\n",
    "vgg16() = Chain(\n",
    "  Conv((3, 3), 3 => 64, relu, pad=(1, 1), stride=(1, 1)),\n",
    "  BatchNorm(64),\n",
    "  Conv((3, 3), 64 => 64, relu, pad=(1, 1), stride=(1, 1)),\n",
    "  BatchNorm(64),\n",
    "  x -> maxpool(x, (2, 2)),\n",
    "  Conv((3, 3), 64 => 128, relu, pad=(1, 1), stride=(1, 1)),\n",
    "  BatchNorm(128),\n",
    "  Conv((3, 3), 128 => 128, relu, pad=(1, 1), stride=(1, 1)),\n",
    "  BatchNorm(128),\n",
    "  x -> maxpool(x, (2,2)),\n",
    "  Conv((3, 3), 128 => 256, relu, pad=(1, 1), stride=(1, 1)),\n",
    "  BatchNorm(256),\n",
    "  Conv((3, 3), 256 => 256, relu, pad=(1, 1), stride=(1, 1)),\n",
    "  BatchNorm(256),\n",
    "  Conv((3, 3), 256 => 256, relu, pad=(1, 1), stride=(1, 1)),\n",
    "  BatchNorm(256),\n",
    "  x -> maxpool(x, (2, 2)),\n",
    "  Conv((3, 3), 256 => 512, relu, pad=(1, 1), stride=(1, 1)),\n",
    "  BatchNorm(512),\n",
    "  Conv((3, 3), 512 => 512, relu, pad=(1, 1), stride=(1, 1)),\n",
    "  BatchNorm(512),\n",
    "  Conv((3, 3), 512 => 512, relu, pad=(1, 1), stride=(1, 1)),\n",
    "  BatchNorm(512),\n",
    "  x -> maxpool(x, (2, 2)),\n",
    "  Conv((3, 3), 512 => 512, relu, pad=(1, 1), stride=(1, 1)),\n",
    "  BatchNorm(512),\n",
    "  Conv((3, 3), 512 => 512, relu, pad=(1, 1), stride=(1, 1)),\n",
    "  BatchNorm(512),\n",
    "  Conv((3, 3), 512 => 512, relu, pad=(1, 1), stride=(1, 1)),\n",
    "  BatchNorm(512),\n",
    "  x -> maxpool(x, (2, 2)),\n",
    "  x -> reshape(x, :, size(x, 4)),\n",
    "  Dense(512, 4096, relu),\n",
    "  Dropout(0.5),\n",
    "  Dense(4096, 4096, relu),\n",
    "  Dropout(0.5),\n",
    "  Dense(4096, 10),\n",
    "  softmax) |> gpu\n",
    "\n",
    "\n",
    "# Function to convert the RGB image to Float64 Arrays\n",
    "\n",
    "getarray(X) = Float32.(permutedims(channelview(X), (2, 3, 1)))\n",
    "\n",
    "# Fetching the train and validation data and getting them into proper shape\n",
    "\n",
    "X = trainimgs(CIFAR10)\n",
    "imgs = [getarray(X[i].img) for i in 1:50000]\n",
    "labels = onehotbatch([X[i].ground_truth.class for i in 1:50000],1:10)\n",
    "train = gpu.([(cat(imgs[i]..., dims = 4), labels[:,i]) for i in partition(1:49000, 100)])\n",
    "valset = collect(49001:50000)\n",
    "valX = cat(imgs[valset]..., dims = 4) |> gpu\n",
    "valY = labels[:, valset] |> gpu\n",
    "\n",
    "# Defining the loss and accuracy functions\n",
    "\n",
    "m = vgg16()\n",
    "\n",
    "loss(x, y) = crossentropy(m(x), y)\n",
    "\n",
    "accuracy(x, y) = mean(onecold(m(x), 1:10) .== onecold(y, 1:10))\n",
    "\n",
    "# Defining the callback and the optimizer\n",
    "\n",
    "evalcb = throttle(() -> @show(accuracy(valX, valY)), 10)\n",
    "\n",
    "opt = ADAM()\n",
    "\n",
    "# Starting to train models\n",
    "\n",
    "Flux.train!(loss, params(m), train, opt, cb = evalcb)\n",
    "\n",
    "# Fetch the test data from Metalhead and get it into proper shape.\n",
    "# CIFAR-10 does not specify a validation set so valimgs fetch the testdata instead of testimgs\n",
    "\n",
    "test = valimgs(CIFAR10)\n",
    "\n",
    "testimgs = [getarray(test[i].img) for i in 1:10000]\n",
    "testY = onehotbatch([test[i].ground_truth.class for i in 1:10000], 1:10) |> gpu\n",
    "testX = cat(testimgs..., dims = 4) |> gpu\n",
    "\n",
    "# Print the final accuracy\n",
    "\n",
    "@show(accuracy(testX, testY))"
   ]
  },
  {
   "cell_type": "code",
   "execution_count": null,
   "metadata": {},
   "outputs": [],
   "source": []
  }
 ],
 "metadata": {
  "@webio": {
   "lastCommId": null,
   "lastKernelId": null
  },
  "kernelspec": {
   "display_name": "Julia 1.2.0",
   "language": "julia",
   "name": "julia-1.2"
  },
  "language_info": {
   "file_extension": ".jl",
   "mimetype": "application/julia",
   "name": "julia",
   "version": "1.2.0"
  }
 },
 "nbformat": 4,
 "nbformat_minor": 2
}
