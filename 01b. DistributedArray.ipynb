{
 "cells": [
  {
   "cell_type": "markdown",
   "metadata": {},
   "source": [
    "## Distributed Arrays"
   ]
  },
  {
   "cell_type": "code",
   "execution_count": 1,
   "metadata": {},
   "outputs": [],
   "source": [
    "using Distributed"
   ]
  },
  {
   "cell_type": "code",
   "execution_count": 2,
   "metadata": {},
   "outputs": [
    {
     "data": {
      "text/plain": [
       "8-element Vector{Int64}:\n",
       " 2\n",
       " 3\n",
       " 4\n",
       " 5\n",
       " 6\n",
       " 7\n",
       " 8\n",
       " 9"
      ]
     },
     "execution_count": 2,
     "metadata": {},
     "output_type": "execute_result"
    }
   ],
   "source": [
    "nprocs() == 1 && addprocs(;exeflags=\"--project\")"
   ]
  },
  {
   "cell_type": "code",
   "execution_count": 3,
   "metadata": {},
   "outputs": [],
   "source": [
    "@everywhere using DistributedArrays"
   ]
  },
  {
   "cell_type": "code",
   "execution_count": 4,
   "metadata": {},
   "outputs": [
    {
     "data": {
      "text/plain": [
       "8-element Vector{Int64}:\n",
       " 2\n",
       " 3\n",
       " 4\n",
       " 5\n",
       " 6\n",
       " 7\n",
       " 8\n",
       " 9"
      ]
     },
     "execution_count": 4,
     "metadata": {},
     "output_type": "execute_result"
    }
   ],
   "source": [
    "workers()"
   ]
  },
  {
   "cell_type": "code",
   "execution_count": 5,
   "metadata": {},
   "outputs": [
    {
     "data": {
      "text/plain": [
       "10000×10000 Matrix{Float64}:\n",
       " 0.915784  0.750595   0.299321    …  0.346827   0.597206  0.667074\n",
       " 0.798144  0.895753   0.76358        0.810244   0.313943  0.188007\n",
       " 0.796687  0.793964   0.357841       0.87284    0.080122  0.135463\n",
       " 0.853148  0.187906   0.590515       0.17427    0.060214  0.172934\n",
       " 0.620562  0.37778    0.282434       0.0502126  0.917666  0.396084\n",
       " 0.509029  0.805374   0.593719    …  0.928261   0.973436  0.986636\n",
       " 0.172196  0.791609   0.756731       0.698614   0.441773  0.573529\n",
       " 0.453831  0.638059   0.0679059      0.467407   0.902078  0.426939\n",
       " 0.604163  0.128133   0.861213       0.128442   0.746511  0.259181\n",
       " 0.086356  0.211106   0.777845       0.272174   0.676648  0.410222\n",
       " 0.542005  0.904794   0.768647    …  0.544643   0.139152  0.761372\n",
       " 0.349969  0.0901272  0.741803       0.742769   0.815981  0.455522\n",
       " 0.461149  0.75647    0.977644       0.728967   0.837849  0.984041\n",
       " ⋮                                ⋱                       \n",
       " 0.158797  0.474288   0.0652504      0.379124   0.791179  0.0654317\n",
       " 0.40953   0.50295    0.258676       0.39159    0.762748  0.946359\n",
       " 0.686     0.408908   0.241833    …  0.182373   0.247368  0.695853\n",
       " 0.330097  0.59467    0.469073       0.738149   0.649507  0.539745\n",
       " 0.891997  0.15096    0.569556       0.994162   0.780443  0.741541\n",
       " 0.4236    0.100223   0.893596       0.391114   0.487186  0.753739\n",
       " 0.533144  0.726187   0.374956       0.810547   0.640359  0.343883\n",
       " 0.856011  0.238822   0.770066    …  0.704968   0.574527  0.690344\n",
       " 0.242323  0.398864   0.92731        0.382964   0.643008  0.663958\n",
       " 0.62982   0.903074   0.00863068     0.540944   0.426228  0.922225\n",
       " 0.467062  0.227708   0.897316       0.304388   0.942707  0.0398564\n",
       " 0.409842  0.0375732  0.697528       0.463816   0.10013   0.326765"
      ]
     },
     "execution_count": 5,
     "metadata": {},
     "output_type": "execute_result"
    }
   ],
   "source": [
    "dat=rand(10000,10000)"
   ]
  },
  {
   "cell_type": "code",
   "execution_count": 6,
   "metadata": {},
   "outputs": [
    {
     "data": {
      "text/plain": [
       "10000×10000 Matrix{Int64}:\n",
       " 1  1  1  1  1  1  1  1  1  1  1  1  1  …  1  1  1  1  1  1  1  1  1  1  1  1\n",
       " 1  1  1  1  1  1  1  1  1  1  1  1  1     1  1  1  1  1  1  1  1  1  1  1  1\n",
       " 1  1  1  1  1  1  1  1  1  1  1  1  1     1  1  1  1  1  1  1  1  1  1  1  1\n",
       " 1  1  1  1  1  1  1  1  1  1  1  1  1     1  1  1  1  1  1  1  1  1  1  1  1\n",
       " 1  1  1  1  1  1  1  1  1  1  1  1  1     1  1  1  1  1  1  1  1  1  1  1  1\n",
       " 1  1  1  1  1  1  1  1  1  1  1  1  1  …  1  1  1  1  1  1  1  1  1  1  1  1\n",
       " 1  1  1  1  1  1  1  1  1  1  1  1  1     1  1  1  1  1  1  1  1  1  1  1  1\n",
       " 1  1  1  1  1  1  1  1  1  1  1  1  1     1  1  1  1  1  1  1  1  1  1  1  1\n",
       " 1  1  1  1  1  1  1  1  1  1  1  1  1     1  1  1  1  1  1  1  1  1  1  1  1\n",
       " 1  1  1  1  1  1  1  1  1  1  1  1  1     1  1  1  1  1  1  1  1  1  1  1  1\n",
       " 1  1  1  1  1  1  1  1  1  1  1  1  1  …  1  1  1  1  1  1  1  1  1  1  1  1\n",
       " 1  1  1  1  1  1  1  1  1  1  1  1  1     1  1  1  1  1  1  1  1  1  1  1  1\n",
       " 1  1  1  1  1  1  1  1  1  1  1  1  1     1  1  1  1  1  1  1  1  1  1  1  1\n",
       " ⋮              ⋮              ⋮        ⋱        ⋮              ⋮           \n",
       " 1  1  1  1  1  1  1  1  1  1  1  1  1     1  1  1  1  1  1  1  1  1  1  1  1\n",
       " 1  1  1  1  1  1  1  1  1  1  1  1  1     1  1  1  1  1  1  1  1  1  1  1  1\n",
       " 1  1  1  1  1  1  1  1  1  1  1  1  1  …  1  1  1  1  1  1  1  1  1  1  1  1\n",
       " 1  1  1  1  1  1  1  1  1  1  1  1  1     1  1  1  1  1  1  1  1  1  1  1  1\n",
       " 1  1  1  1  1  1  1  1  1  1  1  1  1     1  1  1  1  1  1  1  1  1  1  1  1\n",
       " 1  1  1  1  1  1  1  1  1  1  1  1  1     1  1  1  1  1  1  1  1  1  1  1  1\n",
       " 1  1  1  1  1  1  1  1  1  1  1  1  1     1  1  1  1  1  1  1  1  1  1  1  1\n",
       " 1  1  1  1  1  1  1  1  1  1  1  1  1  …  1  1  1  1  1  1  1  1  1  1  1  1\n",
       " 1  1  1  1  1  1  1  1  1  1  1  1  1     1  1  1  1  1  1  1  1  1  1  1  1\n",
       " 1  1  1  1  1  1  1  1  1  1  1  1  1     1  1  1  1  1  1  1  1  1  1  1  1\n",
       " 1  1  1  1  1  1  1  1  1  1  1  1  1     1  1  1  1  1  1  1  1  1  1  1  1\n",
       " 1  1  1  1  1  1  1  1  1  1  1  1  1     1  1  1  1  1  1  1  1  1  1  1  1"
      ]
     },
     "execution_count": 6,
     "metadata": {},
     "output_type": "execute_result"
    }
   ],
   "source": [
    "map(x->myid(),dat)"
   ]
  },
  {
   "cell_type": "code",
   "execution_count": 7,
   "metadata": {},
   "outputs": [
    {
     "data": {
      "text/plain": [
       "10000×10000 DArray{Float64, 2, Matrix{Float64}}:\n",
       " 0.915784  0.750595   0.299321    …  0.346827   0.597206  0.667074\n",
       " 0.798144  0.895753   0.76358        0.810244   0.313943  0.188007\n",
       " 0.796687  0.793964   0.357841       0.87284    0.080122  0.135463\n",
       " 0.853148  0.187906   0.590515       0.17427    0.060214  0.172934\n",
       " 0.620562  0.37778    0.282434       0.0502126  0.917666  0.396084\n",
       " 0.509029  0.805374   0.593719    …  0.928261   0.973436  0.986636\n",
       " 0.172196  0.791609   0.756731       0.698614   0.441773  0.573529\n",
       " 0.453831  0.638059   0.0679059      0.467407   0.902078  0.426939\n",
       " 0.604163  0.128133   0.861213       0.128442   0.746511  0.259181\n",
       " 0.086356  0.211106   0.777845       0.272174   0.676648  0.410222\n",
       " 0.542005  0.904794   0.768647    …  0.544643   0.139152  0.761372\n",
       " 0.349969  0.0901272  0.741803       0.742769   0.815981  0.455522\n",
       " 0.461149  0.75647    0.977644       0.728967   0.837849  0.984041\n",
       " ⋮                                ⋱                       \n",
       " 0.158797  0.474288   0.0652504      0.379124   0.791179  0.0654317\n",
       " 0.40953   0.50295    0.258676       0.39159    0.762748  0.946359\n",
       " 0.686     0.408908   0.241833    …  0.182373   0.247368  0.695853\n",
       " 0.330097  0.59467    0.469073       0.738149   0.649507  0.539745\n",
       " 0.891997  0.15096    0.569556       0.994162   0.780443  0.741541\n",
       " 0.4236    0.100223   0.893596       0.391114   0.487186  0.753739\n",
       " 0.533144  0.726187   0.374956       0.810547   0.640359  0.343883\n",
       " 0.856011  0.238822   0.770066    …  0.704968   0.574527  0.690344\n",
       " 0.242323  0.398864   0.92731        0.382964   0.643008  0.663958\n",
       " 0.62982   0.903074   0.00863068     0.540944   0.426228  0.922225\n",
       " 0.467062  0.227708   0.897316       0.304388   0.942707  0.0398564\n",
       " 0.409842  0.0375732  0.697528       0.463816   0.10013   0.326765"
      ]
     },
     "execution_count": 7,
     "metadata": {},
     "output_type": "execute_result"
    }
   ],
   "source": [
    "ddat=distribute(dat)"
   ]
  },
  {
   "cell_type": "code",
   "execution_count": 8,
   "metadata": {},
   "outputs": [
    {
     "data": {
      "text/plain": [
       "10000×10000 DArray{Int64, 2, Matrix{Int64}}:\n",
       " 2  2  2  2  2  2  2  2  2  2  2  2  2  …  8  8  8  8  8  8  8  8  8  8  8  8\n",
       " 2  2  2  2  2  2  2  2  2  2  2  2  2     8  8  8  8  8  8  8  8  8  8  8  8\n",
       " 2  2  2  2  2  2  2  2  2  2  2  2  2     8  8  8  8  8  8  8  8  8  8  8  8\n",
       " 2  2  2  2  2  2  2  2  2  2  2  2  2     8  8  8  8  8  8  8  8  8  8  8  8\n",
       " 2  2  2  2  2  2  2  2  2  2  2  2  2     8  8  8  8  8  8  8  8  8  8  8  8\n",
       " 2  2  2  2  2  2  2  2  2  2  2  2  2  …  8  8  8  8  8  8  8  8  8  8  8  8\n",
       " 2  2  2  2  2  2  2  2  2  2  2  2  2     8  8  8  8  8  8  8  8  8  8  8  8\n",
       " 2  2  2  2  2  2  2  2  2  2  2  2  2     8  8  8  8  8  8  8  8  8  8  8  8\n",
       " 2  2  2  2  2  2  2  2  2  2  2  2  2     8  8  8  8  8  8  8  8  8  8  8  8\n",
       " 2  2  2  2  2  2  2  2  2  2  2  2  2     8  8  8  8  8  8  8  8  8  8  8  8\n",
       " 2  2  2  2  2  2  2  2  2  2  2  2  2  …  8  8  8  8  8  8  8  8  8  8  8  8\n",
       " 2  2  2  2  2  2  2  2  2  2  2  2  2     8  8  8  8  8  8  8  8  8  8  8  8\n",
       " 2  2  2  2  2  2  2  2  2  2  2  2  2     8  8  8  8  8  8  8  8  8  8  8  8\n",
       " ⋮              ⋮              ⋮        ⋱        ⋮              ⋮           \n",
       " 3  3  3  3  3  3  3  3  3  3  3  3  3     9  9  9  9  9  9  9  9  9  9  9  9\n",
       " 3  3  3  3  3  3  3  3  3  3  3  3  3     9  9  9  9  9  9  9  9  9  9  9  9\n",
       " 3  3  3  3  3  3  3  3  3  3  3  3  3  …  9  9  9  9  9  9  9  9  9  9  9  9\n",
       " 3  3  3  3  3  3  3  3  3  3  3  3  3     9  9  9  9  9  9  9  9  9  9  9  9\n",
       " 3  3  3  3  3  3  3  3  3  3  3  3  3     9  9  9  9  9  9  9  9  9  9  9  9\n",
       " 3  3  3  3  3  3  3  3  3  3  3  3  3     9  9  9  9  9  9  9  9  9  9  9  9\n",
       " 3  3  3  3  3  3  3  3  3  3  3  3  3     9  9  9  9  9  9  9  9  9  9  9  9\n",
       " 3  3  3  3  3  3  3  3  3  3  3  3  3  …  9  9  9  9  9  9  9  9  9  9  9  9\n",
       " 3  3  3  3  3  3  3  3  3  3  3  3  3     9  9  9  9  9  9  9  9  9  9  9  9\n",
       " 3  3  3  3  3  3  3  3  3  3  3  3  3     9  9  9  9  9  9  9  9  9  9  9  9\n",
       " 3  3  3  3  3  3  3  3  3  3  3  3  3     9  9  9  9  9  9  9  9  9  9  9  9\n",
       " 3  3  3  3  3  3  3  3  3  3  3  3  3     9  9  9  9  9  9  9  9  9  9  9  9"
      ]
     },
     "execution_count": 8,
     "metadata": {},
     "output_type": "execute_result"
    }
   ],
   "source": [
    "map(x->myid(),ddat)"
   ]
  },
  {
   "cell_type": "code",
   "execution_count": 9,
   "metadata": {},
   "outputs": [
    {
     "data": {
      "text/plain": [
       "8-element Vector{Future}:\n",
       " Future(2, 1, 5108, nothing)\n",
       " Future(3, 1, 5109, nothing)\n",
       " Future(4, 1, 5110, nothing)\n",
       " Future(5, 1, 5111, nothing)\n",
       " Future(6, 1, 5112, nothing)\n",
       " Future(7, 1, 5113, nothing)\n",
       " Future(8, 1, 5114, nothing)\n",
       " Future(9, 1, 5115, nothing)"
      ]
     },
     "execution_count": 9,
     "metadata": {},
     "output_type": "execute_result"
    }
   ],
   "source": [
    "[ @spawnat p sum(x->x*x,localpart(ddat)) for p in workers() ]"
   ]
  },
  {
   "cell_type": "code",
   "execution_count": 10,
   "metadata": {},
   "outputs": [
    {
     "data": {
      "text/plain": [
       "8-element Vector{Float64}:\n",
       " 4.1679458340829625e6\n",
       " 4.1648904531229585e6\n",
       " 4.1680942687513027e6\n",
       " 4.1679629642029707e6\n",
       " 4.1669420137302354e6\n",
       " 4.167556850732112e6\n",
       " 4.1676458410920156e6\n",
       " 4.167688895582674e6"
      ]
     },
     "execution_count": 10,
     "metadata": {},
     "output_type": "execute_result"
    }
   ],
   "source": [
    "map(fetch,[ @spawnat p sum(x->x*x,localpart(ddat)) for p in workers() ])"
   ]
  },
  {
   "cell_type": "code",
   "execution_count": 11,
   "metadata": {},
   "outputs": [
    {
     "name": "stdout",
     "output_type": "stream",
     "text": [
      "  0.200300 seconds (316.66 k allocations: 18.853 MiB, 57.24% compilation time)\n"
     ]
    },
    {
     "data": {
      "text/plain": [
       "3.3338727121297233e7"
      ]
     },
     "execution_count": 11,
     "metadata": {},
     "output_type": "execute_result"
    }
   ],
   "source": [
    "@time reduce(+,map(fetch,[ @spawnat p sum(x->x*x,localpart(ddat)) for p in workers() ]))"
   ]
  },
  {
   "cell_type": "code",
   "execution_count": 12,
   "metadata": {},
   "outputs": [
    {
     "name": "stdout",
     "output_type": "stream",
     "text": [
      "  1.616504 seconds (1.54 M allocations: 92.914 MiB, 31.71% compilation time)\n"
     ]
    },
    {
     "data": {
      "text/plain": [
       "3.3338727121297233e7"
      ]
     },
     "execution_count": 12,
     "metadata": {},
     "output_type": "execute_result"
    }
   ],
   "source": [
    "@time sum(ddat .* ddat)"
   ]
  },
  {
   "cell_type": "code",
   "execution_count": 13,
   "metadata": {},
   "outputs": [
    {
     "name": "stdout",
     "output_type": "stream",
     "text": [
      "\t\u001b[0m.section\t\u001b[0m__TEXT\u001b[0m,\u001b[0m__text\u001b[0m,\u001b[0mregular\u001b[0m,\u001b[0mpure_instructions\n",
      "\u001b[90m; ┌ @ reducedim.jl:873 within `sum'\u001b[39m\n",
      "\t\u001b[96m\u001b[1msubq\u001b[22m\u001b[39m\t\u001b[33m$40\u001b[39m\u001b[0m, \u001b[0m%rsp\n",
      "\t\u001b[96m\u001b[1mmovq\u001b[22m\u001b[39m\t\u001b[0m%rsi\u001b[0m, \u001b[33m32\u001b[39m\u001b[33m(\u001b[39m\u001b[0m%rsp\u001b[33m)\u001b[39m\n",
      "\t\u001b[96m\u001b[1mmovq\u001b[22m\u001b[39m\t\u001b[33m(\u001b[39m\u001b[0m%rsi\u001b[33m)\u001b[39m\u001b[0m, \u001b[0m%rax\n",
      "\t\u001b[96m\u001b[1mmovabsq\u001b[22m\u001b[39m\t\u001b[93m$jl_system_image_data\u001b[39m\u001b[0m, \u001b[0m%rcx\n",
      "\u001b[90m; │┌ @ reducedim.jl:873 within `#sum#679'\u001b[39m\n",
      "\u001b[90m; ││┌ @ reducedim.jl:877 within `_sum'\u001b[39m\n",
      "\u001b[90m; │││┌ @ reducedim.jl:877 within `#_sum#681'\u001b[39m\n",
      "\u001b[90m; ││││┌ @ reducedim.jl:878 within `_sum'\u001b[39m\n",
      "\u001b[90m; │││││┌ @ reducedim.jl:878 within `#_sum#682'\u001b[39m\n",
      "\u001b[90m; ││││││┌ @ reducedim.jl:310 within `mapreduce'\u001b[39m\n",
      "\u001b[90m; │││││││┌ @ reducedim.jl:310 within `#mapreduce#672'\u001b[39m\n",
      "\u001b[90m; ││││││││┌ @ reducedim.jl:318 within `_mapreduce_dim'\u001b[39m\n",
      "\t\u001b[96m\u001b[1mmovq\u001b[22m\u001b[39m\t\u001b[0m%rcx\u001b[0m, \u001b[33m(\u001b[39m\u001b[0m%rsp\u001b[33m)\u001b[39m\n",
      "\t\u001b[96m\u001b[1mmovabsq\u001b[22m\u001b[39m\t\u001b[93m$jl_system_image_data\u001b[39m\u001b[0m, \u001b[0m%rcx\n",
      "\t\u001b[96m\u001b[1mmovq\u001b[22m\u001b[39m\t\u001b[0m%rcx\u001b[0m, \u001b[33m8\u001b[39m\u001b[33m(\u001b[39m\u001b[0m%rsp\u001b[33m)\u001b[39m\n",
      "\t\u001b[96m\u001b[1mmovabsq\u001b[22m\u001b[39m\t\u001b[93m$jl_system_image_data\u001b[39m\u001b[0m, \u001b[0m%rcx\n",
      "\t\u001b[96m\u001b[1mmovq\u001b[22m\u001b[39m\t\u001b[0m%rcx\u001b[0m, \u001b[33m16\u001b[39m\u001b[33m(\u001b[39m\u001b[0m%rsp\u001b[33m)\u001b[39m\n",
      "\t\u001b[96m\u001b[1mmovq\u001b[22m\u001b[39m\t\u001b[0m%rax\u001b[0m, \u001b[33m24\u001b[39m\u001b[33m(\u001b[39m\u001b[0m%rsp\u001b[33m)\u001b[39m\n",
      "\t\u001b[96m\u001b[1mmovabsq\u001b[22m\u001b[39m\t\u001b[93m$jl_invoke\u001b[39m\u001b[0m, \u001b[0m%rax\n",
      "\t\u001b[96m\u001b[1mmovabsq\u001b[22m\u001b[39m\t\u001b[93m$jl_system_image_data\u001b[39m\u001b[0m, \u001b[0m%rdi\n",
      "\t\u001b[96m\u001b[1mmovq\u001b[22m\u001b[39m\t\u001b[0m%rsp\u001b[0m, \u001b[0m%rsi\n",
      "\t\u001b[96m\u001b[1mmovabsq\u001b[22m\u001b[39m\t\u001b[33m$6171592112\u001b[39m\u001b[0m, \u001b[0m%rcx               \u001b[0m## \u001b[0mimm \u001b[0m= \u001b[33m0x16FDB05B0\u001b[39m\n",
      "\t\u001b[96m\u001b[1mmovl\u001b[22m\u001b[39m\t\u001b[33m$4\u001b[39m\u001b[0m, \u001b[0m%edx\n",
      "\t\u001b[96m\u001b[1mcallq\u001b[22m\u001b[39m\t\u001b[0m*\u001b[0m%rax\n",
      "\u001b[90m; │└└└└└└└└\u001b[39m\n",
      "\t\u001b[96m\u001b[1maddq\u001b[22m\u001b[39m\t\u001b[33m$40\u001b[39m\u001b[0m, \u001b[0m%rsp\n",
      "\t\u001b[96m\u001b[1mretq\u001b[22m\u001b[39m\n",
      "\u001b[90m; └\u001b[39m\n"
     ]
    }
   ],
   "source": [
    "@code_native sum(ddat .* ddat)"
   ]
  },
  {
   "cell_type": "code",
   "execution_count": 14,
   "metadata": {},
   "outputs": [
    {
     "data": {
      "text/html": [
       "66-element Vector{Method}:<ul><li> rand!(A::<b>DArray</b>, ::<b>Type{T}</b>)<i> where T</i> in DistributedArrays at <a href=\"file:///Users/ppalmes/.julia/packages/DistributedArrays/3FSDt/src/darray.jl\" target=\"_blank\">/Users/ppalmes/.julia/packages/DistributedArrays/3FSDt/src/darray.jl:849</a><li> nnz(A::<b>DArray</b>) in DistributedArrays at <a href=\"file:///Users/ppalmes/.julia/packages/DistributedArrays/3FSDt/src/mapreduce.jl\" target=\"_blank\">/Users/ppalmes/.julia/packages/DistributedArrays/3FSDt/src/mapreduce.jl:123</a><li> procs(d::<b>DArray</b>) in DistributedArrays at <a href=\"file:///Users/ppalmes/.julia/packages/DistributedArrays/3FSDt/src/core.jl\" target=\"_blank\">/Users/ppalmes/.julia/packages/DistributedArrays/3FSDt/src/core.jl:58</a><li> rem(A::<b>Array{T, N} where N</b>, B::<b>DArray{T, N, A} where {N, A}</b>)<i> where T</i> in DistributedArrays at <a href=\"file:///Users/ppalmes/.julia/packages/DistributedArrays/3FSDt/src/mapreduce.jl\" target=\"_blank\">/Users/ppalmes/.julia/packages/DistributedArrays/3FSDt/src/mapreduce.jl:195</a><li> rem(A::<b>DArray{T, N, A} where {N, A}</b>, B::<b>Array{T, N} where N</b>)<i> where T</i> in DistributedArrays at <a href=\"file:///Users/ppalmes/.julia/packages/DistributedArrays/3FSDt/src/mapreduce.jl\" target=\"_blank\">/Users/ppalmes/.julia/packages/DistributedArrays/3FSDt/src/mapreduce.jl:194</a><li> rem(A::<b>DArray{T, N, A} where {N, A}</b>, B::<b>DArray{T, N, A} where {N, A}</b>)<i> where T</i> in DistributedArrays at <a href=\"file:///Users/ppalmes/.julia/packages/DistributedArrays/3FSDt/src/mapreduce.jl\" target=\"_blank\">/Users/ppalmes/.julia/packages/DistributedArrays/3FSDt/src/mapreduce.jl:190</a><li> &(A::<b>Array{T, N} where N</b>, B::<b>DArray{T, N, A} where {N, A}</b>)<i> where T</i> in DistributedArrays at <a href=\"file:///Users/ppalmes/.julia/packages/DistributedArrays/3FSDt/src/mapreduce.jl\" target=\"_blank\">/Users/ppalmes/.julia/packages/DistributedArrays/3FSDt/src/mapreduce.jl:195</a><li> &(A::<b>DArray{T, N, A} where {N, A}</b>, B::<b>Array{T, N} where N</b>)<i> where T</i> in DistributedArrays at <a href=\"file:///Users/ppalmes/.julia/packages/DistributedArrays/3FSDt/src/mapreduce.jl\" target=\"_blank\">/Users/ppalmes/.julia/packages/DistributedArrays/3FSDt/src/mapreduce.jl:194</a><li> &(A::<b>DArray{T, N, A} where {N, A}</b>, B::<b>DArray{T, N, A} where {N, A}</b>)<i> where T</i> in DistributedArrays at <a href=\"file:///Users/ppalmes/.julia/packages/DistributedArrays/3FSDt/src/mapreduce.jl\" target=\"_blank\">/Users/ppalmes/.julia/packages/DistributedArrays/3FSDt/src/mapreduce.jl:190</a><li> +(A::<b>DArray{T, N, A} where {N, A}</b>, B::<b>Array{T, N} where N</b>)<i> where T</i> in DistributedArrays at <a href=\"file:///Users/ppalmes/.julia/packages/DistributedArrays/3FSDt/src/mapreduce.jl\" target=\"_blank\">/Users/ppalmes/.julia/packages/DistributedArrays/3FSDt/src/mapreduce.jl:194</a><li> +(A::<b>DArray{T, N, A} where {N, A}</b>, B::<b>DArray{T, N, A} where {N, A}</b>)<i> where T</i> in DistributedArrays at <a href=\"file:///Users/ppalmes/.julia/packages/DistributedArrays/3FSDt/src/mapreduce.jl\" target=\"_blank\">/Users/ppalmes/.julia/packages/DistributedArrays/3FSDt/src/mapreduce.jl:190</a><li> +(A::<b>Array{T, N} where N</b>, B::<b>DArray{T, N, A} where {N, A}</b>)<i> where T</i> in DistributedArrays at <a href=\"file:///Users/ppalmes/.julia/packages/DistributedArrays/3FSDt/src/mapreduce.jl\" target=\"_blank\">/Users/ppalmes/.julia/packages/DistributedArrays/3FSDt/src/mapreduce.jl:195</a><li> -(D::<b>DArray</b>) in DistributedArrays at <a href=\"file:///Users/ppalmes/.julia/packages/DistributedArrays/3FSDt/src/mapreduce.jl\" target=\"_blank\">/Users/ppalmes/.julia/packages/DistributedArrays/3FSDt/src/mapreduce.jl:142</a><li> -(A::<b>DArray{T, N, A} where {N, A}</b>, B::<b>Array{T, N} where N</b>)<i> where T</i> in DistributedArrays at <a href=\"file:///Users/ppalmes/.julia/packages/DistributedArrays/3FSDt/src/mapreduce.jl\" target=\"_blank\">/Users/ppalmes/.julia/packages/DistributedArrays/3FSDt/src/mapreduce.jl:194</a><li> -(A::<b>DArray{T, N, A} where {N, A}</b>, B::<b>DArray{T, N, A} where {N, A}</b>)<i> where T</i> in DistributedArrays at <a href=\"file:///Users/ppalmes/.julia/packages/DistributedArrays/3FSDt/src/mapreduce.jl\" target=\"_blank\">/Users/ppalmes/.julia/packages/DistributedArrays/3FSDt/src/mapreduce.jl:190</a><li> -(A::<b>Array{T, N} where N</b>, B::<b>DArray{T, N, A} where {N, A}</b>)<i> where T</i> in DistributedArrays at <a href=\"file:///Users/ppalmes/.julia/packages/DistributedArrays/3FSDt/src/mapreduce.jl\" target=\"_blank\">/Users/ppalmes/.julia/packages/DistributedArrays/3FSDt/src/mapreduce.jl:195</a><li> ==(d1::<b>DArray</b>, d2::<b>SubArray{T, N, D, I, L} where {T, N, D<:DArray, I, L}</b>) in DistributedArrays at <a href=\"file:///Users/ppalmes/.julia/packages/DistributedArrays/3FSDt/src/darray.jl\" target=\"_blank\">/Users/ppalmes/.julia/packages/DistributedArrays/3FSDt/src/darray.jl:444</a><li> ==(d1::<b>DArray</b>, d2::<b>DArray</b>) in DistributedArrays at <a href=\"file:///Users/ppalmes/.julia/packages/DistributedArrays/3FSDt/src/darray.jl\" target=\"_blank\">/Users/ppalmes/.julia/packages/DistributedArrays/3FSDt/src/darray.jl:437</a><li> ==(d::<b>DArray{var\"#s37\", var\"#s29\", A} where {var\"#s37\", var\"#s29\"}</b>, a::<b>AbstractArray</b>)<i> where A</i> in DistributedArrays at <a href=\"file:///Users/ppalmes/.julia/packages/DistributedArrays/3FSDt/src/darray.jl\" target=\"_blank\">/Users/ppalmes/.julia/packages/DistributedArrays/3FSDt/src/darray.jl:417</a><li> ==(d1::<b>SubArray{T, N, D, I, L} where {T, N, D<:DArray, I, L}</b>, d2::<b>DArray</b>) in DistributedArrays at <a href=\"file:///Users/ppalmes/.julia/packages/DistributedArrays/3FSDt/src/darray.jl\" target=\"_blank\">/Users/ppalmes/.julia/packages/DistributedArrays/3FSDt/src/darray.jl:438</a><li> ==(a::<b>AbstractArray</b>, d::<b>DArray</b>) in DistributedArrays at <a href=\"file:///Users/ppalmes/.julia/packages/DistributedArrays/3FSDt/src/darray.jl\" target=\"_blank\">/Users/ppalmes/.julia/packages/DistributedArrays/3FSDt/src/darray.jl:435</a><li> close(d::<b>DArray</b>) in DistributedArrays at <a href=\"file:///Users/ppalmes/.julia/packages/DistributedArrays/3FSDt/src/core.jl\" target=\"_blank\">/Users/ppalmes/.julia/packages/DistributedArrays/3FSDt/src/core.jl:34</a><li> copyto!(dest::<b>DArray</b>, bc::<b>Base.Broadcast.Broadcasted</b>) in DistributedArrays at <a href=\"file:///Users/ppalmes/.julia/packages/DistributedArrays/3FSDt/src/broadcast.jl\" target=\"_blank\">/Users/ppalmes/.julia/packages/DistributedArrays/3FSDt/src/broadcast.jl:66</a><li> count(f, A::<b>DArray</b>) in DistributedArrays at <a href=\"file:///Users/ppalmes/.julia/packages/DistributedArrays/3FSDt/src/mapreduce.jl\" target=\"_blank\">/Users/ppalmes/.julia/packages/DistributedArrays/3FSDt/src/mapreduce.jl:114</a><li> deepcopy(src::<b>DArray</b>) in DistributedArrays at <a href=\"file:///Users/ppalmes/.julia/packages/DistributedArrays/3FSDt/src/darray.jl\" target=\"_blank\">/Users/ppalmes/.julia/packages/DistributedArrays/3FSDt/src/darray.jl:688</a><li> div(A::<b>Array{T, N} where N</b>, B::<b>DArray{T, N, A} where {N, A}</b>)<i> where T</i> in DistributedArrays at <a href=\"file:///Users/ppalmes/.julia/packages/DistributedArrays/3FSDt/src/mapreduce.jl\" target=\"_blank\">/Users/ppalmes/.julia/packages/DistributedArrays/3FSDt/src/mapreduce.jl:195</a><li> div(A::<b>DArray{T, N, A} where {N, A}</b>, B::<b>Array{T, N} where N</b>)<i> where T</i> in DistributedArrays at <a href=\"file:///Users/ppalmes/.julia/packages/DistributedArrays/3FSDt/src/mapreduce.jl\" target=\"_blank\">/Users/ppalmes/.julia/packages/DistributedArrays/3FSDt/src/mapreduce.jl:194</a><li> div(A::<b>DArray{T, N, A} where {N, A}</b>, B::<b>DArray{T, N, A} where {N, A}</b>)<i> where T</i> in DistributedArrays at <a href=\"file:///Users/ppalmes/.julia/packages/DistributedArrays/3FSDt/src/mapreduce.jl\" target=\"_blank\">/Users/ppalmes/.julia/packages/DistributedArrays/3FSDt/src/mapreduce.jl:190</a><li> extrema(d::<b>DArray</b>) in DistributedArrays at <a href=\"file:///Users/ppalmes/.julia/packages/DistributedArrays/3FSDt/src/mapreduce.jl\" target=\"_blank\">/Users/ppalmes/.julia/packages/DistributedArrays/3FSDt/src/mapreduce.jl:130</a><li> fetch(d::<b>DArray{T, N, A}</b>, i)<i> where {T, N, A}</i> in DistributedArrays at <a href=\"file:///Users/ppalmes/.julia/packages/DistributedArrays/3FSDt/src/darray.jl\" target=\"_blank\">/Users/ppalmes/.julia/packages/DistributedArrays/3FSDt/src/darray.jl:400</a><li> fill!(A::<b>DArray</b>, x) in DistributedArrays at <a href=\"file:///Users/ppalmes/.julia/packages/DistributedArrays/3FSDt/src/darray.jl\" target=\"_blank\">/Users/ppalmes/.julia/packages/DistributedArrays/3FSDt/src/darray.jl:840</a><li> getindex(d::<b>DArray</b>) in DistributedArrays at <a href=\"file:///Users/ppalmes/.julia/packages/DistributedArrays/3FSDt/src/darray.jl\" target=\"_blank\">/Users/ppalmes/.julia/packages/DistributedArrays/3FSDt/src/darray.jl:656</a><li> getindex(d::<b>DArray</b>, i::<b>Int64</b>) in DistributedArrays at <a href=\"file:///Users/ppalmes/.julia/packages/DistributedArrays/3FSDt/src/darray.jl\" target=\"_blank\">/Users/ppalmes/.julia/packages/DistributedArrays/3FSDt/src/darray.jl:647</a><li> getindex(d::<b>DArray</b>, i::<b>Int64...</b>) in DistributedArrays at <a href=\"file:///Users/ppalmes/.julia/packages/DistributedArrays/3FSDt/src/darray.jl\" target=\"_blank\">/Users/ppalmes/.julia/packages/DistributedArrays/3FSDt/src/darray.jl:651</a><li> getindex(d::<b>DArray</b>, s::<b>Symbol</b>) in DistributedArrays at <a href=\"file:///Users/ppalmes/.julia/packages/DistributedArrays/3FSDt/src/darray.jl\" target=\"_blank\">/Users/ppalmes/.julia/packages/DistributedArrays/3FSDt/src/darray.jl:387</a><li> hash(d::<b>DArray</b>, h::<b>UInt64</b>) in DistributedArrays at <a href=\"file:///Users/ppalmes/.julia/packages/DistributedArrays/3FSDt/src/darray.jl\" target=\"_blank\">/Users/ppalmes/.julia/packages/DistributedArrays/3FSDt/src/darray.jl:76</a><li> isassigned(D::<b>DArray</b>, i::<b>Integer...</b>) in DistributedArrays at <a href=\"file:///Users/ppalmes/.julia/packages/DistributedArrays/3FSDt/src/darray.jl\" target=\"_blank\">/Users/ppalmes/.julia/packages/DistributedArrays/3FSDt/src/darray.jl:662</a><li> map(f, d0::<b>DArray</b>, ds::<b>AbstractArray...</b>) in DistributedArrays at <a href=\"file:///Users/ppalmes/.julia/packages/DistributedArrays/3FSDt/src/mapreduce.jl\" target=\"_blank\">/Users/ppalmes/.julia/packages/DistributedArrays/3FSDt/src/mapreduce.jl:6</a><li> map!(f::<b>F</b>, dest::<b>DArray</b>, src::<b>DArray{var\"#s37\", var\"#s29\", A} where {var\"#s37\", var\"#s29\"}</b>)<i> where {F, A}</i> in DistributedArrays at <a href=\"file:///Users/ppalmes/.julia/packages/DistributedArrays/3FSDt/src/mapreduce.jl\" target=\"_blank\">/Users/ppalmes/.julia/packages/DistributedArrays/3FSDt/src/mapreduce.jl:8</a><li> mapslices(f, D::<b>DArray{T, N, A}</b>; <i>dims</i>)<i> where {T, N, A}</i> in DistributedArrays at <a href=\"file:///Users/ppalmes/.julia/packages/DistributedArrays/3FSDt/src/mapreduce.jl\" target=\"_blank\">/Users/ppalmes/.julia/packages/DistributedArrays/3FSDt/src/mapreduce.jl:199</a><li> mod(A::<b>Array{T, N} where N</b>, B::<b>DArray{T, N, A} where {N, A}</b>)<i> where T</i> in DistributedArrays at <a href=\"file:///Users/ppalmes/.julia/packages/DistributedArrays/3FSDt/src/mapreduce.jl\" target=\"_blank\">/Users/ppalmes/.julia/packages/DistributedArrays/3FSDt/src/mapreduce.jl:195</a><li> mod(A::<b>DArray{T, N, A} where {N, A}</b>, B::<b>Array{T, N} where N</b>)<i> where T</i> in DistributedArrays at <a href=\"file:///Users/ppalmes/.julia/packages/DistributedArrays/3FSDt/src/mapreduce.jl\" target=\"_blank\">/Users/ppalmes/.julia/packages/DistributedArrays/3FSDt/src/mapreduce.jl:194</a><li> mod(A::<b>DArray{T, N, A} where {N, A}</b>, B::<b>DArray{T, N, A} where {N, A}</b>)<i> where T</i> in DistributedArrays at <a href=\"file:///Users/ppalmes/.julia/packages/DistributedArrays/3FSDt/src/mapreduce.jl\" target=\"_blank\">/Users/ppalmes/.julia/packages/DistributedArrays/3FSDt/src/mapreduce.jl:190</a><li> reduce(f, d::<b>DArray</b>) in DistributedArrays at <a href=\"file:///Users/ppalmes/.julia/packages/DistributedArrays/3FSDt/src/mapreduce.jl\" target=\"_blank\">/Users/ppalmes/.julia/packages/DistributedArrays/3FSDt/src/mapreduce.jl:18</a><li> setindex!(d::<b>DArray{T, N, A}</b>, new_lp::<b>A</b>, s::<b>Symbol</b>)<i> where {T, N, A}</i> in DistributedArrays at <a href=\"file:///Users/ppalmes/.julia/packages/DistributedArrays/3FSDt/src/darray.jl\" target=\"_blank\">/Users/ppalmes/.julia/packages/DistributedArrays/3FSDt/src/darray.jl:392</a><li> setindex!(a::<b>Array</b>, d::<b>DArray</b>, I::<b>Union{Colon, StepRange{Int64, Int64}, UnitRange{Int64}, Vector{Int64}}...</b>) in DistributedArrays at <a href=\"file:///Users/ppalmes/.julia/packages/DistributedArrays/3FSDt/src/darray.jl\" target=\"_blank\">/Users/ppalmes/.julia/packages/DistributedArrays/3FSDt/src/darray.jl:701</a><li> similar(d::<b>DArray{T, N, A} where {N, A}</b>)<i> where T</i> in DistributedArrays at <a href=\"file:///Users/ppalmes/.julia/packages/DistributedArrays/3FSDt/src/darray.jl\" target=\"_blank\">/Users/ppalmes/.julia/packages/DistributedArrays/3FSDt/src/darray.jl:256</a><li> similar(d::<b>DArray{T, N, A} where {N, A}</b>, dims::<b>Tuple{Vararg{Int64, N}} where N</b>)<i> where T</i> in DistributedArrays at <a href=\"file:///Users/ppalmes/.julia/packages/DistributedArrays/3FSDt/src/darray.jl\" target=\"_blank\">/Users/ppalmes/.julia/packages/DistributedArrays/3FSDt/src/darray.jl:255</a><li> similar(d::<b>DArray</b>, T::<b>Type</b>) in DistributedArrays at <a href=\"file:///Users/ppalmes/.julia/packages/DistributedArrays/3FSDt/src/darray.jl\" target=\"_blank\">/Users/ppalmes/.julia/packages/DistributedArrays/3FSDt/src/darray.jl:254</a><li> similar(d::<b>DArray</b>, T::<b>Type</b>, dims::<b>Tuple{Vararg{Int64, N}} where N</b>) in DistributedArrays at <a href=\"file:///Users/ppalmes/.julia/packages/DistributedArrays/3FSDt/src/darray.jl\" target=\"_blank\">/Users/ppalmes/.julia/packages/DistributedArrays/3FSDt/src/darray.jl:253</a><li> size(d::<b>DArray</b>) in DistributedArrays at <a href=\"file:///Users/ppalmes/.julia/packages/DistributedArrays/3FSDt/src/darray.jl\" target=\"_blank\">/Users/ppalmes/.julia/packages/DistributedArrays/3FSDt/src/darray.jl:258</a><li> xor(A::<b>Array{T, N} where N</b>, B::<b>DArray{T, N, A} where {N, A}</b>)<i> where T</i> in DistributedArrays at <a href=\"file:///Users/ppalmes/.julia/packages/DistributedArrays/3FSDt/src/mapreduce.jl\" target=\"_blank\">/Users/ppalmes/.julia/packages/DistributedArrays/3FSDt/src/mapreduce.jl:195</a><li> xor(A::<b>DArray{T, N, A} where {N, A}</b>, B::<b>Array{T, N} where N</b>)<i> where T</i> in DistributedArrays at <a href=\"file:///Users/ppalmes/.julia/packages/DistributedArrays/3FSDt/src/mapreduce.jl\" target=\"_blank\">/Users/ppalmes/.julia/packages/DistributedArrays/3FSDt/src/mapreduce.jl:194</a><li> xor(A::<b>DArray{T, N, A} where {N, A}</b>, B::<b>DArray{T, N, A} where {N, A}</b>)<i> where T</i> in DistributedArrays at <a href=\"file:///Users/ppalmes/.julia/packages/DistributedArrays/3FSDt/src/mapreduce.jl\" target=\"_blank\">/Users/ppalmes/.julia/packages/DistributedArrays/3FSDt/src/mapreduce.jl:190</a><li> |(A::<b>Array{T, N} where N</b>, B::<b>DArray{T, N, A} where {N, A}</b>)<i> where T</i> in DistributedArrays at <a href=\"file:///Users/ppalmes/.julia/packages/DistributedArrays/3FSDt/src/mapreduce.jl\" target=\"_blank\">/Users/ppalmes/.julia/packages/DistributedArrays/3FSDt/src/mapreduce.jl:195</a><li> |(A::<b>DArray{T, N, A} where {N, A}</b>, B::<b>Array{T, N} where N</b>)<i> where T</i> in DistributedArrays at <a href=\"file:///Users/ppalmes/.julia/packages/DistributedArrays/3FSDt/src/mapreduce.jl\" target=\"_blank\">/Users/ppalmes/.julia/packages/DistributedArrays/3FSDt/src/mapreduce.jl:194</a><li> |(A::<b>DArray{T, N, A} where {N, A}</b>, B::<b>DArray{T, N, A} where {N, A}</b>)<i> where T</i> in DistributedArrays at <a href=\"file:///Users/ppalmes/.julia/packages/DistributedArrays/3FSDt/src/mapreduce.jl\" target=\"_blank\">/Users/ppalmes/.julia/packages/DistributedArrays/3FSDt/src/mapreduce.jl:190</a><li> serialize(S::<b>Serialization.AbstractSerializer</b>, d::<b>DArray{T, N, A}</b>)<i> where {T, N, A}</i> in DistributedArrays at <a href=\"file:///Users/ppalmes/.julia/packages/DistributedArrays/3FSDt/src/serialize.jl\" target=\"_blank\">/Users/ppalmes/.julia/packages/DistributedArrays/3FSDt/src/serialize.jl:1</a><li> axpy!(α, x::<b>DArray</b>, y::<b>DArray</b>) in DistributedArrays at <a href=\"file:///Users/ppalmes/.julia/packages/DistributedArrays/3FSDt/src/linalg.jl\" target=\"_blank\">/Users/ppalmes/.julia/packages/DistributedArrays/3FSDt/src/linalg.jl:24</a><li> norm(x::<b>DArray</b>) in DistributedArrays at <a href=\"file:///Users/ppalmes/.julia/packages/DistributedArrays/3FSDt/src/linalg.jl\" target=\"_blank\">/Users/ppalmes/.julia/packages/DistributedArrays/3FSDt/src/linalg.jl:49</a><li> norm(x::<b>DArray</b>, p::<b>Real</b>) in DistributedArrays at <a href=\"file:///Users/ppalmes/.julia/packages/DistributedArrays/3FSDt/src/linalg.jl\" target=\"_blank\">/Users/ppalmes/.julia/packages/DistributedArrays/3FSDt/src/linalg.jl:49</a><li> rmul!(A::<b>DArray</b>, x::<b>Number</b>) in DistributedArrays at <a href=\"file:///Users/ppalmes/.julia/packages/DistributedArrays/3FSDt/src/linalg.jl\" target=\"_blank\">/Users/ppalmes/.julia/packages/DistributedArrays/3FSDt/src/linalg.jl:59</a><li> distribute(A::<b>AbstractArray</b>, DA::<b>DArray</b>) in DistributedArrays at <a href=\"file:///Users/ppalmes/.julia/packages/DistributedArrays/3FSDt/src/darray.jl\" target=\"_blank\">/Users/ppalmes/.julia/packages/DistributedArrays/3FSDt/src/darray.jl:559</a><li> localindices(d::<b>DArray</b>) in DistributedArrays at <a href=\"file:///Users/ppalmes/.julia/packages/DistributedArrays/3FSDt/src/darray.jl\" target=\"_blank\">/Users/ppalmes/.julia/packages/DistributedArrays/3FSDt/src/darray.jl:408</a><li> localpart(d::<b>DArray{T, N, A}</b>)<i> where {T, N, A}</i> in DistributedArrays at <a href=\"file:///Users/ppalmes/.julia/packages/DistributedArrays/3FSDt/src/darray.jl\" target=\"_blank\">/Users/ppalmes/.julia/packages/DistributedArrays/3FSDt/src/darray.jl:345</a><li> localpart(d::<b>DArray</b>, localidx...) in DistributedArrays at <a href=\"file:///Users/ppalmes/.julia/packages/DistributedArrays/3FSDt/src/darray.jl\" target=\"_blank\">/Users/ppalmes/.julia/packages/DistributedArrays/3FSDt/src/darray.jl:354</a></ul>"
      ],
      "text/plain": [
       "[1] rand!(A::DArray, ::Type{T}) where T in DistributedArrays at /Users/ppalmes/.julia/packages/DistributedArrays/3FSDt/src/darray.jl:849\n",
       "[2] nnz(A::DArray) in DistributedArrays at /Users/ppalmes/.julia/packages/DistributedArrays/3FSDt/src/mapreduce.jl:123\n",
       "[3] procs(d::DArray) in DistributedArrays at /Users/ppalmes/.julia/packages/DistributedArrays/3FSDt/src/core.jl:58\n",
       "[4] rem(A::Array{T, N} where N, B::DArray{T, N, A} where {N, A}) where T in DistributedArrays at /Users/ppalmes/.julia/packages/DistributedArrays/3FSDt/src/mapreduce.jl:195\n",
       "[5] rem(A::DArray{T, N, A} where {N, A}, B::Array{T, N} where N) where T in DistributedArrays at /Users/ppalmes/.julia/packages/DistributedArrays/3FSDt/src/mapreduce.jl:194\n",
       "[6] rem(A::DArray{T, N, A} where {N, A}, B::DArray{T, N, A} where {N, A}) where T in DistributedArrays at /Users/ppalmes/.julia/packages/DistributedArrays/3FSDt/src/mapreduce.jl:190\n",
       "[7] &(A::Array{T, N} where N, B::DArray{T, N, A} where {N, A}) where T in DistributedArrays at /Users/ppalmes/.julia/packages/DistributedArrays/3FSDt/src/mapreduce.jl:195\n",
       "[8] &(A::DArray{T, N, A} where {N, A}, B::Array{T, N} where N) where T in DistributedArrays at /Users/ppalmes/.julia/packages/DistributedArrays/3FSDt/src/mapreduce.jl:194\n",
       "[9] &(A::DArray{T, N, A} where {N, A}, B::DArray{T, N, A} where {N, A}) where T in DistributedArrays at /Users/ppalmes/.julia/packages/DistributedArrays/3FSDt/src/mapreduce.jl:190\n",
       "[10] +(A::DArray{T, N, A} where {N, A}, B::Array{T, N} where N) where T in DistributedArrays at /Users/ppalmes/.julia/packages/DistributedArrays/3FSDt/src/mapreduce.jl:194\n",
       "[11] +(A::DArray{T, N, A} where {N, A}, B::DArray{T, N, A} where {N, A}) where T in DistributedArrays at /Users/ppalmes/.julia/packages/DistributedArrays/3FSDt/src/mapreduce.jl:190\n",
       "[12] +(A::Array{T, N} where N, B::DArray{T, N, A} where {N, A}) where T in DistributedArrays at /Users/ppalmes/.julia/packages/DistributedArrays/3FSDt/src/mapreduce.jl:195\n",
       "[13] -(D::DArray) in DistributedArrays at /Users/ppalmes/.julia/packages/DistributedArrays/3FSDt/src/mapreduce.jl:142\n",
       "[14] -(A::DArray{T, N, A} where {N, A}, B::Array{T, N} where N) where T in DistributedArrays at /Users/ppalmes/.julia/packages/DistributedArrays/3FSDt/src/mapreduce.jl:194\n",
       "[15] -(A::DArray{T, N, A} where {N, A}, B::DArray{T, N, A} where {N, A}) where T in DistributedArrays at /Users/ppalmes/.julia/packages/DistributedArrays/3FSDt/src/mapreduce.jl:190\n",
       "[16] -(A::Array{T, N} where N, B::DArray{T, N, A} where {N, A}) where T in DistributedArrays at /Users/ppalmes/.julia/packages/DistributedArrays/3FSDt/src/mapreduce.jl:195\n",
       "[17] ==(d1::DArray, d2::SubArray{T, N, D, I, L} where {T, N, D<:DArray, I, L}) in DistributedArrays at /Users/ppalmes/.julia/packages/DistributedArrays/3FSDt/src/darray.jl:444\n",
       "[18] ==(d1::DArray, d2::DArray) in DistributedArrays at /Users/ppalmes/.julia/packages/DistributedArrays/3FSDt/src/darray.jl:437\n",
       "[19] ==(d::DArray{var\"#s37\", var\"#s29\", A} where {var\"#s37\", var\"#s29\"}, a::AbstractArray) where A in DistributedArrays at /Users/ppalmes/.julia/packages/DistributedArrays/3FSDt/src/darray.jl:417\n",
       "[20] ==(d1::SubArray{T, N, D, I, L} where {T, N, D<:DArray, I, L}, d2::DArray) in DistributedArrays at /Users/ppalmes/.julia/packages/DistributedArrays/3FSDt/src/darray.jl:438\n",
       "[21] ==(a::AbstractArray, d::DArray) in DistributedArrays at /Users/ppalmes/.julia/packages/DistributedArrays/3FSDt/src/darray.jl:435\n",
       "[22] close(d::DArray) in DistributedArrays at /Users/ppalmes/.julia/packages/DistributedArrays/3FSDt/src/core.jl:34\n",
       "[23] copyto!(dest::DArray, bc::Base.Broadcast.Broadcasted) in DistributedArrays at /Users/ppalmes/.julia/packages/DistributedArrays/3FSDt/src/broadcast.jl:66\n",
       "[24] count(f, A::DArray) in DistributedArrays at /Users/ppalmes/.julia/packages/DistributedArrays/3FSDt/src/mapreduce.jl:114\n",
       "[25] deepcopy(src::DArray) in DistributedArrays at /Users/ppalmes/.julia/packages/DistributedArrays/3FSDt/src/darray.jl:688\n",
       "[26] div(A::Array{T, N} where N, B::DArray{T, N, A} where {N, A}) where T in DistributedArrays at /Users/ppalmes/.julia/packages/DistributedArrays/3FSDt/src/mapreduce.jl:195\n",
       "[27] div(A::DArray{T, N, A} where {N, A}, B::Array{T, N} where N) where T in DistributedArrays at /Users/ppalmes/.julia/packages/DistributedArrays/3FSDt/src/mapreduce.jl:194\n",
       "[28] div(A::DArray{T, N, A} where {N, A}, B::DArray{T, N, A} where {N, A}) where T in DistributedArrays at /Users/ppalmes/.julia/packages/DistributedArrays/3FSDt/src/mapreduce.jl:190\n",
       "[29] extrema(d::DArray) in DistributedArrays at /Users/ppalmes/.julia/packages/DistributedArrays/3FSDt/src/mapreduce.jl:130\n",
       "[30] fetch(d::DArray{T, N, A}, i) where {T, N, A} in DistributedArrays at /Users/ppalmes/.julia/packages/DistributedArrays/3FSDt/src/darray.jl:400\n",
       "[31] fill!(A::DArray, x) in DistributedArrays at /Users/ppalmes/.julia/packages/DistributedArrays/3FSDt/src/darray.jl:840\n",
       "[32] getindex(d::DArray) in DistributedArrays at /Users/ppalmes/.julia/packages/DistributedArrays/3FSDt/src/darray.jl:656\n",
       "[33] getindex(d::DArray, i::Int64) in DistributedArrays at /Users/ppalmes/.julia/packages/DistributedArrays/3FSDt/src/darray.jl:647\n",
       "[34] getindex(d::DArray, i::Int64...) in DistributedArrays at /Users/ppalmes/.julia/packages/DistributedArrays/3FSDt/src/darray.jl:651\n",
       "[35] getindex(d::DArray, s::Symbol) in DistributedArrays at /Users/ppalmes/.julia/packages/DistributedArrays/3FSDt/src/darray.jl:387\n",
       "[36] hash(d::DArray, h::UInt64) in DistributedArrays at /Users/ppalmes/.julia/packages/DistributedArrays/3FSDt/src/darray.jl:76\n",
       "[37] isassigned(D::DArray, i::Integer...) in DistributedArrays at /Users/ppalmes/.julia/packages/DistributedArrays/3FSDt/src/darray.jl:662\n",
       "[38] map(f, d0::DArray, ds::AbstractArray...) in DistributedArrays at /Users/ppalmes/.julia/packages/DistributedArrays/3FSDt/src/mapreduce.jl:6\n",
       "[39] map!(f::F, dest::DArray, src::DArray{var\"#s37\", var\"#s29\", A} where {var\"#s37\", var\"#s29\"}) where {F, A} in DistributedArrays at /Users/ppalmes/.julia/packages/DistributedArrays/3FSDt/src/mapreduce.jl:8\n",
       "[40] mapslices(f, D::DArray{T, N, A}; dims) where {T, N, A} in DistributedArrays at /Users/ppalmes/.julia/packages/DistributedArrays/3FSDt/src/mapreduce.jl:199\n",
       "[41] mod(A::Array{T, N} where N, B::DArray{T, N, A} where {N, A}) where T in DistributedArrays at /Users/ppalmes/.julia/packages/DistributedArrays/3FSDt/src/mapreduce.jl:195\n",
       "[42] mod(A::DArray{T, N, A} where {N, A}, B::Array{T, N} where N) where T in DistributedArrays at /Users/ppalmes/.julia/packages/DistributedArrays/3FSDt/src/mapreduce.jl:194\n",
       "[43] mod(A::DArray{T, N, A} where {N, A}, B::DArray{T, N, A} where {N, A}) where T in DistributedArrays at /Users/ppalmes/.julia/packages/DistributedArrays/3FSDt/src/mapreduce.jl:190\n",
       "[44] reduce(f, d::DArray) in DistributedArrays at /Users/ppalmes/.julia/packages/DistributedArrays/3FSDt/src/mapreduce.jl:18\n",
       "[45] setindex!(d::DArray{T, N, A}, new_lp::A, s::Symbol) where {T, N, A} in DistributedArrays at /Users/ppalmes/.julia/packages/DistributedArrays/3FSDt/src/darray.jl:392\n",
       "[46] setindex!(a::Array, d::DArray, I::Union{Colon, StepRange{Int64, Int64}, UnitRange{Int64}, Vector{Int64}}...) in DistributedArrays at /Users/ppalmes/.julia/packages/DistributedArrays/3FSDt/src/darray.jl:701\n",
       "[47] similar(d::DArray{T, N, A} where {N, A}) where T in DistributedArrays at /Users/ppalmes/.julia/packages/DistributedArrays/3FSDt/src/darray.jl:256\n",
       "[48] similar(d::DArray{T, N, A} where {N, A}, dims::Tuple{Vararg{Int64, N}} where N) where T in DistributedArrays at /Users/ppalmes/.julia/packages/DistributedArrays/3FSDt/src/darray.jl:255\n",
       "[49] similar(d::DArray, T::Type) in DistributedArrays at /Users/ppalmes/.julia/packages/DistributedArrays/3FSDt/src/darray.jl:254\n",
       "[50] similar(d::DArray, T::Type, dims::Tuple{Vararg{Int64, N}} where N) in DistributedArrays at /Users/ppalmes/.julia/packages/DistributedArrays/3FSDt/src/darray.jl:253\n",
       "[51] size(d::DArray) in DistributedArrays at /Users/ppalmes/.julia/packages/DistributedArrays/3FSDt/src/darray.jl:258\n",
       "[52] xor(A::Array{T, N} where N, B::DArray{T, N, A} where {N, A}) where T in DistributedArrays at /Users/ppalmes/.julia/packages/DistributedArrays/3FSDt/src/mapreduce.jl:195\n",
       "[53] xor(A::DArray{T, N, A} where {N, A}, B::Array{T, N} where N) where T in DistributedArrays at /Users/ppalmes/.julia/packages/DistributedArrays/3FSDt/src/mapreduce.jl:194\n",
       "[54] xor(A::DArray{T, N, A} where {N, A}, B::DArray{T, N, A} where {N, A}) where T in DistributedArrays at /Users/ppalmes/.julia/packages/DistributedArrays/3FSDt/src/mapreduce.jl:190\n",
       "[55] |(A::Array{T, N} where N, B::DArray{T, N, A} where {N, A}) where T in DistributedArrays at /Users/ppalmes/.julia/packages/DistributedArrays/3FSDt/src/mapreduce.jl:195\n",
       "[56] |(A::DArray{T, N, A} where {N, A}, B::Array{T, N} where N) where T in DistributedArrays at /Users/ppalmes/.julia/packages/DistributedArrays/3FSDt/src/mapreduce.jl:194\n",
       "[57] |(A::DArray{T, N, A} where {N, A}, B::DArray{T, N, A} where {N, A}) where T in DistributedArrays at /Users/ppalmes/.julia/packages/DistributedArrays/3FSDt/src/mapreduce.jl:190\n",
       "[58] serialize(S::Serialization.AbstractSerializer, d::DArray{T, N, A}) where {T, N, A} in DistributedArrays at /Users/ppalmes/.julia/packages/DistributedArrays/3FSDt/src/serialize.jl:1\n",
       "[59] axpy!(α, x::DArray, y::DArray) in DistributedArrays at /Users/ppalmes/.julia/packages/DistributedArrays/3FSDt/src/linalg.jl:24\n",
       "[60] norm(x::DArray) in DistributedArrays at /Users/ppalmes/.julia/packages/DistributedArrays/3FSDt/src/linalg.jl:49\n",
       "[61] norm(x::DArray, p::Real) in DistributedArrays at /Users/ppalmes/.julia/packages/DistributedArrays/3FSDt/src/linalg.jl:49\n",
       "[62] rmul!(A::DArray, x::Number) in DistributedArrays at /Users/ppalmes/.julia/packages/DistributedArrays/3FSDt/src/linalg.jl:59\n",
       "[63] distribute(A::AbstractArray, DA::DArray) in DistributedArrays at /Users/ppalmes/.julia/packages/DistributedArrays/3FSDt/src/darray.jl:559\n",
       "[64] localindices(d::DArray) in DistributedArrays at /Users/ppalmes/.julia/packages/DistributedArrays/3FSDt/src/darray.jl:408\n",
       "[65] localpart(d::DArray{T, N, A}) where {T, N, A} in DistributedArrays at /Users/ppalmes/.julia/packages/DistributedArrays/3FSDt/src/darray.jl:345\n",
       "[66] localpart(d::DArray, localidx...) in DistributedArrays at /Users/ppalmes/.julia/packages/DistributedArrays/3FSDt/src/darray.jl:354"
      ]
     },
     "execution_count": 14,
     "metadata": {},
     "output_type": "execute_result"
    }
   ],
   "source": [
    "methodswith(DArray)"
   ]
  },
  {
   "cell_type": "code",
   "execution_count": 15,
   "metadata": {},
   "outputs": [
    {
     "data": {
      "text/html": [
       "sum(a::<b>AbstractArray</b>; <i>dims, kw...</i>) in Base at <a href=\"https://github.com/JuliaLang/julia/tree/1b93d53fc4bb59350ada898038ed4de2994cce33/base/reducedim.jl#L873\" target=\"_blank\">reducedim.jl:873</a>"
      ],
      "text/plain": [
       "sum(a::AbstractArray; dims, kw...) in Base at reducedim.jl:873"
      ]
     },
     "execution_count": 15,
     "metadata": {},
     "output_type": "execute_result"
    }
   ],
   "source": [
    "@which sum(ddat .* ddat)"
   ]
  },
  {
   "cell_type": "code",
   "execution_count": null,
   "metadata": {},
   "outputs": [],
   "source": []
  }
 ],
 "metadata": {
  "@webio": {
   "lastCommId": null,
   "lastKernelId": null
  },
  "kernelspec": {
   "display_name": "Julia 1.6.2",
   "language": "julia",
   "name": "julia-1.6"
  },
  "language_info": {
   "file_extension": ".jl",
   "mimetype": "application/julia",
   "name": "julia",
   "version": "1.6.2"
  }
 },
 "nbformat": 4,
 "nbformat_minor": 2
}
