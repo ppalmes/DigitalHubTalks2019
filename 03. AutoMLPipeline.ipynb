{
 "cells": [
  {
   "cell_type": "markdown",
   "metadata": {},
   "source": [
    "### Load Modules"
   ]
  },
  {
   "cell_type": "code",
   "execution_count": 1,
   "metadata": {},
   "outputs": [],
   "source": [
    "using Random\n",
    "using AutoMLPipeline\n",
    "using DataFrames\n",
    "using AbstractTrees\n",
    "ENV[\"COLUMNS\"]=1000;"
   ]
  },
  {
   "cell_type": "markdown",
   "metadata": {},
   "source": [
    "### Load dataset\n",
    "- pro-football dataset\n",
    "- predict if the game is played home/away"
   ]
  },
  {
   "cell_type": "code",
   "execution_count": 2,
   "metadata": {},
   "outputs": [
    {
     "data": {
      "text/html": [
       "<div class=\"data-frame\"><p>5 rows × 7 columns</p><table class=\"data-frame\"><thead><tr><th></th><th>Home.Away</th><th>Favorite_Points</th><th>Underdog_Points</th><th>Pointspread</th><th>Favorite_Name</th><th>Underdog_name</th><th>Year</th></tr><tr><th></th><th title=\"String\">String</th><th title=\"Int64\">Int64</th><th title=\"Int64\">Int64</th><th title=\"Float64\">Float64</th><th title=\"String\">String</th><th title=\"String\">String</th><th title=\"Int64\">Int64</th></tr></thead><tbody><tr><th>1</th><td>away</td><td>27</td><td>24</td><td>4.0</td><td>BUF</td><td>MIA</td><td>89</td></tr><tr><th>2</th><td>at_home</td><td>17</td><td>14</td><td>3.0</td><td>CHI</td><td>CIN</td><td>89</td></tr><tr><th>3</th><td>away</td><td>51</td><td>0</td><td>2.5</td><td>CLE</td><td>PIT</td><td>89</td></tr><tr><th>4</th><td>at_home</td><td>28</td><td>0</td><td>5.5</td><td>NO</td><td>DAL</td><td>89</td></tr><tr><th>5</th><td>at_home</td><td>38</td><td>7</td><td>5.5</td><td>MIN</td><td>HOU</td><td>89</td></tr></tbody></table></div>"
      ],
      "text/latex": [
       "\\begin{tabular}{r|ccccccc}\n",
       "\t& Home.Away & Favorite\\_Points & Underdog\\_Points & Pointspread & Favorite\\_Name & Underdog\\_name & Year\\\\\n",
       "\t\\hline\n",
       "\t& String & Int64 & Int64 & Float64 & String & String & Int64\\\\\n",
       "\t\\hline\n",
       "\t1 & away & 27 & 24 & 4.0 & BUF & MIA & 89 \\\\\n",
       "\t2 & at\\_home & 17 & 14 & 3.0 & CHI & CIN & 89 \\\\\n",
       "\t3 & away & 51 & 0 & 2.5 & CLE & PIT & 89 \\\\\n",
       "\t4 & at\\_home & 28 & 0 & 5.5 & NO & DAL & 89 \\\\\n",
       "\t5 & at\\_home & 38 & 7 & 5.5 & MIN & HOU & 89 \\\\\n",
       "\\end{tabular}\n"
      ],
      "text/plain": [
       "\u001b[1m5×7 DataFrame\u001b[0m\n",
       "\u001b[1m Row \u001b[0m│\u001b[1m Home.Away \u001b[0m\u001b[1m Favorite_Points \u001b[0m\u001b[1m Underdog_Points \u001b[0m\u001b[1m Pointspread \u001b[0m\u001b[1m Favorite_Name \u001b[0m\u001b[1m Underdog_name \u001b[0m\u001b[1m Year  \u001b[0m\n",
       "\u001b[1m     \u001b[0m│\u001b[90m String    \u001b[0m\u001b[90m Int64           \u001b[0m\u001b[90m Int64           \u001b[0m\u001b[90m Float64     \u001b[0m\u001b[90m String        \u001b[0m\u001b[90m String        \u001b[0m\u001b[90m Int64 \u001b[0m\n",
       "─────┼───────────────────────────────────────────────────────────────────────────────────────────────\n",
       "   1 │ away                    27               24          4.0  BUF            MIA               89\n",
       "   2 │ at_home                 17               14          3.0  CHI            CIN               89\n",
       "   3 │ away                    51                0          2.5  CLE            PIT               89\n",
       "   4 │ at_home                 28                0          5.5  NO             DAL               89\n",
       "   5 │ at_home                 38                7          5.5  MIN            HOU               89"
      ]
     },
     "execution_count": 2,
     "metadata": {},
     "output_type": "execute_result"
    }
   ],
   "source": [
    "using CSV\n",
    "profbdata = CSV.read(\"profb.csv\",DataFrame)\n",
    "first(profbdata,5)"
   ]
  },
  {
   "cell_type": "markdown",
   "metadata": {},
   "source": [
    "### Split data into input features and target output"
   ]
  },
  {
   "cell_type": "code",
   "execution_count": 3,
   "metadata": {},
   "outputs": [],
   "source": [
    "X = profbdata[:,2:end] \n",
    "Y = profbdata[:,1] |> Vector;\n"
   ]
  },
  {
   "cell_type": "markdown",
   "metadata": {},
   "source": [
    "### Load the building blocks of modeling"
   ]
  },
  {
   "cell_type": "code",
   "execution_count": 4,
   "metadata": {},
   "outputs": [],
   "source": [
    "# decomposition\n",
    "pca = SKPreprocessor(\"PCA\")\n",
    "fa = SKPreprocessor(\"FactorAnalysis\")\n",
    "ica = SKPreprocessor(\"FastICA\")\n",
    "# Scaler \n",
    "rb = SKPreprocessor(\"RobustScaler\")\n",
    "pt = SKPreprocessor(\"PowerTransformer\")\n",
    "norm = SKPreprocessor(\"Normalizer\")\n",
    "mx = SKPreprocessor(\"MinMaxScaler\")\n",
    "# categorical preprocessing\n",
    "ohe = OneHotEncoder()\n",
    "# Column selector\n",
    "disc = CatNumDiscriminator()\n",
    "catf = CatFeatureSelector()\n",
    "numf = NumFeatureSelector()\n",
    "# Learners\n",
    "rf = SKLearner(\"RandomForestClassifier\")\n",
    "gb = SKLearner(\"GradientBoostingClassifier\")\n",
    "lsvc = SKLearner(\"LinearSVC\")\n",
    "svc = SKLearner(\"SVC\")\n",
    "mlp = SKLearner(\"MLPClassifier\")\n",
    "ada = SKLearner(\"AdaBoostClassifier\");\n",
    "jrf = RandomForest();\n",
    "vote = VoteEnsemble();\n",
    "stack = StackEnsemble();\n",
    "best = BestLearner();"
   ]
  },
  {
   "cell_type": "markdown",
   "metadata": {},
   "source": [
    "### Define a pipeline composed of transformers and a learner at the end\n",
    "#### Symbolic expression exploiting Julia Macro (allows symbolic manipulation)"
   ]
  },
  {
   "cell_type": "code",
   "execution_count": 5,
   "metadata": {},
   "outputs": [
    {
     "data": {
      "text/plain": [
       "100.0"
      ]
     },
     "execution_count": 5,
     "metadata": {},
     "output_type": "execute_result"
    }
   ],
   "source": [
    "pvote = @pipeline  (catf |> ohe) + (numf) |> vote\n",
    "pred = fit_transform!(pvote,X,Y)\n",
    "score(:accuracy,pred,Y)"
   ]
  },
  {
   "cell_type": "code",
   "execution_count": 6,
   "metadata": {},
   "outputs": [
    {
     "data": {
      "text/plain": [
       ":(2 + 2)"
      ]
     },
     "execution_count": 6,
     "metadata": {},
     "output_type": "execute_result"
    }
   ],
   "source": [
    "a=:(2+2)"
   ]
  },
  {
   "cell_type": "code",
   "execution_count": 7,
   "metadata": {},
   "outputs": [
    {
     "data": {
      "text/plain": [
       "4"
      ]
     },
     "execution_count": 7,
     "metadata": {},
     "output_type": "execute_result"
    }
   ],
   "source": [
    "eval(a)"
   ]
  },
  {
   "cell_type": "code",
   "execution_count": 8,
   "metadata": {},
   "outputs": [
    {
     "data": {
      "text/plain": [
       ":(Pipeline(ComboPipeline(Pipeline(catf, ohe), numf), vote))"
      ]
     },
     "execution_count": 8,
     "metadata": {},
     "output_type": "execute_result"
    }
   ],
   "source": [
    "@pipelinex (catf |> ohe) + (numf) |> vote"
   ]
  },
  {
   "cell_type": "code",
   "execution_count": 9,
   "metadata": {},
   "outputs": [
    {
     "name": "stdout",
     "output_type": "stream",
     "text": [
      "Expr(:call)\n",
      "├─ :Pipeline\n",
      "├─ Expr(:call)\n",
      "│  ├─ :ComboPipeline\n",
      "│  ├─ Expr(:call)\n",
      "│  │  ├─ :Pipeline\n",
      "│  │  ├─ :catf\n",
      "│  │  └─ :ohe\n",
      "│  └─ :numf\n",
      "└─ :vote\n"
     ]
    }
   ],
   "source": [
    "print_tree(@pipelinex (catf |> ohe) + (numf) |> vote)"
   ]
  },
  {
   "cell_type": "code",
   "execution_count": 10,
   "metadata": {},
   "outputs": [
    {
     "data": {
      "text/plain": [
       "672-element Vector{String}:\n",
       " \"away\"\n",
       " \"at_home\"\n",
       " \"away\"\n",
       " \"at_home\"\n",
       " \"at_home\"\n",
       " \"at_home\"\n",
       " \"away\"\n",
       " \"at_home\"\n",
       " \"away\"\n",
       " \"at_home\"\n",
       " \"away\"\n",
       " \"at_home\"\n",
       " \"at_home\"\n",
       " ⋮\n",
       " \"at_home\"\n",
       " \"at_home\"\n",
       " \"away\"\n",
       " \"at_home\"\n",
       " \"away\"\n",
       " \"at_home\"\n",
       " \"at_home\"\n",
       " \"at_home\"\n",
       " \"away\"\n",
       " \"away\"\n",
       " \"at_home\"\n",
       " \"at_home\""
      ]
     },
     "execution_count": 10,
     "metadata": {},
     "output_type": "execute_result"
    }
   ],
   "source": [
    "pohe = @pipeline  numf + catf |> ohe \n",
    "pred = fit_transform!(pvote,X,Y)"
   ]
  },
  {
   "cell_type": "markdown",
   "metadata": {},
   "source": [
    "#### Corresponding function call"
   ]
  },
  {
   "cell_type": "code",
   "execution_count": 11,
   "metadata": {},
   "outputs": [
    {
     "data": {
      "text/plain": [
       ":(Pipeline(ComboPipeline(Pipeline(catf, ohe), numf), vote))"
      ]
     },
     "execution_count": 11,
     "metadata": {},
     "output_type": "execute_result"
    }
   ],
   "source": [
    "@pipelinex (catf |> ohe) + (numf) |> vote"
   ]
  },
  {
   "cell_type": "code",
   "execution_count": 12,
   "metadata": {},
   "outputs": [
    {
     "name": "stdout",
     "output_type": "stream",
     "text": [
      "Expr(:call)\n",
      "├─ :Pipeline\n",
      "├─ Expr(:call)\n",
      "│  ├─ :ComboPipeline\n",
      "│  ├─ Expr(:call)\n",
      "│  │  ├─ :Pipeline\n",
      "│  │  ├─ :catf\n",
      "│  │  └─ :ohe\n",
      "│  └─ :numf\n",
      "└─ :vote\n"
     ]
    }
   ],
   "source": [
    "(@pipelinex (catf |> ohe) + (numf) |> vote) |> print_tree"
   ]
  },
  {
   "cell_type": "markdown",
   "metadata": {},
   "source": [
    "### Evaluate performance by 5-fold cross-validation"
   ]
  },
  {
   "cell_type": "code",
   "execution_count": 13,
   "metadata": {},
   "outputs": [
    {
     "name": "stdout",
     "output_type": "stream",
     "text": [
      "fold: 1, 0.5746268656716418\n",
      "fold: 2, 0.6222222222222222\n",
      "fold: 3, 0.5447761194029851\n",
      "fold: 4, 0.6074074074074074\n",
      "fold: 5, 0.5970149253731343\n",
      "errors: 0\n"
     ]
    },
    {
     "data": {
      "text/plain": [
       "(mean = 0.5892095080154782, std = 0.030285751035013225, folds = 5, errors = 0)"
      ]
     },
     "execution_count": 13,
     "metadata": {},
     "output_type": "execute_result"
    }
   ],
   "source": [
    "crossvalidate(pvote,X,Y,\"accuracy_score\",5)"
   ]
  },
  {
   "cell_type": "markdown",
   "metadata": {},
   "source": [
    "### Use similar workflow to discover optimal pipeline"
   ]
  },
  {
   "cell_type": "markdown",
   "metadata": {},
   "source": [
    "### RandomForest learner"
   ]
  },
  {
   "cell_type": "code",
   "execution_count": 14,
   "metadata": {},
   "outputs": [
    {
     "data": {
      "text/plain": [
       "100.0"
      ]
     },
     "execution_count": 14,
     "metadata": {},
     "output_type": "execute_result"
    }
   ],
   "source": [
    "prf = @pipeline  (numf |> rb |> pca) + (numf |> rb |> ica) + (catf |> ohe) + (numf |> rb |> fa) |> rf\n",
    "pred = fit_transform!(prf,X,Y)\n",
    "score(:accuracy,pred,Y)"
   ]
  },
  {
   "cell_type": "code",
   "execution_count": 15,
   "metadata": {},
   "outputs": [
    {
     "data": {
      "text/plain": [
       ":(Pipeline(ComboPipeline(Pipeline(Pipeline(numf, rb), pca), Pipeline(Pipeline(numf, rb), ica), Pipeline(catf, ohe), Pipeline(Pipeline(numf, rb), fa)), rf))"
      ]
     },
     "execution_count": 15,
     "metadata": {},
     "output_type": "execute_result"
    }
   ],
   "source": [
    "@pipelinex (numf |> rb |> pca) + (numf |> rb |> ica) + (catf |> ohe) + (numf |> rb |> fa) |> rf"
   ]
  },
  {
   "cell_type": "code",
   "execution_count": 16,
   "metadata": {},
   "outputs": [
    {
     "name": "stdout",
     "output_type": "stream",
     "text": [
      "fold: 1, 0.753731343283582\n",
      "fold: 2, 0.5703703703703704\n",
      "fold: 3, 0.7313432835820896\n",
      "fold: 4, 0.6962962962962963\n",
      "fold: 5, 0.6492537313432836\n",
      "errors: 0\n"
     ]
    },
    {
     "data": {
      "text/plain": [
       "(mean = 0.6801990049751244, std = 0.0729756872843776, folds = 5, errors = 0)"
      ]
     },
     "execution_count": 16,
     "metadata": {},
     "output_type": "execute_result"
    }
   ],
   "source": [
    "crossvalidate(prf,X,Y,\"accuracy_score\",5)"
   ]
  },
  {
   "cell_type": "markdown",
   "metadata": {},
   "source": [
    "### Gradient Boost Learner"
   ]
  },
  {
   "cell_type": "code",
   "execution_count": 17,
   "metadata": {},
   "outputs": [
    {
     "data": {
      "text/plain": [
       "91.22023809523809"
      ]
     },
     "execution_count": 17,
     "metadata": {},
     "output_type": "execute_result"
    }
   ],
   "source": [
    "pgb = @pipeline (numf |> rb |> pca) + (numf|>rb|>ica)  + (numf|>rb|>fa) |> gb\n",
    "pred = fit_transform!(pgb,X,Y)\n",
    "score(:accuracy,pred,Y)"
   ]
  },
  {
   "cell_type": "code",
   "execution_count": 18,
   "metadata": {},
   "outputs": [
    {
     "name": "stdout",
     "output_type": "stream",
     "text": [
      "fold: 1, 0.6492537313432836\n",
      "fold: 2, 0.6518518518518519\n",
      "fold: 3, 0.7014925373134329\n",
      "fold: 4, 0.6148148148148148\n",
      "fold: 5, 0.5671641791044776\n",
      "errors: 0\n"
     ]
    },
    {
     "data": {
      "text/plain": [
       "(mean = 0.6369154228855721, std = 0.04974738023202397, folds = 5, errors = 0)"
      ]
     },
     "execution_count": 18,
     "metadata": {},
     "output_type": "execute_result"
    }
   ],
   "source": [
    "crossvalidate(pgb,X,Y,\"accuracy_score\",5)"
   ]
  },
  {
   "cell_type": "markdown",
   "metadata": {},
   "source": [
    "### Linear Support Vector Machine for Classification"
   ]
  },
  {
   "cell_type": "code",
   "execution_count": 19,
   "metadata": {},
   "outputs": [
    {
     "data": {
      "text/plain": [
       "79.91071428571429"
      ]
     },
     "execution_count": 19,
     "metadata": {},
     "output_type": "execute_result"
    }
   ],
   "source": [
    "plsvc = @pipeline ((numf |> rb |> pca)+(numf |> rb |> fa)+(numf |> rb |> ica)+(catf |> ohe )) |> lsvc\n",
    "pred = fit_transform!(plsvc,X,Y)\n",
    "score(:accuracy,pred,Y)"
   ]
  },
  {
   "cell_type": "code",
   "execution_count": 20,
   "metadata": {},
   "outputs": [
    {
     "name": "stdout",
     "output_type": "stream",
     "text": [
      "fold: 1, 0.6492537313432836\n",
      "fold: 2, 0.7555555555555555\n",
      "fold: 3, 0.746268656716418\n",
      "fold: 4, 0.7407407407407407\n",
      "fold: 5, 0.7313432835820896\n",
      "errors: 0\n"
     ]
    },
    {
     "data": {
      "text/plain": [
       "(mean = 0.7246323935876174, std = 0.0430430814491215, folds = 5, errors = 0)"
      ]
     },
     "execution_count": 20,
     "metadata": {},
     "output_type": "execute_result"
    }
   ],
   "source": [
    "crossvalidate(plsvc,X,Y,\"accuracy_score\",5)"
   ]
  },
  {
   "cell_type": "markdown",
   "metadata": {},
   "source": [
    "### RBF Kernel Support Vector Machine for Classification"
   ]
  },
  {
   "cell_type": "code",
   "execution_count": 21,
   "metadata": {},
   "outputs": [
    {
     "data": {
      "text/plain": [
       "66.66666666666666"
      ]
     },
     "execution_count": 21,
     "metadata": {},
     "output_type": "execute_result"
    }
   ],
   "source": [
    "psvc = @pipeline (numf |> pca) + numf + (numf|> ica) + (catf |> ohe) |> svc\n",
    "pred = fit_transform!(psvc,X,Y)\n",
    "score(:accuracy,pred,Y)"
   ]
  },
  {
   "cell_type": "code",
   "execution_count": 22,
   "metadata": {},
   "outputs": [
    {
     "name": "stdout",
     "output_type": "stream",
     "text": [
      "fold: 1, 0.6865671641791045\n",
      "fold: 2, 0.674074074074074\n",
      "fold: 3, 0.6417910447761194\n",
      "fold: 4, 0.6518518518518519\n",
      "fold: 5, 0.6791044776119403\n",
      "errors: 0\n"
     ]
    },
    {
     "data": {
      "text/plain": [
       "(mean = 0.666677722498618, std = 0.018999166548390053, folds = 5, errors = 0)"
      ]
     },
     "execution_count": 22,
     "metadata": {},
     "output_type": "execute_result"
    }
   ],
   "source": [
    "crossvalidate(psvc,X,Y,\"accuracy_score\",5)"
   ]
  }
 ],
 "metadata": {
  "@webio": {
   "lastCommId": null,
   "lastKernelId": null
  },
  "kernelspec": {
   "display_name": "Julia 1.6.2",
   "language": "julia",
   "name": "julia-1.6"
  },
  "language_info": {
   "file_extension": ".jl",
   "mimetype": "application/julia",
   "name": "julia",
   "version": "1.6.2"
  }
 },
 "nbformat": 4,
 "nbformat_minor": 2
}
