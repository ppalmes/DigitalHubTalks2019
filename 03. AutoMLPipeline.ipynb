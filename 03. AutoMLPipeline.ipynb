{
 "cells": [
  {
   "cell_type": "markdown",
   "metadata": {},
   "source": [
    "### Load Modules"
   ]
  },
  {
   "cell_type": "code",
   "execution_count": null,
   "metadata": {},
   "outputs": [],
   "source": [
    "using Random\n",
    "using AutoMLPipeline\n",
    "using DataFrames\n",
    "using AbstractTrees\n",
    "ENV[\"COLUMNS\"]=1000;"
   ]
  },
  {
   "cell_type": "markdown",
   "metadata": {},
   "source": [
    "### Load dataset\n",
    "- pro-football dataset\n",
    "- predict if the game is played home/away"
   ]
  },
  {
   "cell_type": "code",
   "execution_count": null,
   "metadata": {},
   "outputs": [],
   "source": [
    "using CSV\n",
    "profbdata = CSV.read(\"profb.csv\",DataFrame)\n",
    "first(profbdata,5)"
   ]
  },
  {
   "cell_type": "markdown",
   "metadata": {},
   "source": [
    "### Split data into input features and target output"
   ]
  },
  {
   "cell_type": "code",
   "execution_count": null,
   "metadata": {},
   "outputs": [],
   "source": [
    "X = profbdata[:,2:end] \n",
    "Y = profbdata[:,1] |> Vector;\n"
   ]
  },
  {
   "cell_type": "markdown",
   "metadata": {},
   "source": [
    "### Load the building blocks of modeling"
   ]
  },
  {
   "cell_type": "code",
   "execution_count": null,
   "metadata": {},
   "outputs": [],
   "source": [
    "# decomposition\n",
    "pca = SKPreprocessor(\"PCA\")\n",
    "fa = SKPreprocessor(\"FactorAnalysis\")\n",
    "ica = SKPreprocessor(\"FastICA\")\n",
    "# Scaler \n",
    "rb = SKPreprocessor(\"RobustScaler\")\n",
    "pt = SKPreprocessor(\"PowerTransformer\")\n",
    "norm = SKPreprocessor(\"Normalizer\")\n",
    "mx = SKPreprocessor(\"MinMaxScaler\")\n",
    "# categorical preprocessing\n",
    "ohe = OneHotEncoder()\n",
    "# Column selector\n",
    "disc = CatNumDiscriminator()\n",
    "catf = CatFeatureSelector()\n",
    "numf = NumFeatureSelector()\n",
    "# Learners\n",
    "rf = SKLearner(\"RandomForestClassifier\")\n",
    "gb = SKLearner(\"GradientBoostingClassifier\")\n",
    "lsvc = SKLearner(\"LinearSVC\")\n",
    "svc = SKLearner(\"SVC\")\n",
    "mlp = SKLearner(\"MLPClassifier\")\n",
    "ada = SKLearner(\"AdaBoostClassifier\");\n",
    "jrf = RandomForest();\n",
    "vote = VoteEnsemble();\n",
    "stack = StackEnsemble();\n",
    "best = BestLearner();"
   ]
  },
  {
   "cell_type": "markdown",
   "metadata": {},
   "source": [
    "### Define a pipeline composed of transformers and a learner at the end\n",
    "#### Symbolic expression exploiting Julia Macro (allows symbolic manipulation)"
   ]
  },
  {
   "cell_type": "code",
   "execution_count": null,
   "metadata": {},
   "outputs": [],
   "source": [
    "pvote = @pipeline  (catf |> ohe) + (numf) |> vote\n",
    "pred = fit_transform!(pvote,X,Y)\n",
    "score(:accuracy,pred,Y)"
   ]
  },
  {
   "cell_type": "code",
   "execution_count": null,
   "metadata": {},
   "outputs": [],
   "source": [
    "a=:(2+2)"
   ]
  },
  {
   "cell_type": "code",
   "execution_count": null,
   "metadata": {},
   "outputs": [],
   "source": [
    "eval(a)"
   ]
  },
  {
   "cell_type": "code",
   "execution_count": null,
   "metadata": {},
   "outputs": [],
   "source": [
    "@pipelinex (catf |> ohe) + (numf) |> vote"
   ]
  },
  {
   "cell_type": "code",
   "execution_count": null,
   "metadata": {},
   "outputs": [],
   "source": [
    "print_tree(@pipelinex (catf |> ohe) + (numf) |> vote)"
   ]
  },
  {
   "cell_type": "code",
   "execution_count": null,
   "metadata": {},
   "outputs": [],
   "source": [
    "pohe = @pipeline  numf + catf |> ohe \n",
    "pred = fit_transform!(pvote,X,Y)"
   ]
  },
  {
   "cell_type": "markdown",
   "metadata": {},
   "source": [
    "#### Corresponding function call"
   ]
  },
  {
   "cell_type": "code",
   "execution_count": null,
   "metadata": {},
   "outputs": [],
   "source": [
    "@pipelinex (catf |> ohe) + (numf) |> vote"
   ]
  },
  {
   "cell_type": "code",
   "execution_count": null,
   "metadata": {},
   "outputs": [],
   "source": [
    "(@pipelinex (catf |> ohe) + (numf) |> vote) |> print_tree"
   ]
  },
  {
   "cell_type": "markdown",
   "metadata": {},
   "source": [
    "### Evaluate performance by 5-fold cross-validation"
   ]
  },
  {
   "cell_type": "code",
   "execution_count": null,
   "metadata": {},
   "outputs": [],
   "source": [
    "crossvalidate(pvote,X,Y,\"accuracy_score\",5)"
   ]
  },
  {
   "cell_type": "markdown",
   "metadata": {},
   "source": [
    "### Use similar workflow to discover optimal pipeline"
   ]
  },
  {
   "cell_type": "markdown",
   "metadata": {},
   "source": [
    "### RandomForest learner"
   ]
  },
  {
   "cell_type": "code",
   "execution_count": null,
   "metadata": {},
   "outputs": [],
   "source": [
    "prf = @pipeline  (numf |> rb |> pca) + (numf |> rb |> ica) + (catf |> ohe) + (numf |> rb |> fa) |> rf\n",
    "pred = fit_transform!(prf,X,Y)\n",
    "score(:accuracy,pred,Y)"
   ]
  },
  {
   "cell_type": "code",
   "execution_count": null,
   "metadata": {},
   "outputs": [],
   "source": [
    "@pipelinex (numf |> rb |> pca) + (numf |> rb |> ica) + (catf |> ohe) + (numf |> rb |> fa) |> rf"
   ]
  },
  {
   "cell_type": "code",
   "execution_count": null,
   "metadata": {},
   "outputs": [],
   "source": [
    "crossvalidate(prf,X,Y,\"accuracy_score\",5)"
   ]
  },
  {
   "cell_type": "markdown",
   "metadata": {},
   "source": [
    "### Gradient Boost Learner"
   ]
  },
  {
   "cell_type": "code",
   "execution_count": null,
   "metadata": {},
   "outputs": [],
   "source": [
    "pgb = @pipeline (numf |> rb |> pca) + (numf|>rb|>ica)  + (numf|>rb|>fa) |> gb\n",
    "pred = fit_transform!(pgb,X,Y)\n",
    "score(:accuracy,pred,Y)"
   ]
  },
  {
   "cell_type": "code",
   "execution_count": null,
   "metadata": {},
   "outputs": [],
   "source": [
    "crossvalidate(pgb,X,Y,\"accuracy_score\",5)"
   ]
  },
  {
   "cell_type": "markdown",
   "metadata": {},
   "source": [
    "### Linear Support Vector Machine for Classification"
   ]
  },
  {
   "cell_type": "code",
   "execution_count": null,
   "metadata": {},
   "outputs": [],
   "source": [
    "plsvc = @pipeline ((numf |> rb |> pca)+(numf |> rb |> fa)+(numf |> rb |> ica)+(catf |> ohe )) |> lsvc\n",
    "pred = fit_transform!(plsvc,X,Y)\n",
    "score(:accuracy,pred,Y)"
   ]
  },
  {
   "cell_type": "code",
   "execution_count": null,
   "metadata": {},
   "outputs": [],
   "source": [
    "crossvalidate(plsvc,X,Y,\"accuracy_score\",5)"
   ]
  },
  {
   "cell_type": "markdown",
   "metadata": {},
   "source": [
    "### RBF Kernel Support Vector Machine for Classification"
   ]
  },
  {
   "cell_type": "code",
   "execution_count": null,
   "metadata": {},
   "outputs": [],
   "source": [
    "psvc = @pipeline (numf |> pca) + numf + (numf|> ica) + (catf |> ohe) |> svc\n",
    "pred = fit_transform!(psvc,X,Y)\n",
    "score(:accuracy,pred,Y)"
   ]
  },
  {
   "cell_type": "code",
   "execution_count": null,
   "metadata": {},
   "outputs": [],
   "source": [
    "crossvalidate(psvc,X,Y,\"accuracy_score\",5)"
   ]
  }
 ],
 "metadata": {
  "@webio": {
   "lastCommId": null,
   "lastKernelId": null
  },
  "kernelspec": {
   "display_name": "Julia 1.6.2",
   "language": "julia",
   "name": "julia-1.6"
  },
  "language_info": {
   "file_extension": ".jl",
   "mimetype": "application/julia",
   "name": "julia",
   "version": "1.6.2"
  }
 },
 "nbformat": 4,
 "nbformat_minor": 2
}
