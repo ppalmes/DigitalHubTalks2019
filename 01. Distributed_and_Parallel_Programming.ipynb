{
 "cells": [
  {
   "cell_type": "markdown",
   "metadata": {},
   "source": [
    "## Add available processors"
   ]
  },
  {
   "cell_type": "markdown",
   "metadata": {},
   "source": [
    "Julia interpreter starts with one core process (main julia server)"
   ]
  },
  {
   "cell_type": "code",
   "execution_count": 2,
   "metadata": {},
   "outputs": [
    {
     "data": {
      "text/plain": [
       "1"
      ]
     },
     "execution_count": 2,
     "metadata": {},
     "output_type": "execute_result"
    }
   ],
   "source": [
    "using Distributed\n",
    "nprocs()"
   ]
  },
  {
   "cell_type": "markdown",
   "metadata": {},
   "source": [
    "To avoid over-allocating the number of workers, we check first if currently we have one processor and then allocate 3 more processors."
   ]
  },
  {
   "cell_type": "code",
   "execution_count": 3,
   "metadata": {},
   "outputs": [
    {
     "data": {
      "text/plain": [
       "3-element Array{Int64,1}:\n",
       " 2\n",
       " 3\n",
       " 4"
      ]
     },
     "execution_count": 3,
     "metadata": {},
     "output_type": "execute_result"
    }
   ],
   "source": [
    "nprocs() == 1 && addprocs(3)"
   ]
  },
  {
   "cell_type": "markdown",
   "metadata": {},
   "source": [
    "Let's validate the number of workers we have, not counting the main Julia server (worker id=1)."
   ]
  },
  {
   "cell_type": "code",
   "execution_count": 4,
   "metadata": {},
   "outputs": [
    {
     "data": {
      "text/plain": [
       "3-element Array{Int64,1}:\n",
       " 2\n",
       " 3\n",
       " 4"
      ]
     },
     "execution_count": 4,
     "metadata": {},
     "output_type": "execute_result"
    }
   ],
   "source": [
    "workers()"
   ]
  },
  {
   "cell_type": "markdown",
   "metadata": {},
   "source": [
    "## Remote Calls and References"
   ]
  },
  {
   "cell_type": "markdown",
   "metadata": {},
   "source": [
    "We use `@spawn` macro to dynamically assign a task to an available remote worker."
   ]
  },
  {
   "cell_type": "code",
   "execution_count": 5,
   "metadata": {},
   "outputs": [
    {
     "data": {
      "text/plain": [
       "Future(2, 1, 5, nothing)"
      ]
     },
     "execution_count": 5,
     "metadata": {},
     "output_type": "execute_result"
    }
   ],
   "source": [
    "ref = @spawn sin(π/5)"
   ]
  },
  {
   "cell_type": "markdown",
   "metadata": {},
   "source": [
    "The return type is a Future because the value may happen in the future or later due to network/communication delays. This is a non-blocking call which means Julia main processor does not wait for the task to finish. If you want for Julia to wait, you can use `@sync` command but it will defeat the purpose of parallelization if you wait for the remote call to finish before doing other independent tasks."
   ]
  },
  {
   "cell_type": "markdown",
   "metadata": {},
   "source": [
    "To get the value at a later time, you can use `fetch`. This is a blocking call so Julia waits until the `fetch` call gets its value."
   ]
  },
  {
   "cell_type": "code",
   "execution_count": 6,
   "metadata": {},
   "outputs": [
    {
     "data": {
      "text/plain": [
       "0.5877852522924731"
      ]
     },
     "execution_count": 6,
     "metadata": {},
     "output_type": "execute_result"
    }
   ],
   "source": [
    "fetch(ref)"
   ]
  },
  {
   "cell_type": "markdown",
   "metadata": {},
   "source": [
    "Here's an example of loops with remote calls. For simpler discussion, we use `sin` task but ideally, the task ideal for remote calls are those that takes time so that they can be run in parallel in the background."
   ]
  },
  {
   "cell_type": "markdown",
   "metadata": {},
   "source": [
    "We declare first an `Array` of `Futures` which will be populated by `Future` values by `@spawn` inside the loop."
   ]
  },
  {
   "cell_type": "code",
   "execution_count": 7,
   "metadata": {},
   "outputs": [],
   "source": [
    "n=10\n",
    "refs = Array{Future,1}(undef,n)\n",
    "for i = 1:n\n",
    "    refs[i] = @spawn sin(i)\n",
    "end"
   ]
  },
  {
   "cell_type": "markdown",
   "metadata": {},
   "source": [
    "`refs` now contain an Array of Futures."
   ]
  },
  {
   "cell_type": "code",
   "execution_count": 8,
   "metadata": {},
   "outputs": [
    {
     "data": {
      "text/plain": [
       "10-element Array{Future,1}:\n",
       " Future(3, 1, 7, nothing) \n",
       " Future(4, 1, 8, nothing) \n",
       " Future(2, 1, 9, nothing) \n",
       " Future(3, 1, 10, nothing)\n",
       " Future(4, 1, 11, nothing)\n",
       " Future(2, 1, 12, nothing)\n",
       " Future(3, 1, 13, nothing)\n",
       " Future(4, 1, 14, nothing)\n",
       " Future(2, 1, 15, nothing)\n",
       " Future(3, 1, 16, nothing)"
      ]
     },
     "execution_count": 8,
     "metadata": {},
     "output_type": "execute_result"
    }
   ],
   "source": [
    "refs"
   ]
  },
  {
   "cell_type": "markdown",
   "metadata": {},
   "source": [
    "We can map the `fetch` function to each of the `Futures` and aggregate (reduce) them by getting the sum."
   ]
  },
  {
   "cell_type": "code",
   "execution_count": 9,
   "metadata": {},
   "outputs": [
    {
     "data": {
      "text/plain": [
       "1.4111883712180104"
      ]
     },
     "execution_count": 9,
     "metadata": {},
     "output_type": "execute_result"
    }
   ],
   "source": [
    "reduce(+,map(fetch,refs))"
   ]
  },
  {
   "cell_type": "markdown",
   "metadata": {},
   "source": [
    "A more elegant way to do this is using `@distributed` as show below."
   ]
  },
  {
   "cell_type": "code",
   "execution_count": 10,
   "metadata": {},
   "outputs": [
    {
     "data": {
      "text/plain": [
       "10-element Array{Float64,1}:\n",
       "  0.8414709848078965 \n",
       "  0.9092974268256817 \n",
       "  0.1411200080598672 \n",
       " -0.7568024953079282 \n",
       " -0.9589242746631385 \n",
       " -0.27941549819892586\n",
       "  0.6569865987187891 \n",
       "  0.9893582466233818 \n",
       "  0.4121184852417566 \n",
       " -0.5440211108893698 "
      ]
     },
     "execution_count": 10,
     "metadata": {},
     "output_type": "execute_result"
    }
   ],
   "source": [
    "res=@distributed (vcat) for i=1:n\n",
    "    sin(i)\n",
    "end"
   ]
  },
  {
   "cell_type": "code",
   "execution_count": 11,
   "metadata": {},
   "outputs": [
    {
     "data": {
      "text/plain": [
       "1.4111883712180104"
      ]
     },
     "execution_count": 11,
     "metadata": {},
     "output_type": "execute_result"
    }
   ],
   "source": [
    "reduce(+,res)"
   ]
  },
  {
   "cell_type": "markdown",
   "metadata": {},
   "source": [
    "You can also replace (vcat) by (+) in the `@distributed`."
   ]
  },
  {
   "cell_type": "code",
   "execution_count": 12,
   "metadata": {},
   "outputs": [
    {
     "data": {
      "text/plain": [
       "1.4111883712180104"
      ]
     },
     "execution_count": 12,
     "metadata": {},
     "output_type": "execute_result"
    }
   ],
   "source": [
    "res=@distributed (+) for i=1:n\n",
    "    sin(i)\n",
    "end"
   ]
  },
  {
   "cell_type": "markdown",
   "metadata": {},
   "source": [
    "Here's another example which concatenates each `DataFrame` containing worker and their corresponding task result."
   ]
  },
  {
   "cell_type": "markdown",
   "metadata": {},
   "source": [
    "You will notice the pattern of task assignment. Workers are rotated sequentially in the beginning and then any idle worker will get the next task."
   ]
  },
  {
   "cell_type": "code",
   "execution_count": 13,
   "metadata": {},
   "outputs": [
    {
     "name": "stdout",
     "output_type": "stream",
     "text": [
      "      From worker 4:\t(8, 0.9893582466233818)\n",
      "      From worker 2:\t(1, 0.8414709848078965)\n",
      "      From worker 2:\t(2, 0.9092974268256817)\n",
      "      From worker 4:\t(9, 0.4121184852417566)\n",
      "      From worker 3:\t(5, -0.9589242746631385)\n",
      "      From worker 3:\t(6, -0.27941549819892586)\n",
      "      From worker 2:\t(3, 0.1411200080598672)\n",
      "      From worker 4:\t(10, -0.5440211108893698)\n",
      "      From worker 2:\t(4, -0.7568024953079282)\n",
      "      From worker 3:\t(7, 0.6569865987187891)\n"
     ]
    },
    {
     "data": {
      "text/html": [
       "<table class=\"data-frame\"><thead><tr><th></th><th>worker</th><th>vals</th></tr><tr><th></th><th>Int64</th><th>Float64</th></tr></thead><tbody><p>10 rows × 2 columns</p><tr><th>1</th><td>2</td><td>0.841471</td></tr><tr><th>2</th><td>2</td><td>0.909297</td></tr><tr><th>3</th><td>2</td><td>0.14112</td></tr><tr><th>4</th><td>2</td><td>-0.756802</td></tr><tr><th>5</th><td>3</td><td>-0.958924</td></tr><tr><th>6</th><td>3</td><td>-0.279415</td></tr><tr><th>7</th><td>3</td><td>0.656987</td></tr><tr><th>8</th><td>4</td><td>0.989358</td></tr><tr><th>9</th><td>4</td><td>0.412118</td></tr><tr><th>10</th><td>4</td><td>-0.544021</td></tr></tbody></table>"
      ],
      "text/latex": [
       "\\begin{tabular}{r|cc}\n",
       "\t& worker & vals\\\\\n",
       "\t\\hline\n",
       "\t& Int64 & Float64\\\\\n",
       "\t\\hline\n",
       "\t1 & 2 & 0.841471 \\\\\n",
       "\t2 & 2 & 0.909297 \\\\\n",
       "\t3 & 2 & 0.14112 \\\\\n",
       "\t4 & 2 & -0.756802 \\\\\n",
       "\t5 & 3 & -0.958924 \\\\\n",
       "\t6 & 3 & -0.279415 \\\\\n",
       "\t7 & 3 & 0.656987 \\\\\n",
       "\t8 & 4 & 0.989358 \\\\\n",
       "\t9 & 4 & 0.412118 \\\\\n",
       "\t10 & 4 & -0.544021 \\\\\n",
       "\\end{tabular}\n"
      ],
      "text/plain": [
       "10×2 DataFrame\n",
       "│ Row │ worker │ vals      │\n",
       "│     │ \u001b[90mInt64\u001b[39m  │ \u001b[90mFloat64\u001b[39m   │\n",
       "├─────┼────────┼───────────┤\n",
       "│ 1   │ 2      │ 0.841471  │\n",
       "│ 2   │ 2      │ 0.909297  │\n",
       "│ 3   │ 2      │ 0.14112   │\n",
       "│ 4   │ 2      │ -0.756802 │\n",
       "│ 5   │ 3      │ -0.958924 │\n",
       "│ 6   │ 3      │ -0.279415 │\n",
       "│ 7   │ 3      │ 0.656987  │\n",
       "│ 8   │ 4      │ 0.989358  │\n",
       "│ 9   │ 4      │ 0.412118  │\n",
       "│ 10  │ 4      │ -0.544021 │"
      ]
     },
     "execution_count": 13,
     "metadata": {},
     "output_type": "execute_result"
    }
   ],
   "source": [
    "@everywhere using DataFrames\n",
    "res=@distributed (vcat) for i = 1:10\n",
    "    println((i,sin(i)))\n",
    "    DataFrame(worker=myid(), vals=sin(i))\n",
    "end\n",
    "res"
   ]
  },
  {
   "cell_type": "markdown",
   "metadata": {},
   "source": [
    "## Monte-Carlo Simulation to estimate $\\pi$"
   ]
  },
  {
   "cell_type": "code",
   "execution_count": 14,
   "metadata": {},
   "outputs": [],
   "source": [
    "#==========================#\n",
    "# monte-carlo simulation\n",
    "# π r^2 / 4 r^2 = s/n \n",
    "#==========================#\n",
    "\n",
    "\n",
    "@everywhere function isInside() \n",
    "    x = rand()\n",
    "    y = rand()\n",
    "    x^2 + y^2 < 1 ? 1 : 0\n",
    "end;\n",
    "\n",
    "@everywhere function ppi(n)\n",
    "    s=@distributed (+) for i = 1:n\n",
    "        isInside()\n",
    "    end\n",
    "    4s/n\n",
    "end;\n",
    "\n",
    "function pi(n)\n",
    "    s=0.0\n",
    "    for i = 1:n\n",
    "        s+=isInside()\n",
    "    end\n",
    "    4s/n\n",
    "end;\n"
   ]
  },
  {
   "cell_type": "code",
   "execution_count": 17,
   "metadata": {},
   "outputs": [
    {
     "name": "stdout",
     "output_type": "stream",
     "text": [
      "  5.981965 seconds (515 allocations: 17.531 KiB)\n"
     ]
    },
    {
     "data": {
      "text/plain": [
       "3.141518076"
      ]
     },
     "execution_count": 17,
     "metadata": {},
     "output_type": "execute_result"
    }
   ],
   "source": [
    "@time ppi(10^9)"
   ]
  },
  {
   "cell_type": "code",
   "execution_count": 16,
   "metadata": {},
   "outputs": [
    {
     "name": "stdout",
     "output_type": "stream",
     "text": [
      "  0.004024 seconds (1.37 k allocations: 80.397 KiB)\n"
     ]
    },
    {
     "data": {
      "text/plain": [
       "3.128"
      ]
     },
     "execution_count": 16,
     "metadata": {},
     "output_type": "execute_result"
    }
   ],
   "source": [
    "@time pi(10^3)"
   ]
  },
  {
   "cell_type": "markdown",
   "metadata": {},
   "source": [
    "## Cross-validation in parallel"
   ]
  },
  {
   "cell_type": "code",
   "execution_count": null,
   "metadata": {},
   "outputs": [],
   "source": [
    "@everywhere using RDatasets\n",
    "@everywhere using Statistics\n",
    "@everywhere using DecisionTree\n",
    "@everywhere using Random\n",
    "\n",
    "@everywhere function partitionTrainTest(data, at = 0.7)\n",
    "    n = nrow(data)\n",
    "    idx = shuffle(1:n)\n",
    "    train_idx = view(idx, 1:floor(Int, at*n))\n",
    "    test_idx = view(idx, (floor(Int, at*n)+1):n)\n",
    "    return (data[train_idx,:], data[test_idx,:])\n",
    "end\n",
    "\n",
    "\n",
    "@everywhere function irisAcc() \n",
    "    iris = dataset(\"datasets\", \"iris\")\n",
    "    train,test = partitionTrainTest(iris, 0.7) # 70% train\n",
    "    xtrain = train[:, 1:4] |>Matrix;\n",
    "    ytrain = train[:, 5] |> Vector{String}\n",
    "    xtest = test[:, 1:4] |>Matrix;\n",
    "    ytest = test[:, 5] |> Vector{String}\n",
    "    model = build_forest(ytrain, xtrain, 2, 4, 0.5, 6);\n",
    "    pred = apply_forest(model,xtest);\n",
    "    sum(ytest .== pred) / length(pred)\n",
    "end"
   ]
  },
  {
   "cell_type": "code",
   "execution_count": 75,
   "metadata": {},
   "outputs": [
    {
     "data": {
      "text/plain": [
       "0.9333333333333333"
      ]
     },
     "execution_count": 75,
     "metadata": {},
     "output_type": "execute_result"
    }
   ],
   "source": [
    "irisAcc()"
   ]
  },
  {
   "cell_type": "code",
   "execution_count": 71,
   "metadata": {},
   "outputs": [
    {
     "name": "stdout",
     "output_type": "stream",
     "text": [
      "Overall Acc:94.47555555555475  0.758686 seconds (1.40 M allocations: 192.921 MiB, 6.81% gc time)\n"
     ]
    }
   ],
   "source": [
    "function mserial(n)\n",
    "    sm=0.0\n",
    "    for i=1:n\n",
    "         sm += irisAcc()\n",
    "    end\n",
    "    print(\"Overall Acc:\",sm/n*100.0)\n",
    "end\n",
    "@time mserial(1000)"
   ]
  },
  {
   "cell_type": "code",
   "execution_count": 73,
   "metadata": {},
   "outputs": [
    {
     "name": "stdout",
     "output_type": "stream",
     "text": [
      "Overall Acc:94.7422222222222  0.310889 seconds (136.63 k allocations: 6.636 MiB)\n"
     ]
    }
   ],
   "source": [
    "function mparallel(n)\n",
    "    s=@distributed (+) for i=1:n\n",
    "        irisAcc()\n",
    "    end\n",
    "    print(\"Overall Acc:\",s/n*100.0)\n",
    "end\n",
    "@time mparallel(1000)"
   ]
  },
  {
   "cell_type": "markdown",
   "metadata": {},
   "source": [
    "## Distributed Arrays"
   ]
  },
  {
   "cell_type": "code",
   "execution_count": 17,
   "metadata": {},
   "outputs": [],
   "source": [
    "@everywhere using DistributedArrays"
   ]
  },
  {
   "cell_type": "code",
   "execution_count": 18,
   "metadata": {},
   "outputs": [
    {
     "data": {
      "text/plain": [
       "20×20 Array{Float64,2}:\n",
       " 9.0  6.0  6.0   9.0   5.0   7.0   7.0  …   0.0   1.0   5.0  8.0  7.0   4.0\n",
       " 5.0  5.0  9.0   7.0   7.0   9.0  10.0      1.0   5.0   8.0  2.0  4.0   8.0\n",
       " 0.0  6.0  4.0   4.0   1.0   7.0   3.0      3.0   4.0   2.0  9.0  4.0   3.0\n",
       " 0.0  5.0  3.0   4.0   7.0   1.0   9.0      7.0   4.0  10.0  0.0  9.0  10.0\n",
       " 7.0  9.0  7.0   2.0   2.0   6.0   8.0      3.0   7.0   8.0  9.0  3.0   0.0\n",
       " 4.0  6.0  6.0   8.0   3.0   7.0   6.0  …  10.0   5.0   0.0  8.0  2.0   0.0\n",
       " 6.0  5.0  1.0   2.0  10.0   8.0   5.0      1.0   0.0  10.0  1.0  3.0   2.0\n",
       " 3.0  8.0  6.0   9.0   9.0   9.0   8.0      9.0  10.0   6.0  9.0  2.0  10.0\n",
       " 1.0  9.0  2.0   5.0   5.0   4.0   7.0      0.0   8.0   9.0  0.0  4.0   7.0\n",
       " 7.0  9.0  7.0   9.0   3.0   6.0   9.0      3.0   6.0   8.0  8.0  9.0   2.0\n",
       " 7.0  8.0  5.0  10.0   8.0   6.0   6.0  …   6.0   8.0   9.0  1.0  6.0   5.0\n",
       " 8.0  8.0  8.0   1.0   1.0   7.0   2.0      5.0   2.0   7.0  1.0  1.0   7.0\n",
       " 8.0  9.0  8.0   2.0   2.0   7.0   1.0      5.0   7.0   3.0  9.0  4.0   1.0\n",
       " 5.0  1.0  1.0   4.0   7.0   3.0   4.0      5.0   8.0   9.0  2.0  5.0   5.0\n",
       " 8.0  3.0  9.0   8.0   9.0   6.0   9.0     10.0   4.0   7.0  6.0  6.0   1.0\n",
       " 9.0  0.0  1.0   1.0   1.0   9.0   7.0  …   5.0   6.0   0.0  9.0  6.0   5.0\n",
       " 7.0  7.0  1.0   3.0   7.0   1.0   5.0      7.0   5.0   1.0  4.0  2.0   5.0\n",
       " 7.0  6.0  7.0   5.0   8.0   1.0   4.0      5.0   2.0   3.0  3.0  7.0   9.0\n",
       " 1.0  1.0  6.0   8.0   5.0   7.0   9.0      4.0   2.0   4.0  6.0  3.0   2.0\n",
       " 3.0  9.0  0.0   4.0   9.0  10.0   9.0      6.0   9.0   3.0  3.0  4.0  10.0"
      ]
     },
     "execution_count": 18,
     "metadata": {},
     "output_type": "execute_result"
    }
   ],
   "source": [
    "a = round.(10*rand(20,20))"
   ]
  },
  {
   "cell_type": "code",
   "execution_count": 19,
   "metadata": {},
   "outputs": [
    {
     "data": {
      "text/plain": [
       "20×20 Array{Int64,2}:\n",
       " 1  1  1  1  1  1  1  1  1  1  1  1  1  1  1  1  1  1  1  1\n",
       " 1  1  1  1  1  1  1  1  1  1  1  1  1  1  1  1  1  1  1  1\n",
       " 1  1  1  1  1  1  1  1  1  1  1  1  1  1  1  1  1  1  1  1\n",
       " 1  1  1  1  1  1  1  1  1  1  1  1  1  1  1  1  1  1  1  1\n",
       " 1  1  1  1  1  1  1  1  1  1  1  1  1  1  1  1  1  1  1  1\n",
       " 1  1  1  1  1  1  1  1  1  1  1  1  1  1  1  1  1  1  1  1\n",
       " 1  1  1  1  1  1  1  1  1  1  1  1  1  1  1  1  1  1  1  1\n",
       " 1  1  1  1  1  1  1  1  1  1  1  1  1  1  1  1  1  1  1  1\n",
       " 1  1  1  1  1  1  1  1  1  1  1  1  1  1  1  1  1  1  1  1\n",
       " 1  1  1  1  1  1  1  1  1  1  1  1  1  1  1  1  1  1  1  1\n",
       " 1  1  1  1  1  1  1  1  1  1  1  1  1  1  1  1  1  1  1  1\n",
       " 1  1  1  1  1  1  1  1  1  1  1  1  1  1  1  1  1  1  1  1\n",
       " 1  1  1  1  1  1  1  1  1  1  1  1  1  1  1  1  1  1  1  1\n",
       " 1  1  1  1  1  1  1  1  1  1  1  1  1  1  1  1  1  1  1  1\n",
       " 1  1  1  1  1  1  1  1  1  1  1  1  1  1  1  1  1  1  1  1\n",
       " 1  1  1  1  1  1  1  1  1  1  1  1  1  1  1  1  1  1  1  1\n",
       " 1  1  1  1  1  1  1  1  1  1  1  1  1  1  1  1  1  1  1  1\n",
       " 1  1  1  1  1  1  1  1  1  1  1  1  1  1  1  1  1  1  1  1\n",
       " 1  1  1  1  1  1  1  1  1  1  1  1  1  1  1  1  1  1  1  1\n",
       " 1  1  1  1  1  1  1  1  1  1  1  1  1  1  1  1  1  1  1  1"
      ]
     },
     "execution_count": 19,
     "metadata": {},
     "output_type": "execute_result"
    }
   ],
   "source": [
    "map(x->myid(),a)"
   ]
  },
  {
   "cell_type": "code",
   "execution_count": 20,
   "metadata": {},
   "outputs": [
    {
     "data": {
      "text/plain": [
       "20×20 DArray{Float64,2,Array{Float64,2}}:\n",
       " 9.0  6.0  6.0   9.0   5.0   7.0   7.0  …   0.0   1.0   5.0  8.0  7.0   4.0\n",
       " 5.0  5.0  9.0   7.0   7.0   9.0  10.0      1.0   5.0   8.0  2.0  4.0   8.0\n",
       " 0.0  6.0  4.0   4.0   1.0   7.0   3.0      3.0   4.0   2.0  9.0  4.0   3.0\n",
       " 0.0  5.0  3.0   4.0   7.0   1.0   9.0      7.0   4.0  10.0  0.0  9.0  10.0\n",
       " 7.0  9.0  7.0   2.0   2.0   6.0   8.0      3.0   7.0   8.0  9.0  3.0   0.0\n",
       " 4.0  6.0  6.0   8.0   3.0   7.0   6.0  …  10.0   5.0   0.0  8.0  2.0   0.0\n",
       " 6.0  5.0  1.0   2.0  10.0   8.0   5.0      1.0   0.0  10.0  1.0  3.0   2.0\n",
       " 3.0  8.0  6.0   9.0   9.0   9.0   8.0      9.0  10.0   6.0  9.0  2.0  10.0\n",
       " 1.0  9.0  2.0   5.0   5.0   4.0   7.0      0.0   8.0   9.0  0.0  4.0   7.0\n",
       " 7.0  9.0  7.0   9.0   3.0   6.0   9.0      3.0   6.0   8.0  8.0  9.0   2.0\n",
       " 7.0  8.0  5.0  10.0   8.0   6.0   6.0  …   6.0   8.0   9.0  1.0  6.0   5.0\n",
       " 8.0  8.0  8.0   1.0   1.0   7.0   2.0      5.0   2.0   7.0  1.0  1.0   7.0\n",
       " 8.0  9.0  8.0   2.0   2.0   7.0   1.0      5.0   7.0   3.0  9.0  4.0   1.0\n",
       " 5.0  1.0  1.0   4.0   7.0   3.0   4.0      5.0   8.0   9.0  2.0  5.0   5.0\n",
       " 8.0  3.0  9.0   8.0   9.0   6.0   9.0     10.0   4.0   7.0  6.0  6.0   1.0\n",
       " 9.0  0.0  1.0   1.0   1.0   9.0   7.0  …   5.0   6.0   0.0  9.0  6.0   5.0\n",
       " 7.0  7.0  1.0   3.0   7.0   1.0   5.0      7.0   5.0   1.0  4.0  2.0   5.0\n",
       " 7.0  6.0  7.0   5.0   8.0   1.0   4.0      5.0   2.0   3.0  3.0  7.0   9.0\n",
       " 1.0  1.0  6.0   8.0   5.0   7.0   9.0      4.0   2.0   4.0  6.0  3.0   2.0\n",
       " 3.0  9.0  0.0   4.0   9.0  10.0   9.0      6.0   9.0   3.0  3.0  4.0  10.0"
      ]
     },
     "execution_count": 20,
     "metadata": {},
     "output_type": "execute_result"
    }
   ],
   "source": [
    "da = distribute(a)"
   ]
  },
  {
   "cell_type": "code",
   "execution_count": 21,
   "metadata": {},
   "outputs": [
    {
     "data": {
      "text/plain": [
       "20×20 DArray{Int64,2,Array{Int64,2}}:\n",
       " 2  2  2  2  2  2  2  3  3  3  3  3  3  3  4  4  4  4  4  4\n",
       " 2  2  2  2  2  2  2  3  3  3  3  3  3  3  4  4  4  4  4  4\n",
       " 2  2  2  2  2  2  2  3  3  3  3  3  3  3  4  4  4  4  4  4\n",
       " 2  2  2  2  2  2  2  3  3  3  3  3  3  3  4  4  4  4  4  4\n",
       " 2  2  2  2  2  2  2  3  3  3  3  3  3  3  4  4  4  4  4  4\n",
       " 2  2  2  2  2  2  2  3  3  3  3  3  3  3  4  4  4  4  4  4\n",
       " 2  2  2  2  2  2  2  3  3  3  3  3  3  3  4  4  4  4  4  4\n",
       " 2  2  2  2  2  2  2  3  3  3  3  3  3  3  4  4  4  4  4  4\n",
       " 2  2  2  2  2  2  2  3  3  3  3  3  3  3  4  4  4  4  4  4\n",
       " 2  2  2  2  2  2  2  3  3  3  3  3  3  3  4  4  4  4  4  4\n",
       " 2  2  2  2  2  2  2  3  3  3  3  3  3  3  4  4  4  4  4  4\n",
       " 2  2  2  2  2  2  2  3  3  3  3  3  3  3  4  4  4  4  4  4\n",
       " 2  2  2  2  2  2  2  3  3  3  3  3  3  3  4  4  4  4  4  4\n",
       " 2  2  2  2  2  2  2  3  3  3  3  3  3  3  4  4  4  4  4  4\n",
       " 2  2  2  2  2  2  2  3  3  3  3  3  3  3  4  4  4  4  4  4\n",
       " 2  2  2  2  2  2  2  3  3  3  3  3  3  3  4  4  4  4  4  4\n",
       " 2  2  2  2  2  2  2  3  3  3  3  3  3  3  4  4  4  4  4  4\n",
       " 2  2  2  2  2  2  2  3  3  3  3  3  3  3  4  4  4  4  4  4\n",
       " 2  2  2  2  2  2  2  3  3  3  3  3  3  3  4  4  4  4  4  4\n",
       " 2  2  2  2  2  2  2  3  3  3  3  3  3  3  4  4  4  4  4  4"
      ]
     },
     "execution_count": 21,
     "metadata": {},
     "output_type": "execute_result"
    }
   ],
   "source": [
    "map(x->myid(),da)"
   ]
  },
  {
   "cell_type": "code",
   "execution_count": 22,
   "metadata": {},
   "outputs": [
    {
     "data": {
      "text/plain": [
       "1×3 Array{Int64,2}:\n",
       " 2  3  4"
      ]
     },
     "execution_count": 22,
     "metadata": {},
     "output_type": "execute_result"
    }
   ],
   "source": [
    "da.pids"
   ]
  },
  {
   "cell_type": "code",
   "execution_count": 23,
   "metadata": {},
   "outputs": [
    {
     "data": {
      "text/plain": [
       "1×3 Array{Future,2}:\n",
       " Future(2, 1, 3358, nothing)  …  Future(4, 1, 3360, nothing)"
      ]
     },
     "execution_count": 23,
     "metadata": {},
     "output_type": "execute_result"
    }
   ],
   "source": [
    "[@spawnat p sum(localpart(da)) for p in da.pids]"
   ]
  },
  {
   "cell_type": "code",
   "execution_count": 24,
   "metadata": {},
   "outputs": [
    {
     "data": {
      "text/plain": [
       "1×3 Array{Float64,2}:\n",
       " 785.0  694.0  595.0"
      ]
     },
     "execution_count": 24,
     "metadata": {},
     "output_type": "execute_result"
    }
   ],
   "source": [
    "map(fetch,[@spawnat p sum(localpart(da)) for p in da.pids])"
   ]
  },
  {
   "cell_type": "code",
   "execution_count": 25,
   "metadata": {},
   "outputs": [
    {
     "data": {
      "text/plain": [
       "2074.0"
      ]
     },
     "execution_count": 25,
     "metadata": {},
     "output_type": "execute_result"
    }
   ],
   "source": [
    "reduce(+,map(fetch,[@spawnat p sum(localpart(da)) for p in da.pids]))"
   ]
  },
  {
   "cell_type": "code",
   "execution_count": 26,
   "metadata": {},
   "outputs": [
    {
     "data": {
      "text/plain": [
       "2074.0"
      ]
     },
     "execution_count": 26,
     "metadata": {},
     "output_type": "execute_result"
    }
   ],
   "source": [
    "sum(da)"
   ]
  },
  {
   "cell_type": "code",
   "execution_count": 27,
   "metadata": {},
   "outputs": [
    {
     "data": {
      "text/plain": [
       "CodeInfo(\n",
       "\u001b[90m1 ─\u001b[39m %1 = Base.identity\u001b[36m::typeof(identity)\u001b[39m\n",
       "\u001b[90m│  \u001b[39m %2 = Base.add_sum\u001b[36m::typeof(Base.add_sum)\u001b[39m\n",
       "\u001b[90m│  \u001b[39m %3 = invoke Base._mapreduce(%1::Function, %2::Function, $(QuoteNode(IndexCartesian()))::IndexCartesian, _2::DArray{Float64,2,Array{Float64,2}})\u001b[36m::Any\u001b[39m\n",
       "\u001b[90m└──\u001b[39m      return %3\n",
       ") => Any"
      ]
     },
     "execution_count": 27,
     "metadata": {},
     "output_type": "execute_result"
    }
   ],
   "source": [
    "@code_typed sum(da)"
   ]
  },
  {
   "cell_type": "code",
   "execution_count": null,
   "metadata": {},
   "outputs": [],
   "source": []
  }
 ],
 "metadata": {
  "@webio": {
   "lastCommId": null,
   "lastKernelId": null
  },
  "kernelspec": {
   "display_name": "Julia 1.6.1",
   "language": "julia",
   "name": "julia-1.6"
  },
  "language_info": {
   "file_extension": ".jl",
   "mimetype": "application/julia",
   "name": "julia",
   "version": "1.3.1"
  }
 },
 "nbformat": 4,
 "nbformat_minor": 2
}
